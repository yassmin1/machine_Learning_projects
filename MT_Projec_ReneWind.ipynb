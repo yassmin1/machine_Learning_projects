{
  "cells": [
    {
      "cell_type": "markdown",
      "metadata": {
        "id": "x3-QehJxbp0t"
      },
      "source": [
        "# ReneWind\n",
        "\n",
        "Renewable energy sources play an increasingly important role in the global energy mix, as the effort to reduce the environmental impact of energy production increases.\n",
        "\n",
        "Out of all the renewable energy alternatives, wind energy is one of the most developed technologies worldwide. The U.S Department of Energy has put together a guide to achieving operational efficiency using predictive maintenance practices.\n",
        "\n",
        "Predictive maintenance uses sensor information and analysis methods to measure and predict degradation and future component capability. The idea behind predictive maintenance is that failure patterns are predictable and if component failure can be predicted accurately and the component is replaced before it fails, the costs of operation and maintenance will be much lower.\n",
        "\n",
        "The sensors fitted across different machines involved in the process of energy generation collect data related to various environmental factors (temperature, humidity, wind speed, etc.) and additional features related to various parts of the wind turbine (gearbox, tower, blades, break, etc.). \n",
        "\n",
        "\n",
        "\n",
        "## Objective\n",
        "“ReneWind” is a company working on improving the machinery/processes involved in the production of wind energy using machine learning and has collected data of generator failure of wind turbines using sensors. They have shared a ciphered version of the data, as the data collected through sensors is confidential (the type of data collected varies with companies). Data has 40 predictors, 20000 observations in the training set and 5000 in the test set.\n",
        "\n",
        "The objective is to build various classification models, tune them, and find the best one that will help identify failures so that the generators could be repaired before failing/breaking to reduce the overall maintenance cost. \n",
        "The nature of predictions made by the classification model will translate as follows:\n",
        "\n",
        "- True positives (TP) are failures correctly predicted by the model. These will result in repairing costs.\n",
        "- False negatives (FN) are real failures where there is no detection by the model. These will result in replacement costs.\n",
        "- False positives (FP) are detections where there is no failure. These will result in inspection costs.\n",
        "\n",
        "It is given that the cost of repairing a generator is much less than the cost of replacing it, and the cost of inspection is less than the cost of repair.\n",
        "\n",
        "“1” in the target variables should be considered as “failure” and “0” represents “No failure”.\n",
        "\n",
        "## Data Description\n",
        "- The data provided is a transformed version of original data which was collected using sensors.\n",
        "- Train.csv - To be used for training and tuning of models. \n",
        "- Test.csv - To be used only for testing the performance of the final best model.\n",
        "- Both the datasets consist of 40 predictor variables and 1 target variable"
      ]
    },
    {
      "cell_type": "markdown",
      "metadata": {
        "id": "NbHOIdlwcrqR"
      },
      "source": [
        "### **Please read the instructions carefully before starting the project.** \n",
        "This is a commented Jupyter IPython Notebook file in which all the instructions and tasks to be performed are mentioned. \n",
        "* Blanks '_______' are provided in the notebook that \n",
        "needs to be filled with an appropriate code to get the correct result. With every '_______' blank, there is a comment that briefly describes what needs to be filled in the blank space. \n",
        "* Identify the task to be performed correctly, and only then proceed to write the required code.\n",
        "* Fill the code wherever asked by the commented lines like \"# write your code here\" or \"# complete the code\". Running incomplete code may throw error.\n",
        "* Please run the codes in a sequential manner from the beginning to avoid any unnecessary errors.\n",
        "* Add the results/observations (wherever mentioned) derived from the analysis in the presentation and submit the same.\n"
      ]
    },
    {
      "cell_type": "markdown",
      "metadata": {
        "id": "xypQC_9dbp0v"
      },
      "source": [
        "## Importing libraries"
      ]
    },
    {
      "cell_type": "code",
      "execution_count": 1,
      "metadata": {
        "id": "dbiVVX6hbp0v"
      },
      "outputs": [
        {
          "data": {
            "application/javascript": "\n            setTimeout(function() {\n                var nbb_cell_id = 1;\n                var nbb_unformatted_code = \"# This will help in making the Python code more structured automatically (good coding practice)\\n%load_ext nb_black\\n\\n# Libraries to help with reading and manipulating data\\nimport pandas as pd\\nimport numpy as np\\n\\n# Libaries to help with data visualization\\nimport matplotlib.pyplot as plt\\nimport seaborn as sns\\n\\n# To tune model, get different metric scores, and split data\\nfrom sklearn.metrics import (\\n    f1_score,\\n    accuracy_score,\\n    recall_score,\\n    precision_score,\\n    confusion_matrix,\\n    roc_auc_score,\\n    plot_confusion_matrix,\\n)\\nfrom sklearn import metrics\\n\\nfrom sklearn.model_selection import train_test_split, StratifiedKFold, cross_val_score\\n\\n# To be used for data scaling and one hot encoding\\nfrom sklearn.preprocessing import StandardScaler, MinMaxScaler, OneHotEncoder\\n\\n# To impute missing values\\nfrom sklearn.impute import SimpleImputer\\n\\n# To oversample and undersample data\\nfrom imblearn.over_sampling import SMOTE\\nfrom imblearn.under_sampling import RandomUnderSampler\\n\\n# To do hyperparameter tuning\\nfrom sklearn.model_selection import RandomizedSearchCV\\n\\n# To be used for creating pipelines and personalizing them\\nfrom sklearn.pipeline import Pipeline\\nfrom sklearn.compose import ColumnTransformer\\n\\n# To define maximum number of columns to be displayed in a dataframe\\npd.set_option(\\\"display.max_columns\\\", None)\\npd.set_option(\\\"display.max_rows\\\", None)\\n\\n# To supress scientific notations for a dataframe\\npd.set_option(\\\"display.float_format\\\", lambda x: \\\"%.3f\\\" % x)\\n\\n# To help with model building\\nfrom sklearn.linear_model import LogisticRegression\\nfrom sklearn.tree import DecisionTreeClassifier\\nfrom sklearn.ensemble import (\\n    AdaBoostClassifier,\\n    GradientBoostingClassifier,\\n    RandomForestClassifier,\\n    BaggingClassifier,\\n)\\nfrom xgboost import XGBClassifier\\n\\n# To suppress scientific notations\\npd.set_option(\\\"display.float_format\\\", lambda x: \\\"%.3f\\\" % x)\\n\\n# To suppress warnings\\nimport warnings\\n\\nwarnings.filterwarnings(\\\"ignore\\\")\\nsns.set_style(\\\"white\\\")\";\n                var nbb_formatted_code = \"# This will help in making the Python code more structured automatically (good coding practice)\\n%load_ext nb_black\\n\\n# Libraries to help with reading and manipulating data\\nimport pandas as pd\\nimport numpy as np\\n\\n# Libaries to help with data visualization\\nimport matplotlib.pyplot as plt\\nimport seaborn as sns\\n\\n# To tune model, get different metric scores, and split data\\nfrom sklearn.metrics import (\\n    f1_score,\\n    accuracy_score,\\n    recall_score,\\n    precision_score,\\n    confusion_matrix,\\n    roc_auc_score,\\n    plot_confusion_matrix,\\n)\\nfrom sklearn import metrics\\n\\nfrom sklearn.model_selection import train_test_split, StratifiedKFold, cross_val_score\\n\\n# To be used for data scaling and one hot encoding\\nfrom sklearn.preprocessing import StandardScaler, MinMaxScaler, OneHotEncoder\\n\\n# To impute missing values\\nfrom sklearn.impute import SimpleImputer\\n\\n# To oversample and undersample data\\nfrom imblearn.over_sampling import SMOTE\\nfrom imblearn.under_sampling import RandomUnderSampler\\n\\n# To do hyperparameter tuning\\nfrom sklearn.model_selection import RandomizedSearchCV\\n\\n# To be used for creating pipelines and personalizing them\\nfrom sklearn.pipeline import Pipeline\\nfrom sklearn.compose import ColumnTransformer\\n\\n# To define maximum number of columns to be displayed in a dataframe\\npd.set_option(\\\"display.max_columns\\\", None)\\npd.set_option(\\\"display.max_rows\\\", None)\\n\\n# To supress scientific notations for a dataframe\\npd.set_option(\\\"display.float_format\\\", lambda x: \\\"%.3f\\\" % x)\\n\\n# To help with model building\\nfrom sklearn.linear_model import LogisticRegression\\nfrom sklearn.tree import DecisionTreeClassifier\\nfrom sklearn.ensemble import (\\n    AdaBoostClassifier,\\n    GradientBoostingClassifier,\\n    RandomForestClassifier,\\n    BaggingClassifier,\\n)\\nfrom xgboost import XGBClassifier\\n\\n# To suppress scientific notations\\npd.set_option(\\\"display.float_format\\\", lambda x: \\\"%.3f\\\" % x)\\n\\n# To suppress warnings\\nimport warnings\\n\\nwarnings.filterwarnings(\\\"ignore\\\")\\nsns.set_style(\\\"white\\\")\";\n                var nbb_cells = Jupyter.notebook.get_cells();\n                for (var i = 0; i < nbb_cells.length; ++i) {\n                    if (nbb_cells[i].input_prompt_number == nbb_cell_id) {\n                        if (nbb_cells[i].get_text() == nbb_unformatted_code) {\n                             nbb_cells[i].set_text(nbb_formatted_code);\n                        }\n                        break;\n                    }\n                }\n            }, 500);\n            ",
            "text/plain": [
              "<IPython.core.display.Javascript object>"
            ]
          },
          "metadata": {},
          "output_type": "display_data"
        }
      ],
      "source": [
        "# This will help in making the Python code more structured automatically (good coding practice)\n",
        "%load_ext nb_black\n",
        "\n",
        "# Libraries to help with reading and manipulating data\n",
        "import pandas as pd\n",
        "import numpy as np\n",
        "\n",
        "# Libaries to help with data visualization\n",
        "import matplotlib.pyplot as plt\n",
        "import seaborn as sns\n",
        "\n",
        "# To tune model, get different metric scores, and split data\n",
        "from sklearn.metrics import (\n",
        "    f1_score,\n",
        "    accuracy_score,\n",
        "    recall_score,\n",
        "    precision_score,\n",
        "    confusion_matrix,\n",
        "    roc_auc_score,\n",
        "    plot_confusion_matrix,\n",
        ")\n",
        "from sklearn import metrics\n",
        "\n",
        "from sklearn.model_selection import train_test_split, StratifiedKFold, cross_val_score\n",
        "\n",
        "# To be used for data scaling and one hot encoding\n",
        "from sklearn.preprocessing import StandardScaler, MinMaxScaler, OneHotEncoder\n",
        "\n",
        "# To impute missing values\n",
        "from sklearn.impute import SimpleImputer\n",
        "\n",
        "# To oversample and undersample data\n",
        "from imblearn.over_sampling import SMOTE\n",
        "from imblearn.under_sampling import RandomUnderSampler\n",
        "\n",
        "# To do hyperparameter tuning\n",
        "from sklearn.model_selection import RandomizedSearchCV\n",
        "\n",
        "# To be used for creating pipelines and personalizing them\n",
        "from sklearn.pipeline import Pipeline\n",
        "from sklearn.compose import ColumnTransformer\n",
        "\n",
        "# To define maximum number of columns to be displayed in a dataframe\n",
        "pd.set_option(\"display.max_columns\", None)\n",
        "pd.set_option(\"display.max_rows\", None)\n",
        "\n",
        "# To supress scientific notations for a dataframe\n",
        "pd.set_option(\"display.float_format\", lambda x: \"%.3f\" % x)\n",
        "\n",
        "# To help with model building\n",
        "from sklearn.linear_model import LogisticRegression\n",
        "from sklearn.tree import DecisionTreeClassifier\n",
        "from sklearn.ensemble import (\n",
        "    AdaBoostClassifier,\n",
        "    GradientBoostingClassifier,\n",
        "    RandomForestClassifier,\n",
        "    BaggingClassifier,\n",
        ")\n",
        "from xgboost import XGBClassifier\n",
        "\n",
        "# To suppress scientific notations\n",
        "pd.set_option(\"display.float_format\", lambda x: \"%.3f\" % x)\n",
        "\n",
        "# To suppress warnings\n",
        "import warnings\n",
        "\n",
        "warnings.filterwarnings(\"ignore\")\n",
        "sns.set_style(\"white\")\n"
      ]
    },
    {
      "cell_type": "markdown",
      "metadata": {
        "id": "zfmaS2U7bp0x"
      },
      "source": [
        "## Loading Data"
      ]
    },
    {
      "cell_type": "code",
      "execution_count": 2,
      "metadata": {
        "id": "39UgpBY3bp0y"
      },
      "outputs": [
        {
          "data": {
            "application/javascript": "\n            setTimeout(function() {\n                var nbb_cell_id = 2;\n                var nbb_unformatted_code = \"df = pd.read_csv('Train.csv.csv') ##  Complete the code to read the data\\ndf_test = pd.read_csv('Test.csv.csv') ##  Complete the code to read the data\";\n                var nbb_formatted_code = \"df = pd.read_csv(\\\"Train.csv.csv\\\")  ##  Complete the code to read the data\\ndf_test = pd.read_csv(\\\"Test.csv.csv\\\")  ##  Complete the code to read the data\";\n                var nbb_cells = Jupyter.notebook.get_cells();\n                for (var i = 0; i < nbb_cells.length; ++i) {\n                    if (nbb_cells[i].input_prompt_number == nbb_cell_id) {\n                        if (nbb_cells[i].get_text() == nbb_unformatted_code) {\n                             nbb_cells[i].set_text(nbb_formatted_code);\n                        }\n                        break;\n                    }\n                }\n            }, 500);\n            ",
            "text/plain": [
              "<IPython.core.display.Javascript object>"
            ]
          },
          "metadata": {},
          "output_type": "display_data"
        }
      ],
      "source": [
        "df = pd.read_csv('Train.csv.csv') ##  Complete the code to read the data\n",
        "df_test = pd.read_csv('Test.csv.csv') ##  Complete the code to read the data\n"
      ]
    },
    {
      "cell_type": "code",
      "execution_count": 3,
      "metadata": {
        "id": "7Y8epHpjbp0z"
      },
      "outputs": [
        {
          "data": {
            "text/plain": [
              "(20000, 41)"
            ]
          },
          "execution_count": 3,
          "metadata": {},
          "output_type": "execute_result"
        },
        {
          "data": {
            "application/javascript": "\n            setTimeout(function() {\n                var nbb_cell_id = 3;\n                var nbb_unformatted_code = \"# Checking the number of rows and columns in the training data\\ndf.shape ##  Complete the code to view dimensions of the train data\";\n                var nbb_formatted_code = \"# Checking the number of rows and columns in the training data\\ndf.shape  ##  Complete the code to view dimensions of the train data\";\n                var nbb_cells = Jupyter.notebook.get_cells();\n                for (var i = 0; i < nbb_cells.length; ++i) {\n                    if (nbb_cells[i].input_prompt_number == nbb_cell_id) {\n                        if (nbb_cells[i].get_text() == nbb_unformatted_code) {\n                             nbb_cells[i].set_text(nbb_formatted_code);\n                        }\n                        break;\n                    }\n                }\n            }, 500);\n            ",
            "text/plain": [
              "<IPython.core.display.Javascript object>"
            ]
          },
          "metadata": {},
          "output_type": "display_data"
        }
      ],
      "source": [
        "# Checking the number of rows and columns in the training data\n",
        "df.shape ##  Complete the code to view dimensions of the train data"
      ]
    },
    {
      "cell_type": "code",
      "execution_count": 4,
      "metadata": {
        "id": "hA15qTjzbp01"
      },
      "outputs": [
        {
          "data": {
            "text/plain": [
              "(5000, 41)"
            ]
          },
          "execution_count": 4,
          "metadata": {},
          "output_type": "execute_result"
        },
        {
          "data": {
            "application/javascript": "\n            setTimeout(function() {\n                var nbb_cell_id = 4;\n                var nbb_unformatted_code = \"# Checking the number of rows and columns in the test data\\ndf_test.shape ##  Complete the code to view dimensions of the test data\";\n                var nbb_formatted_code = \"# Checking the number of rows and columns in the test data\\ndf_test.shape  ##  Complete the code to view dimensions of the test data\";\n                var nbb_cells = Jupyter.notebook.get_cells();\n                for (var i = 0; i < nbb_cells.length; ++i) {\n                    if (nbb_cells[i].input_prompt_number == nbb_cell_id) {\n                        if (nbb_cells[i].get_text() == nbb_unformatted_code) {\n                             nbb_cells[i].set_text(nbb_formatted_code);\n                        }\n                        break;\n                    }\n                }\n            }, 500);\n            ",
            "text/plain": [
              "<IPython.core.display.Javascript object>"
            ]
          },
          "metadata": {},
          "output_type": "display_data"
        }
      ],
      "source": [
        "# Checking the number of rows and columns in the test data\n",
        "df_test.shape ##  Complete the code to view dimensions of the test data"
      ]
    },
    {
      "cell_type": "markdown",
      "metadata": {
        "id": "4cVx5kZHbp02"
      },
      "source": [
        "## Data Overview"
      ]
    },
    {
      "cell_type": "code",
      "execution_count": 5,
      "metadata": {
        "id": "QTsYJZBubp02"
      },
      "outputs": [
        {
          "data": {
            "application/javascript": "\n            setTimeout(function() {\n                var nbb_cell_id = 5;\n                var nbb_unformatted_code = \"# let's create a copy of the training data\\ndata = df.copy()\";\n                var nbb_formatted_code = \"# let's create a copy of the training data\\ndata = df.copy()\";\n                var nbb_cells = Jupyter.notebook.get_cells();\n                for (var i = 0; i < nbb_cells.length; ++i) {\n                    if (nbb_cells[i].input_prompt_number == nbb_cell_id) {\n                        if (nbb_cells[i].get_text() == nbb_unformatted_code) {\n                             nbb_cells[i].set_text(nbb_formatted_code);\n                        }\n                        break;\n                    }\n                }\n            }, 500);\n            ",
            "text/plain": [
              "<IPython.core.display.Javascript object>"
            ]
          },
          "metadata": {},
          "output_type": "display_data"
        }
      ],
      "source": [
        "# let's create a copy of the training data\n",
        "data = df.copy()"
      ]
    },
    {
      "cell_type": "code",
      "execution_count": 6,
      "metadata": {
        "id": "69ImWbLXbp03"
      },
      "outputs": [
        {
          "data": {
            "application/javascript": "\n            setTimeout(function() {\n                var nbb_cell_id = 6;\n                var nbb_unformatted_code = \"# let's create a copy of the training data\\ndata_test = df_test.copy()\";\n                var nbb_formatted_code = \"# let's create a copy of the training data\\ndata_test = df_test.copy()\";\n                var nbb_cells = Jupyter.notebook.get_cells();\n                for (var i = 0; i < nbb_cells.length; ++i) {\n                    if (nbb_cells[i].input_prompt_number == nbb_cell_id) {\n                        if (nbb_cells[i].get_text() == nbb_unformatted_code) {\n                             nbb_cells[i].set_text(nbb_formatted_code);\n                        }\n                        break;\n                    }\n                }\n            }, 500);\n            ",
            "text/plain": [
              "<IPython.core.display.Javascript object>"
            ]
          },
          "metadata": {},
          "output_type": "display_data"
        }
      ],
      "source": [
        "# let's create a copy of the training data\n",
        "data_test = df_test.copy()"
      ]
    },
    {
      "cell_type": "code",
      "execution_count": 7,
      "metadata": {
        "id": "l9RnN7Twbp03"
      },
      "outputs": [
        {
          "data": {
            "text/html": [
              "<div>\n",
              "<style scoped>\n",
              "    .dataframe tbody tr th:only-of-type {\n",
              "        vertical-align: middle;\n",
              "    }\n",
              "\n",
              "    .dataframe tbody tr th {\n",
              "        vertical-align: top;\n",
              "    }\n",
              "\n",
              "    .dataframe thead th {\n",
              "        text-align: right;\n",
              "    }\n",
              "</style>\n",
              "<table border=\"1\" class=\"dataframe\">\n",
              "  <thead>\n",
              "    <tr style=\"text-align: right;\">\n",
              "      <th></th>\n",
              "      <th>V1</th>\n",
              "      <th>V2</th>\n",
              "      <th>V3</th>\n",
              "      <th>V4</th>\n",
              "      <th>V5</th>\n",
              "      <th>V6</th>\n",
              "      <th>V7</th>\n",
              "      <th>V8</th>\n",
              "      <th>V9</th>\n",
              "      <th>V10</th>\n",
              "      <th>V11</th>\n",
              "      <th>V12</th>\n",
              "      <th>V13</th>\n",
              "      <th>V14</th>\n",
              "      <th>V15</th>\n",
              "      <th>V16</th>\n",
              "      <th>V17</th>\n",
              "      <th>V18</th>\n",
              "      <th>V19</th>\n",
              "      <th>V20</th>\n",
              "      <th>V21</th>\n",
              "      <th>V22</th>\n",
              "      <th>V23</th>\n",
              "      <th>V24</th>\n",
              "      <th>V25</th>\n",
              "      <th>V26</th>\n",
              "      <th>V27</th>\n",
              "      <th>V28</th>\n",
              "      <th>V29</th>\n",
              "      <th>V30</th>\n",
              "      <th>V31</th>\n",
              "      <th>V32</th>\n",
              "      <th>V33</th>\n",
              "      <th>V34</th>\n",
              "      <th>V35</th>\n",
              "      <th>V36</th>\n",
              "      <th>V37</th>\n",
              "      <th>V38</th>\n",
              "      <th>V39</th>\n",
              "      <th>V40</th>\n",
              "      <th>Target</th>\n",
              "    </tr>\n",
              "  </thead>\n",
              "  <tbody>\n",
              "    <tr>\n",
              "      <th>0</th>\n",
              "      <td>-4.465</td>\n",
              "      <td>-4.679</td>\n",
              "      <td>3.102</td>\n",
              "      <td>0.506</td>\n",
              "      <td>-0.221</td>\n",
              "      <td>-2.033</td>\n",
              "      <td>-2.911</td>\n",
              "      <td>0.051</td>\n",
              "      <td>-1.522</td>\n",
              "      <td>3.762</td>\n",
              "      <td>-5.715</td>\n",
              "      <td>0.736</td>\n",
              "      <td>0.981</td>\n",
              "      <td>1.418</td>\n",
              "      <td>-3.376</td>\n",
              "      <td>-3.047</td>\n",
              "      <td>0.306</td>\n",
              "      <td>2.914</td>\n",
              "      <td>2.270</td>\n",
              "      <td>4.395</td>\n",
              "      <td>-2.388</td>\n",
              "      <td>0.646</td>\n",
              "      <td>-1.191</td>\n",
              "      <td>3.133</td>\n",
              "      <td>0.665</td>\n",
              "      <td>-2.511</td>\n",
              "      <td>-0.037</td>\n",
              "      <td>0.726</td>\n",
              "      <td>-3.982</td>\n",
              "      <td>-1.073</td>\n",
              "      <td>1.667</td>\n",
              "      <td>3.060</td>\n",
              "      <td>-1.690</td>\n",
              "      <td>2.846</td>\n",
              "      <td>2.235</td>\n",
              "      <td>6.667</td>\n",
              "      <td>0.444</td>\n",
              "      <td>-2.369</td>\n",
              "      <td>2.951</td>\n",
              "      <td>-3.480</td>\n",
              "      <td>0</td>\n",
              "    </tr>\n",
              "    <tr>\n",
              "      <th>1</th>\n",
              "      <td>3.366</td>\n",
              "      <td>3.653</td>\n",
              "      <td>0.910</td>\n",
              "      <td>-1.368</td>\n",
              "      <td>0.332</td>\n",
              "      <td>2.359</td>\n",
              "      <td>0.733</td>\n",
              "      <td>-4.332</td>\n",
              "      <td>0.566</td>\n",
              "      <td>-0.101</td>\n",
              "      <td>1.914</td>\n",
              "      <td>-0.951</td>\n",
              "      <td>-1.255</td>\n",
              "      <td>-2.707</td>\n",
              "      <td>0.193</td>\n",
              "      <td>-4.769</td>\n",
              "      <td>-2.205</td>\n",
              "      <td>0.908</td>\n",
              "      <td>0.757</td>\n",
              "      <td>-5.834</td>\n",
              "      <td>-3.065</td>\n",
              "      <td>1.597</td>\n",
              "      <td>-1.757</td>\n",
              "      <td>1.766</td>\n",
              "      <td>-0.267</td>\n",
              "      <td>3.625</td>\n",
              "      <td>1.500</td>\n",
              "      <td>-0.586</td>\n",
              "      <td>0.783</td>\n",
              "      <td>-0.201</td>\n",
              "      <td>0.025</td>\n",
              "      <td>-1.795</td>\n",
              "      <td>3.033</td>\n",
              "      <td>-2.468</td>\n",
              "      <td>1.895</td>\n",
              "      <td>-2.298</td>\n",
              "      <td>-1.731</td>\n",
              "      <td>5.909</td>\n",
              "      <td>-0.386</td>\n",
              "      <td>0.616</td>\n",
              "      <td>0</td>\n",
              "    </tr>\n",
              "    <tr>\n",
              "      <th>2</th>\n",
              "      <td>-3.832</td>\n",
              "      <td>-5.824</td>\n",
              "      <td>0.634</td>\n",
              "      <td>-2.419</td>\n",
              "      <td>-1.774</td>\n",
              "      <td>1.017</td>\n",
              "      <td>-2.099</td>\n",
              "      <td>-3.173</td>\n",
              "      <td>-2.082</td>\n",
              "      <td>5.393</td>\n",
              "      <td>-0.771</td>\n",
              "      <td>1.107</td>\n",
              "      <td>1.144</td>\n",
              "      <td>0.943</td>\n",
              "      <td>-3.164</td>\n",
              "      <td>-4.248</td>\n",
              "      <td>-4.039</td>\n",
              "      <td>3.689</td>\n",
              "      <td>3.311</td>\n",
              "      <td>1.059</td>\n",
              "      <td>-2.143</td>\n",
              "      <td>1.650</td>\n",
              "      <td>-1.661</td>\n",
              "      <td>1.680</td>\n",
              "      <td>-0.451</td>\n",
              "      <td>-4.551</td>\n",
              "      <td>3.739</td>\n",
              "      <td>1.134</td>\n",
              "      <td>-2.034</td>\n",
              "      <td>0.841</td>\n",
              "      <td>-1.600</td>\n",
              "      <td>-0.257</td>\n",
              "      <td>0.804</td>\n",
              "      <td>4.086</td>\n",
              "      <td>2.292</td>\n",
              "      <td>5.361</td>\n",
              "      <td>0.352</td>\n",
              "      <td>2.940</td>\n",
              "      <td>3.839</td>\n",
              "      <td>-4.309</td>\n",
              "      <td>0</td>\n",
              "    </tr>\n",
              "    <tr>\n",
              "      <th>3</th>\n",
              "      <td>1.618</td>\n",
              "      <td>1.888</td>\n",
              "      <td>7.046</td>\n",
              "      <td>-1.147</td>\n",
              "      <td>0.083</td>\n",
              "      <td>-1.530</td>\n",
              "      <td>0.207</td>\n",
              "      <td>-2.494</td>\n",
              "      <td>0.345</td>\n",
              "      <td>2.119</td>\n",
              "      <td>-3.053</td>\n",
              "      <td>0.460</td>\n",
              "      <td>2.705</td>\n",
              "      <td>-0.636</td>\n",
              "      <td>-0.454</td>\n",
              "      <td>-3.174</td>\n",
              "      <td>-3.404</td>\n",
              "      <td>-1.282</td>\n",
              "      <td>1.582</td>\n",
              "      <td>-1.952</td>\n",
              "      <td>-3.517</td>\n",
              "      <td>-1.206</td>\n",
              "      <td>-5.628</td>\n",
              "      <td>-1.818</td>\n",
              "      <td>2.124</td>\n",
              "      <td>5.295</td>\n",
              "      <td>4.748</td>\n",
              "      <td>-2.309</td>\n",
              "      <td>-3.963</td>\n",
              "      <td>-6.029</td>\n",
              "      <td>4.949</td>\n",
              "      <td>-3.584</td>\n",
              "      <td>-2.577</td>\n",
              "      <td>1.364</td>\n",
              "      <td>0.623</td>\n",
              "      <td>5.550</td>\n",
              "      <td>-1.527</td>\n",
              "      <td>0.139</td>\n",
              "      <td>3.101</td>\n",
              "      <td>-1.277</td>\n",
              "      <td>0</td>\n",
              "    </tr>\n",
              "    <tr>\n",
              "      <th>4</th>\n",
              "      <td>-0.111</td>\n",
              "      <td>3.872</td>\n",
              "      <td>-3.758</td>\n",
              "      <td>-2.983</td>\n",
              "      <td>3.793</td>\n",
              "      <td>0.545</td>\n",
              "      <td>0.205</td>\n",
              "      <td>4.849</td>\n",
              "      <td>-1.855</td>\n",
              "      <td>-6.220</td>\n",
              "      <td>1.998</td>\n",
              "      <td>4.724</td>\n",
              "      <td>0.709</td>\n",
              "      <td>-1.989</td>\n",
              "      <td>-2.633</td>\n",
              "      <td>4.184</td>\n",
              "      <td>2.245</td>\n",
              "      <td>3.734</td>\n",
              "      <td>-6.313</td>\n",
              "      <td>-5.380</td>\n",
              "      <td>-0.887</td>\n",
              "      <td>2.062</td>\n",
              "      <td>9.446</td>\n",
              "      <td>4.490</td>\n",
              "      <td>-3.945</td>\n",
              "      <td>4.582</td>\n",
              "      <td>-8.780</td>\n",
              "      <td>-3.383</td>\n",
              "      <td>5.107</td>\n",
              "      <td>6.788</td>\n",
              "      <td>2.044</td>\n",
              "      <td>8.266</td>\n",
              "      <td>6.629</td>\n",
              "      <td>-10.069</td>\n",
              "      <td>1.223</td>\n",
              "      <td>-3.230</td>\n",
              "      <td>1.687</td>\n",
              "      <td>-2.164</td>\n",
              "      <td>-3.645</td>\n",
              "      <td>6.510</td>\n",
              "      <td>0</td>\n",
              "    </tr>\n",
              "  </tbody>\n",
              "</table>\n",
              "</div>"
            ],
            "text/plain": [
              "      V1     V2     V3     V4     V5     V6     V7     V8     V9    V10  \\\n",
              "0 -4.465 -4.679  3.102  0.506 -0.221 -2.033 -2.911  0.051 -1.522  3.762   \n",
              "1  3.366  3.653  0.910 -1.368  0.332  2.359  0.733 -4.332  0.566 -0.101   \n",
              "2 -3.832 -5.824  0.634 -2.419 -1.774  1.017 -2.099 -3.173 -2.082  5.393   \n",
              "3  1.618  1.888  7.046 -1.147  0.083 -1.530  0.207 -2.494  0.345  2.119   \n",
              "4 -0.111  3.872 -3.758 -2.983  3.793  0.545  0.205  4.849 -1.855 -6.220   \n",
              "\n",
              "     V11    V12    V13    V14    V15    V16    V17    V18    V19    V20  \\\n",
              "0 -5.715  0.736  0.981  1.418 -3.376 -3.047  0.306  2.914  2.270  4.395   \n",
              "1  1.914 -0.951 -1.255 -2.707  0.193 -4.769 -2.205  0.908  0.757 -5.834   \n",
              "2 -0.771  1.107  1.144  0.943 -3.164 -4.248 -4.039  3.689  3.311  1.059   \n",
              "3 -3.053  0.460  2.705 -0.636 -0.454 -3.174 -3.404 -1.282  1.582 -1.952   \n",
              "4  1.998  4.724  0.709 -1.989 -2.633  4.184  2.245  3.734 -6.313 -5.380   \n",
              "\n",
              "     V21    V22    V23    V24    V25    V26    V27    V28    V29    V30  \\\n",
              "0 -2.388  0.646 -1.191  3.133  0.665 -2.511 -0.037  0.726 -3.982 -1.073   \n",
              "1 -3.065  1.597 -1.757  1.766 -0.267  3.625  1.500 -0.586  0.783 -0.201   \n",
              "2 -2.143  1.650 -1.661  1.680 -0.451 -4.551  3.739  1.134 -2.034  0.841   \n",
              "3 -3.517 -1.206 -5.628 -1.818  2.124  5.295  4.748 -2.309 -3.963 -6.029   \n",
              "4 -0.887  2.062  9.446  4.490 -3.945  4.582 -8.780 -3.383  5.107  6.788   \n",
              "\n",
              "     V31    V32    V33     V34   V35    V36    V37    V38    V39    V40  \\\n",
              "0  1.667  3.060 -1.690   2.846 2.235  6.667  0.444 -2.369  2.951 -3.480   \n",
              "1  0.025 -1.795  3.033  -2.468 1.895 -2.298 -1.731  5.909 -0.386  0.616   \n",
              "2 -1.600 -0.257  0.804   4.086 2.292  5.361  0.352  2.940  3.839 -4.309   \n",
              "3  4.949 -3.584 -2.577   1.364 0.623  5.550 -1.527  0.139  3.101 -1.277   \n",
              "4  2.044  8.266  6.629 -10.069 1.223 -3.230  1.687 -2.164 -3.645  6.510   \n",
              "\n",
              "   Target  \n",
              "0       0  \n",
              "1       0  \n",
              "2       0  \n",
              "3       0  \n",
              "4       0  "
            ]
          },
          "execution_count": 7,
          "metadata": {},
          "output_type": "execute_result"
        },
        {
          "data": {
            "application/javascript": "\n            setTimeout(function() {\n                var nbb_cell_id = 7;\n                var nbb_unformatted_code = \"# let's view the first 5 rows of the data\\ndata.head() ##  Complete the code to view top 5 rows of the data\";\n                var nbb_formatted_code = \"# let's view the first 5 rows of the data\\ndata.head()  ##  Complete the code to view top 5 rows of the data\";\n                var nbb_cells = Jupyter.notebook.get_cells();\n                for (var i = 0; i < nbb_cells.length; ++i) {\n                    if (nbb_cells[i].input_prompt_number == nbb_cell_id) {\n                        if (nbb_cells[i].get_text() == nbb_unformatted_code) {\n                             nbb_cells[i].set_text(nbb_formatted_code);\n                        }\n                        break;\n                    }\n                }\n            }, 500);\n            ",
            "text/plain": [
              "<IPython.core.display.Javascript object>"
            ]
          },
          "metadata": {},
          "output_type": "display_data"
        }
      ],
      "source": [
        "# let's view the first 5 rows of the data\n",
        "data.head() ##  Complete the code to view top 5 rows of the data"
      ]
    },
    {
      "cell_type": "code",
      "execution_count": 8,
      "metadata": {
        "id": "N9Ir8YPgbp04"
      },
      "outputs": [
        {
          "data": {
            "text/html": [
              "<div>\n",
              "<style scoped>\n",
              "    .dataframe tbody tr th:only-of-type {\n",
              "        vertical-align: middle;\n",
              "    }\n",
              "\n",
              "    .dataframe tbody tr th {\n",
              "        vertical-align: top;\n",
              "    }\n",
              "\n",
              "    .dataframe thead th {\n",
              "        text-align: right;\n",
              "    }\n",
              "</style>\n",
              "<table border=\"1\" class=\"dataframe\">\n",
              "  <thead>\n",
              "    <tr style=\"text-align: right;\">\n",
              "      <th></th>\n",
              "      <th>V1</th>\n",
              "      <th>V2</th>\n",
              "      <th>V3</th>\n",
              "      <th>V4</th>\n",
              "      <th>V5</th>\n",
              "      <th>V6</th>\n",
              "      <th>V7</th>\n",
              "      <th>V8</th>\n",
              "      <th>V9</th>\n",
              "      <th>V10</th>\n",
              "      <th>V11</th>\n",
              "      <th>V12</th>\n",
              "      <th>V13</th>\n",
              "      <th>V14</th>\n",
              "      <th>V15</th>\n",
              "      <th>V16</th>\n",
              "      <th>V17</th>\n",
              "      <th>V18</th>\n",
              "      <th>V19</th>\n",
              "      <th>V20</th>\n",
              "      <th>V21</th>\n",
              "      <th>V22</th>\n",
              "      <th>V23</th>\n",
              "      <th>V24</th>\n",
              "      <th>V25</th>\n",
              "      <th>V26</th>\n",
              "      <th>V27</th>\n",
              "      <th>V28</th>\n",
              "      <th>V29</th>\n",
              "      <th>V30</th>\n",
              "      <th>V31</th>\n",
              "      <th>V32</th>\n",
              "      <th>V33</th>\n",
              "      <th>V34</th>\n",
              "      <th>V35</th>\n",
              "      <th>V36</th>\n",
              "      <th>V37</th>\n",
              "      <th>V38</th>\n",
              "      <th>V39</th>\n",
              "      <th>V40</th>\n",
              "      <th>Target</th>\n",
              "    </tr>\n",
              "  </thead>\n",
              "  <tbody>\n",
              "    <tr>\n",
              "      <th>19995</th>\n",
              "      <td>-2.071</td>\n",
              "      <td>-1.088</td>\n",
              "      <td>-0.796</td>\n",
              "      <td>-3.012</td>\n",
              "      <td>-2.288</td>\n",
              "      <td>2.807</td>\n",
              "      <td>0.481</td>\n",
              "      <td>0.105</td>\n",
              "      <td>-0.587</td>\n",
              "      <td>-2.899</td>\n",
              "      <td>8.868</td>\n",
              "      <td>1.717</td>\n",
              "      <td>1.358</td>\n",
              "      <td>-1.777</td>\n",
              "      <td>0.710</td>\n",
              "      <td>4.945</td>\n",
              "      <td>-3.100</td>\n",
              "      <td>-1.199</td>\n",
              "      <td>-1.085</td>\n",
              "      <td>-0.365</td>\n",
              "      <td>3.131</td>\n",
              "      <td>-3.948</td>\n",
              "      <td>-3.578</td>\n",
              "      <td>-8.139</td>\n",
              "      <td>-1.937</td>\n",
              "      <td>-1.328</td>\n",
              "      <td>-0.403</td>\n",
              "      <td>-1.735</td>\n",
              "      <td>9.996</td>\n",
              "      <td>6.955</td>\n",
              "      <td>-3.938</td>\n",
              "      <td>-8.274</td>\n",
              "      <td>5.745</td>\n",
              "      <td>0.589</td>\n",
              "      <td>-0.650</td>\n",
              "      <td>-3.043</td>\n",
              "      <td>2.216</td>\n",
              "      <td>0.609</td>\n",
              "      <td>0.178</td>\n",
              "      <td>2.928</td>\n",
              "      <td>1</td>\n",
              "    </tr>\n",
              "    <tr>\n",
              "      <th>19996</th>\n",
              "      <td>2.890</td>\n",
              "      <td>2.483</td>\n",
              "      <td>5.644</td>\n",
              "      <td>0.937</td>\n",
              "      <td>-1.381</td>\n",
              "      <td>0.412</td>\n",
              "      <td>-1.593</td>\n",
              "      <td>-5.762</td>\n",
              "      <td>2.150</td>\n",
              "      <td>0.272</td>\n",
              "      <td>-2.095</td>\n",
              "      <td>-1.526</td>\n",
              "      <td>0.072</td>\n",
              "      <td>-3.540</td>\n",
              "      <td>-2.762</td>\n",
              "      <td>-10.632</td>\n",
              "      <td>-0.495</td>\n",
              "      <td>1.720</td>\n",
              "      <td>3.872</td>\n",
              "      <td>-1.210</td>\n",
              "      <td>-8.222</td>\n",
              "      <td>2.121</td>\n",
              "      <td>-5.492</td>\n",
              "      <td>1.452</td>\n",
              "      <td>1.450</td>\n",
              "      <td>3.685</td>\n",
              "      <td>1.077</td>\n",
              "      <td>-0.384</td>\n",
              "      <td>-0.839</td>\n",
              "      <td>-0.748</td>\n",
              "      <td>-1.089</td>\n",
              "      <td>-4.159</td>\n",
              "      <td>1.181</td>\n",
              "      <td>-0.742</td>\n",
              "      <td>5.369</td>\n",
              "      <td>-0.693</td>\n",
              "      <td>-1.669</td>\n",
              "      <td>3.660</td>\n",
              "      <td>0.820</td>\n",
              "      <td>-1.987</td>\n",
              "      <td>0</td>\n",
              "    </tr>\n",
              "    <tr>\n",
              "      <th>19997</th>\n",
              "      <td>-3.897</td>\n",
              "      <td>-3.942</td>\n",
              "      <td>-0.351</td>\n",
              "      <td>-2.417</td>\n",
              "      <td>1.108</td>\n",
              "      <td>-1.528</td>\n",
              "      <td>-3.520</td>\n",
              "      <td>2.055</td>\n",
              "      <td>-0.234</td>\n",
              "      <td>-0.358</td>\n",
              "      <td>-3.782</td>\n",
              "      <td>2.180</td>\n",
              "      <td>6.112</td>\n",
              "      <td>1.985</td>\n",
              "      <td>-8.330</td>\n",
              "      <td>-1.639</td>\n",
              "      <td>-0.915</td>\n",
              "      <td>5.672</td>\n",
              "      <td>-3.924</td>\n",
              "      <td>2.133</td>\n",
              "      <td>-4.502</td>\n",
              "      <td>2.777</td>\n",
              "      <td>5.728</td>\n",
              "      <td>1.620</td>\n",
              "      <td>-1.700</td>\n",
              "      <td>-0.042</td>\n",
              "      <td>-2.923</td>\n",
              "      <td>-2.760</td>\n",
              "      <td>-2.254</td>\n",
              "      <td>2.552</td>\n",
              "      <td>0.982</td>\n",
              "      <td>7.112</td>\n",
              "      <td>1.476</td>\n",
              "      <td>-3.954</td>\n",
              "      <td>1.856</td>\n",
              "      <td>5.029</td>\n",
              "      <td>2.083</td>\n",
              "      <td>-6.409</td>\n",
              "      <td>1.477</td>\n",
              "      <td>-0.874</td>\n",
              "      <td>0</td>\n",
              "    </tr>\n",
              "    <tr>\n",
              "      <th>19998</th>\n",
              "      <td>-3.187</td>\n",
              "      <td>-10.052</td>\n",
              "      <td>5.696</td>\n",
              "      <td>-4.370</td>\n",
              "      <td>-5.355</td>\n",
              "      <td>-1.873</td>\n",
              "      <td>-3.947</td>\n",
              "      <td>0.679</td>\n",
              "      <td>-2.389</td>\n",
              "      <td>5.457</td>\n",
              "      <td>1.583</td>\n",
              "      <td>3.571</td>\n",
              "      <td>9.227</td>\n",
              "      <td>2.554</td>\n",
              "      <td>-7.039</td>\n",
              "      <td>-0.994</td>\n",
              "      <td>-9.665</td>\n",
              "      <td>1.155</td>\n",
              "      <td>3.877</td>\n",
              "      <td>3.524</td>\n",
              "      <td>-7.015</td>\n",
              "      <td>-0.132</td>\n",
              "      <td>-3.446</td>\n",
              "      <td>-4.801</td>\n",
              "      <td>-0.876</td>\n",
              "      <td>-3.812</td>\n",
              "      <td>5.422</td>\n",
              "      <td>-3.732</td>\n",
              "      <td>0.609</td>\n",
              "      <td>5.256</td>\n",
              "      <td>1.915</td>\n",
              "      <td>0.403</td>\n",
              "      <td>3.164</td>\n",
              "      <td>3.752</td>\n",
              "      <td>8.530</td>\n",
              "      <td>8.451</td>\n",
              "      <td>0.204</td>\n",
              "      <td>-7.130</td>\n",
              "      <td>4.249</td>\n",
              "      <td>-6.112</td>\n",
              "      <td>0</td>\n",
              "    </tr>\n",
              "    <tr>\n",
              "      <th>19999</th>\n",
              "      <td>-2.687</td>\n",
              "      <td>1.961</td>\n",
              "      <td>6.137</td>\n",
              "      <td>2.600</td>\n",
              "      <td>2.657</td>\n",
              "      <td>-4.291</td>\n",
              "      <td>-2.344</td>\n",
              "      <td>0.974</td>\n",
              "      <td>-1.027</td>\n",
              "      <td>0.497</td>\n",
              "      <td>-9.589</td>\n",
              "      <td>3.177</td>\n",
              "      <td>1.055</td>\n",
              "      <td>-1.416</td>\n",
              "      <td>-4.669</td>\n",
              "      <td>-5.405</td>\n",
              "      <td>3.720</td>\n",
              "      <td>2.893</td>\n",
              "      <td>2.329</td>\n",
              "      <td>1.458</td>\n",
              "      <td>-6.429</td>\n",
              "      <td>1.818</td>\n",
              "      <td>0.806</td>\n",
              "      <td>7.786</td>\n",
              "      <td>0.331</td>\n",
              "      <td>5.257</td>\n",
              "      <td>-4.867</td>\n",
              "      <td>-0.819</td>\n",
              "      <td>-5.667</td>\n",
              "      <td>-2.861</td>\n",
              "      <td>4.674</td>\n",
              "      <td>6.621</td>\n",
              "      <td>-1.989</td>\n",
              "      <td>-1.349</td>\n",
              "      <td>3.952</td>\n",
              "      <td>5.450</td>\n",
              "      <td>-0.455</td>\n",
              "      <td>-2.202</td>\n",
              "      <td>1.678</td>\n",
              "      <td>-1.974</td>\n",
              "      <td>0</td>\n",
              "    </tr>\n",
              "  </tbody>\n",
              "</table>\n",
              "</div>"
            ],
            "text/plain": [
              "          V1      V2     V3     V4     V5     V6     V7     V8     V9    V10  \\\n",
              "19995 -2.071  -1.088 -0.796 -3.012 -2.288  2.807  0.481  0.105 -0.587 -2.899   \n",
              "19996  2.890   2.483  5.644  0.937 -1.381  0.412 -1.593 -5.762  2.150  0.272   \n",
              "19997 -3.897  -3.942 -0.351 -2.417  1.108 -1.528 -3.520  2.055 -0.234 -0.358   \n",
              "19998 -3.187 -10.052  5.696 -4.370 -5.355 -1.873 -3.947  0.679 -2.389  5.457   \n",
              "19999 -2.687   1.961  6.137  2.600  2.657 -4.291 -2.344  0.974 -1.027  0.497   \n",
              "\n",
              "         V11    V12   V13    V14    V15     V16    V17    V18    V19    V20  \\\n",
              "19995  8.868  1.717 1.358 -1.777  0.710   4.945 -3.100 -1.199 -1.085 -0.365   \n",
              "19996 -2.095 -1.526 0.072 -3.540 -2.762 -10.632 -0.495  1.720  3.872 -1.210   \n",
              "19997 -3.782  2.180 6.112  1.985 -8.330  -1.639 -0.915  5.672 -3.924  2.133   \n",
              "19998  1.583  3.571 9.227  2.554 -7.039  -0.994 -9.665  1.155  3.877  3.524   \n",
              "19999 -9.589  3.177 1.055 -1.416 -4.669  -5.405  3.720  2.893  2.329  1.458   \n",
              "\n",
              "         V21    V22    V23    V24    V25    V26    V27    V28    V29    V30  \\\n",
              "19995  3.131 -3.948 -3.578 -8.139 -1.937 -1.328 -0.403 -1.735  9.996  6.955   \n",
              "19996 -8.222  2.121 -5.492  1.452  1.450  3.685  1.077 -0.384 -0.839 -0.748   \n",
              "19997 -4.502  2.777  5.728  1.620 -1.700 -0.042 -2.923 -2.760 -2.254  2.552   \n",
              "19998 -7.015 -0.132 -3.446 -4.801 -0.876 -3.812  5.422 -3.732  0.609  5.256   \n",
              "19999 -6.429  1.818  0.806  7.786  0.331  5.257 -4.867 -0.819 -5.667 -2.861   \n",
              "\n",
              "         V31    V32    V33    V34    V35    V36    V37    V38   V39    V40  \\\n",
              "19995 -3.938 -8.274  5.745  0.589 -0.650 -3.043  2.216  0.609 0.178  2.928   \n",
              "19996 -1.089 -4.159  1.181 -0.742  5.369 -0.693 -1.669  3.660 0.820 -1.987   \n",
              "19997  0.982  7.112  1.476 -3.954  1.856  5.029  2.083 -6.409 1.477 -0.874   \n",
              "19998  1.915  0.403  3.164  3.752  8.530  8.451  0.204 -7.130 4.249 -6.112   \n",
              "19999  4.674  6.621 -1.989 -1.349  3.952  5.450 -0.455 -2.202 1.678 -1.974   \n",
              "\n",
              "       Target  \n",
              "19995       1  \n",
              "19996       0  \n",
              "19997       0  \n",
              "19998       0  \n",
              "19999       0  "
            ]
          },
          "execution_count": 8,
          "metadata": {},
          "output_type": "execute_result"
        },
        {
          "data": {
            "application/javascript": "\n            setTimeout(function() {\n                var nbb_cell_id = 8;\n                var nbb_unformatted_code = \"# let's view the last 5 rows of the data\\ndata.tail()##  Complete the code to view last 5 rows of the data  \";\n                var nbb_formatted_code = \"# let's view the last 5 rows of the data\\ndata.tail()  ##  Complete the code to view last 5 rows of the data\";\n                var nbb_cells = Jupyter.notebook.get_cells();\n                for (var i = 0; i < nbb_cells.length; ++i) {\n                    if (nbb_cells[i].input_prompt_number == nbb_cell_id) {\n                        if (nbb_cells[i].get_text() == nbb_unformatted_code) {\n                             nbb_cells[i].set_text(nbb_formatted_code);\n                        }\n                        break;\n                    }\n                }\n            }, 500);\n            ",
            "text/plain": [
              "<IPython.core.display.Javascript object>"
            ]
          },
          "metadata": {},
          "output_type": "display_data"
        }
      ],
      "source": [
        "# let's view the last 5 rows of the data\n",
        "data.tail()##  Complete the code to view last 5 rows of the data  "
      ]
    },
    {
      "cell_type": "code",
      "execution_count": 9,
      "metadata": {
        "id": "EXBYJoKkbp04"
      },
      "outputs": [
        {
          "name": "stdout",
          "output_type": "stream",
          "text": [
            "<class 'pandas.core.frame.DataFrame'>\n",
            "RangeIndex: 20000 entries, 0 to 19999\n",
            "Data columns (total 41 columns):\n",
            " #   Column  Non-Null Count  Dtype  \n",
            "---  ------  --------------  -----  \n",
            " 0   V1      19982 non-null  float64\n",
            " 1   V2      19982 non-null  float64\n",
            " 2   V3      20000 non-null  float64\n",
            " 3   V4      20000 non-null  float64\n",
            " 4   V5      20000 non-null  float64\n",
            " 5   V6      20000 non-null  float64\n",
            " 6   V7      20000 non-null  float64\n",
            " 7   V8      20000 non-null  float64\n",
            " 8   V9      20000 non-null  float64\n",
            " 9   V10     20000 non-null  float64\n",
            " 10  V11     20000 non-null  float64\n",
            " 11  V12     20000 non-null  float64\n",
            " 12  V13     20000 non-null  float64\n",
            " 13  V14     20000 non-null  float64\n",
            " 14  V15     20000 non-null  float64\n",
            " 15  V16     20000 non-null  float64\n",
            " 16  V17     20000 non-null  float64\n",
            " 17  V18     20000 non-null  float64\n",
            " 18  V19     20000 non-null  float64\n",
            " 19  V20     20000 non-null  float64\n",
            " 20  V21     20000 non-null  float64\n",
            " 21  V22     20000 non-null  float64\n",
            " 22  V23     20000 non-null  float64\n",
            " 23  V24     20000 non-null  float64\n",
            " 24  V25     20000 non-null  float64\n",
            " 25  V26     20000 non-null  float64\n",
            " 26  V27     20000 non-null  float64\n",
            " 27  V28     20000 non-null  float64\n",
            " 28  V29     20000 non-null  float64\n",
            " 29  V30     20000 non-null  float64\n",
            " 30  V31     20000 non-null  float64\n",
            " 31  V32     20000 non-null  float64\n",
            " 32  V33     20000 non-null  float64\n",
            " 33  V34     20000 non-null  float64\n",
            " 34  V35     20000 non-null  float64\n",
            " 35  V36     20000 non-null  float64\n",
            " 36  V37     20000 non-null  float64\n",
            " 37  V38     20000 non-null  float64\n",
            " 38  V39     20000 non-null  float64\n",
            " 39  V40     20000 non-null  float64\n",
            " 40  Target  20000 non-null  int64  \n",
            "dtypes: float64(40), int64(1)\n",
            "memory usage: 6.3 MB\n"
          ]
        },
        {
          "data": {
            "application/javascript": "\n            setTimeout(function() {\n                var nbb_cell_id = 9;\n                var nbb_unformatted_code = \"# let's check the data types of the columns in the dataset\\ndata.info()\";\n                var nbb_formatted_code = \"# let's check the data types of the columns in the dataset\\ndata.info()\";\n                var nbb_cells = Jupyter.notebook.get_cells();\n                for (var i = 0; i < nbb_cells.length; ++i) {\n                    if (nbb_cells[i].input_prompt_number == nbb_cell_id) {\n                        if (nbb_cells[i].get_text() == nbb_unformatted_code) {\n                             nbb_cells[i].set_text(nbb_formatted_code);\n                        }\n                        break;\n                    }\n                }\n            }, 500);\n            ",
            "text/plain": [
              "<IPython.core.display.Javascript object>"
            ]
          },
          "metadata": {},
          "output_type": "display_data"
        }
      ],
      "source": [
        "# let's check the data types of the columns in the dataset\n",
        "data.info()"
      ]
    },
    {
      "cell_type": "code",
      "execution_count": 10,
      "metadata": {
        "id": "V0EmBHNmbp04"
      },
      "outputs": [
        {
          "data": {
            "text/plain": [
              "False"
            ]
          },
          "execution_count": 10,
          "metadata": {},
          "output_type": "execute_result"
        },
        {
          "data": {
            "application/javascript": "\n            setTimeout(function() {\n                var nbb_cell_id = 10;\n                var nbb_unformatted_code = \"# let's check for duplicate values in the data\\ndata.duplicated().any() ##  Complete the code to check duplicate entries in the data\";\n                var nbb_formatted_code = \"# let's check for duplicate values in the data\\ndata.duplicated().any()  ##  Complete the code to check duplicate entries in the data\";\n                var nbb_cells = Jupyter.notebook.get_cells();\n                for (var i = 0; i < nbb_cells.length; ++i) {\n                    if (nbb_cells[i].input_prompt_number == nbb_cell_id) {\n                        if (nbb_cells[i].get_text() == nbb_unformatted_code) {\n                             nbb_cells[i].set_text(nbb_formatted_code);\n                        }\n                        break;\n                    }\n                }\n            }, 500);\n            ",
            "text/plain": [
              "<IPython.core.display.Javascript object>"
            ]
          },
          "metadata": {},
          "output_type": "display_data"
        }
      ],
      "source": [
        "# let's check for duplicate values in the data\n",
        "data.duplicated().any() ##  Complete the code to check duplicate entries in the data"
      ]
    },
    {
      "cell_type": "code",
      "execution_count": 11,
      "metadata": {
        "id": "SlwFZm-Jbp05"
      },
      "outputs": [
        {
          "data": {
            "text/plain": [
              "V1        18\n",
              "V2        18\n",
              "V3         0\n",
              "V4         0\n",
              "V5         0\n",
              "V6         0\n",
              "V7         0\n",
              "V8         0\n",
              "V9         0\n",
              "V10        0\n",
              "V11        0\n",
              "V12        0\n",
              "V13        0\n",
              "V14        0\n",
              "V15        0\n",
              "V16        0\n",
              "V17        0\n",
              "V18        0\n",
              "V19        0\n",
              "V20        0\n",
              "V21        0\n",
              "V22        0\n",
              "V23        0\n",
              "V24        0\n",
              "V25        0\n",
              "V26        0\n",
              "V27        0\n",
              "V28        0\n",
              "V29        0\n",
              "V30        0\n",
              "V31        0\n",
              "V32        0\n",
              "V33        0\n",
              "V34        0\n",
              "V35        0\n",
              "V36        0\n",
              "V37        0\n",
              "V38        0\n",
              "V39        0\n",
              "V40        0\n",
              "Target     0\n",
              "dtype: int64"
            ]
          },
          "execution_count": 11,
          "metadata": {},
          "output_type": "execute_result"
        },
        {
          "data": {
            "application/javascript": "\n            setTimeout(function() {\n                var nbb_cell_id = 11;\n                var nbb_unformatted_code = \"# let's check for missing values in the data\\ndata.isna().sum() ##  Complete the code to check missing entries in the train data\";\n                var nbb_formatted_code = \"# let's check for missing values in the data\\ndata.isna().sum()  ##  Complete the code to check missing entries in the train data\";\n                var nbb_cells = Jupyter.notebook.get_cells();\n                for (var i = 0; i < nbb_cells.length; ++i) {\n                    if (nbb_cells[i].input_prompt_number == nbb_cell_id) {\n                        if (nbb_cells[i].get_text() == nbb_unformatted_code) {\n                             nbb_cells[i].set_text(nbb_formatted_code);\n                        }\n                        break;\n                    }\n                }\n            }, 500);\n            ",
            "text/plain": [
              "<IPython.core.display.Javascript object>"
            ]
          },
          "metadata": {},
          "output_type": "display_data"
        }
      ],
      "source": [
        "# let's check for missing values in the data\n",
        "data.isna().sum() ##  Complete the code to check missing entries in the train data"
      ]
    },
    {
      "cell_type": "code",
      "execution_count": 12,
      "metadata": {
        "id": "33bar6robp06"
      },
      "outputs": [
        {
          "data": {
            "text/plain": [
              "V1        5\n",
              "V2        6\n",
              "V3        0\n",
              "V4        0\n",
              "V5        0\n",
              "V6        0\n",
              "V7        0\n",
              "V8        0\n",
              "V9        0\n",
              "V10       0\n",
              "V11       0\n",
              "V12       0\n",
              "V13       0\n",
              "V14       0\n",
              "V15       0\n",
              "V16       0\n",
              "V17       0\n",
              "V18       0\n",
              "V19       0\n",
              "V20       0\n",
              "V21       0\n",
              "V22       0\n",
              "V23       0\n",
              "V24       0\n",
              "V25       0\n",
              "V26       0\n",
              "V27       0\n",
              "V28       0\n",
              "V29       0\n",
              "V30       0\n",
              "V31       0\n",
              "V32       0\n",
              "V33       0\n",
              "V34       0\n",
              "V35       0\n",
              "V36       0\n",
              "V37       0\n",
              "V38       0\n",
              "V39       0\n",
              "V40       0\n",
              "Target    0\n",
              "dtype: int64"
            ]
          },
          "execution_count": 12,
          "metadata": {},
          "output_type": "execute_result"
        },
        {
          "data": {
            "application/javascript": "\n            setTimeout(function() {\n                var nbb_cell_id = 12;\n                var nbb_unformatted_code = \"# let's check for missing values in the data\\ndata_test.isna().sum() ##  Complete the code to check missing entries in the test data\";\n                var nbb_formatted_code = \"# let's check for missing values in the data\\ndata_test.isna().sum()  ##  Complete the code to check missing entries in the test data\";\n                var nbb_cells = Jupyter.notebook.get_cells();\n                for (var i = 0; i < nbb_cells.length; ++i) {\n                    if (nbb_cells[i].input_prompt_number == nbb_cell_id) {\n                        if (nbb_cells[i].get_text() == nbb_unformatted_code) {\n                             nbb_cells[i].set_text(nbb_formatted_code);\n                        }\n                        break;\n                    }\n                }\n            }, 500);\n            ",
            "text/plain": [
              "<IPython.core.display.Javascript object>"
            ]
          },
          "metadata": {},
          "output_type": "display_data"
        }
      ],
      "source": [
        "# let's check for missing values in the data\n",
        "data_test.isna().sum() ##  Complete the code to check missing entries in the test data"
      ]
    },
    {
      "cell_type": "code",
      "execution_count": 13,
      "metadata": {
        "id": "J6lzvHKCbp06"
      },
      "outputs": [
        {
          "data": {
            "text/html": [
              "<div>\n",
              "<style scoped>\n",
              "    .dataframe tbody tr th:only-of-type {\n",
              "        vertical-align: middle;\n",
              "    }\n",
              "\n",
              "    .dataframe tbody tr th {\n",
              "        vertical-align: top;\n",
              "    }\n",
              "\n",
              "    .dataframe thead th {\n",
              "        text-align: right;\n",
              "    }\n",
              "</style>\n",
              "<table border=\"1\" class=\"dataframe\">\n",
              "  <thead>\n",
              "    <tr style=\"text-align: right;\">\n",
              "      <th></th>\n",
              "      <th>count</th>\n",
              "      <th>mean</th>\n",
              "      <th>std</th>\n",
              "      <th>min</th>\n",
              "      <th>25%</th>\n",
              "      <th>50%</th>\n",
              "      <th>75%</th>\n",
              "      <th>max</th>\n",
              "    </tr>\n",
              "  </thead>\n",
              "  <tbody>\n",
              "    <tr>\n",
              "      <th>V1</th>\n",
              "      <td>19982.000</td>\n",
              "      <td>-0.272</td>\n",
              "      <td>3.442</td>\n",
              "      <td>-11.876</td>\n",
              "      <td>-2.737</td>\n",
              "      <td>-0.748</td>\n",
              "      <td>1.840</td>\n",
              "      <td>15.493</td>\n",
              "    </tr>\n",
              "    <tr>\n",
              "      <th>V2</th>\n",
              "      <td>19982.000</td>\n",
              "      <td>0.440</td>\n",
              "      <td>3.151</td>\n",
              "      <td>-12.320</td>\n",
              "      <td>-1.641</td>\n",
              "      <td>0.472</td>\n",
              "      <td>2.544</td>\n",
              "      <td>13.089</td>\n",
              "    </tr>\n",
              "    <tr>\n",
              "      <th>V3</th>\n",
              "      <td>20000.000</td>\n",
              "      <td>2.485</td>\n",
              "      <td>3.389</td>\n",
              "      <td>-10.708</td>\n",
              "      <td>0.207</td>\n",
              "      <td>2.256</td>\n",
              "      <td>4.566</td>\n",
              "      <td>17.091</td>\n",
              "    </tr>\n",
              "    <tr>\n",
              "      <th>V4</th>\n",
              "      <td>20000.000</td>\n",
              "      <td>-0.083</td>\n",
              "      <td>3.432</td>\n",
              "      <td>-15.082</td>\n",
              "      <td>-2.348</td>\n",
              "      <td>-0.135</td>\n",
              "      <td>2.131</td>\n",
              "      <td>13.236</td>\n",
              "    </tr>\n",
              "    <tr>\n",
              "      <th>V5</th>\n",
              "      <td>20000.000</td>\n",
              "      <td>-0.054</td>\n",
              "      <td>2.105</td>\n",
              "      <td>-8.603</td>\n",
              "      <td>-1.536</td>\n",
              "      <td>-0.102</td>\n",
              "      <td>1.340</td>\n",
              "      <td>8.134</td>\n",
              "    </tr>\n",
              "    <tr>\n",
              "      <th>V6</th>\n",
              "      <td>20000.000</td>\n",
              "      <td>-0.995</td>\n",
              "      <td>2.041</td>\n",
              "      <td>-10.227</td>\n",
              "      <td>-2.347</td>\n",
              "      <td>-1.001</td>\n",
              "      <td>0.380</td>\n",
              "      <td>6.976</td>\n",
              "    </tr>\n",
              "    <tr>\n",
              "      <th>V7</th>\n",
              "      <td>20000.000</td>\n",
              "      <td>-0.879</td>\n",
              "      <td>1.762</td>\n",
              "      <td>-7.950</td>\n",
              "      <td>-2.031</td>\n",
              "      <td>-0.917</td>\n",
              "      <td>0.224</td>\n",
              "      <td>8.006</td>\n",
              "    </tr>\n",
              "    <tr>\n",
              "      <th>V8</th>\n",
              "      <td>20000.000</td>\n",
              "      <td>-0.548</td>\n",
              "      <td>3.296</td>\n",
              "      <td>-15.658</td>\n",
              "      <td>-2.643</td>\n",
              "      <td>-0.389</td>\n",
              "      <td>1.723</td>\n",
              "      <td>11.679</td>\n",
              "    </tr>\n",
              "    <tr>\n",
              "      <th>V9</th>\n",
              "      <td>20000.000</td>\n",
              "      <td>-0.017</td>\n",
              "      <td>2.161</td>\n",
              "      <td>-8.596</td>\n",
              "      <td>-1.495</td>\n",
              "      <td>-0.068</td>\n",
              "      <td>1.409</td>\n",
              "      <td>8.138</td>\n",
              "    </tr>\n",
              "    <tr>\n",
              "      <th>V10</th>\n",
              "      <td>20000.000</td>\n",
              "      <td>-0.013</td>\n",
              "      <td>2.193</td>\n",
              "      <td>-9.854</td>\n",
              "      <td>-1.411</td>\n",
              "      <td>0.101</td>\n",
              "      <td>1.477</td>\n",
              "      <td>8.108</td>\n",
              "    </tr>\n",
              "    <tr>\n",
              "      <th>V11</th>\n",
              "      <td>20000.000</td>\n",
              "      <td>-1.895</td>\n",
              "      <td>3.124</td>\n",
              "      <td>-14.832</td>\n",
              "      <td>-3.922</td>\n",
              "      <td>-1.921</td>\n",
              "      <td>0.119</td>\n",
              "      <td>11.826</td>\n",
              "    </tr>\n",
              "    <tr>\n",
              "      <th>V12</th>\n",
              "      <td>20000.000</td>\n",
              "      <td>1.605</td>\n",
              "      <td>2.930</td>\n",
              "      <td>-12.948</td>\n",
              "      <td>-0.397</td>\n",
              "      <td>1.508</td>\n",
              "      <td>3.571</td>\n",
              "      <td>15.081</td>\n",
              "    </tr>\n",
              "    <tr>\n",
              "      <th>V13</th>\n",
              "      <td>20000.000</td>\n",
              "      <td>1.580</td>\n",
              "      <td>2.875</td>\n",
              "      <td>-13.228</td>\n",
              "      <td>-0.224</td>\n",
              "      <td>1.637</td>\n",
              "      <td>3.460</td>\n",
              "      <td>15.420</td>\n",
              "    </tr>\n",
              "    <tr>\n",
              "      <th>V14</th>\n",
              "      <td>20000.000</td>\n",
              "      <td>-0.951</td>\n",
              "      <td>1.790</td>\n",
              "      <td>-7.739</td>\n",
              "      <td>-2.171</td>\n",
              "      <td>-0.957</td>\n",
              "      <td>0.271</td>\n",
              "      <td>5.671</td>\n",
              "    </tr>\n",
              "    <tr>\n",
              "      <th>V15</th>\n",
              "      <td>20000.000</td>\n",
              "      <td>-2.415</td>\n",
              "      <td>3.355</td>\n",
              "      <td>-16.417</td>\n",
              "      <td>-4.415</td>\n",
              "      <td>-2.383</td>\n",
              "      <td>-0.359</td>\n",
              "      <td>12.246</td>\n",
              "    </tr>\n",
              "    <tr>\n",
              "      <th>V16</th>\n",
              "      <td>20000.000</td>\n",
              "      <td>-2.925</td>\n",
              "      <td>4.222</td>\n",
              "      <td>-20.374</td>\n",
              "      <td>-5.634</td>\n",
              "      <td>-2.683</td>\n",
              "      <td>-0.095</td>\n",
              "      <td>13.583</td>\n",
              "    </tr>\n",
              "    <tr>\n",
              "      <th>V17</th>\n",
              "      <td>20000.000</td>\n",
              "      <td>-0.134</td>\n",
              "      <td>3.345</td>\n",
              "      <td>-14.091</td>\n",
              "      <td>-2.216</td>\n",
              "      <td>-0.015</td>\n",
              "      <td>2.069</td>\n",
              "      <td>16.756</td>\n",
              "    </tr>\n",
              "    <tr>\n",
              "      <th>V18</th>\n",
              "      <td>20000.000</td>\n",
              "      <td>1.189</td>\n",
              "      <td>2.592</td>\n",
              "      <td>-11.644</td>\n",
              "      <td>-0.404</td>\n",
              "      <td>0.883</td>\n",
              "      <td>2.572</td>\n",
              "      <td>13.180</td>\n",
              "    </tr>\n",
              "    <tr>\n",
              "      <th>V19</th>\n",
              "      <td>20000.000</td>\n",
              "      <td>1.182</td>\n",
              "      <td>3.397</td>\n",
              "      <td>-13.492</td>\n",
              "      <td>-1.050</td>\n",
              "      <td>1.279</td>\n",
              "      <td>3.493</td>\n",
              "      <td>13.238</td>\n",
              "    </tr>\n",
              "    <tr>\n",
              "      <th>V20</th>\n",
              "      <td>20000.000</td>\n",
              "      <td>0.024</td>\n",
              "      <td>3.669</td>\n",
              "      <td>-13.923</td>\n",
              "      <td>-2.433</td>\n",
              "      <td>0.033</td>\n",
              "      <td>2.512</td>\n",
              "      <td>16.052</td>\n",
              "    </tr>\n",
              "    <tr>\n",
              "      <th>V21</th>\n",
              "      <td>20000.000</td>\n",
              "      <td>-3.611</td>\n",
              "      <td>3.568</td>\n",
              "      <td>-17.956</td>\n",
              "      <td>-5.930</td>\n",
              "      <td>-3.533</td>\n",
              "      <td>-1.266</td>\n",
              "      <td>13.840</td>\n",
              "    </tr>\n",
              "    <tr>\n",
              "      <th>V22</th>\n",
              "      <td>20000.000</td>\n",
              "      <td>0.952</td>\n",
              "      <td>1.652</td>\n",
              "      <td>-10.122</td>\n",
              "      <td>-0.118</td>\n",
              "      <td>0.975</td>\n",
              "      <td>2.026</td>\n",
              "      <td>7.410</td>\n",
              "    </tr>\n",
              "    <tr>\n",
              "      <th>V23</th>\n",
              "      <td>20000.000</td>\n",
              "      <td>-0.366</td>\n",
              "      <td>4.032</td>\n",
              "      <td>-14.866</td>\n",
              "      <td>-3.099</td>\n",
              "      <td>-0.262</td>\n",
              "      <td>2.452</td>\n",
              "      <td>14.459</td>\n",
              "    </tr>\n",
              "    <tr>\n",
              "      <th>V24</th>\n",
              "      <td>20000.000</td>\n",
              "      <td>1.134</td>\n",
              "      <td>3.912</td>\n",
              "      <td>-16.387</td>\n",
              "      <td>-1.468</td>\n",
              "      <td>0.969</td>\n",
              "      <td>3.546</td>\n",
              "      <td>17.163</td>\n",
              "    </tr>\n",
              "    <tr>\n",
              "      <th>V25</th>\n",
              "      <td>20000.000</td>\n",
              "      <td>-0.002</td>\n",
              "      <td>2.017</td>\n",
              "      <td>-8.228</td>\n",
              "      <td>-1.365</td>\n",
              "      <td>0.025</td>\n",
              "      <td>1.397</td>\n",
              "      <td>8.223</td>\n",
              "    </tr>\n",
              "    <tr>\n",
              "      <th>V26</th>\n",
              "      <td>20000.000</td>\n",
              "      <td>1.874</td>\n",
              "      <td>3.435</td>\n",
              "      <td>-11.834</td>\n",
              "      <td>-0.338</td>\n",
              "      <td>1.951</td>\n",
              "      <td>4.130</td>\n",
              "      <td>16.836</td>\n",
              "    </tr>\n",
              "    <tr>\n",
              "      <th>V27</th>\n",
              "      <td>20000.000</td>\n",
              "      <td>-0.612</td>\n",
              "      <td>4.369</td>\n",
              "      <td>-14.905</td>\n",
              "      <td>-3.652</td>\n",
              "      <td>-0.885</td>\n",
              "      <td>2.189</td>\n",
              "      <td>17.560</td>\n",
              "    </tr>\n",
              "    <tr>\n",
              "      <th>V28</th>\n",
              "      <td>20000.000</td>\n",
              "      <td>-0.883</td>\n",
              "      <td>1.918</td>\n",
              "      <td>-9.269</td>\n",
              "      <td>-2.171</td>\n",
              "      <td>-0.891</td>\n",
              "      <td>0.376</td>\n",
              "      <td>6.528</td>\n",
              "    </tr>\n",
              "    <tr>\n",
              "      <th>V29</th>\n",
              "      <td>20000.000</td>\n",
              "      <td>-0.986</td>\n",
              "      <td>2.684</td>\n",
              "      <td>-12.579</td>\n",
              "      <td>-2.787</td>\n",
              "      <td>-1.176</td>\n",
              "      <td>0.630</td>\n",
              "      <td>10.722</td>\n",
              "    </tr>\n",
              "    <tr>\n",
              "      <th>V30</th>\n",
              "      <td>20000.000</td>\n",
              "      <td>-0.016</td>\n",
              "      <td>3.005</td>\n",
              "      <td>-14.796</td>\n",
              "      <td>-1.867</td>\n",
              "      <td>0.184</td>\n",
              "      <td>2.036</td>\n",
              "      <td>12.506</td>\n",
              "    </tr>\n",
              "    <tr>\n",
              "      <th>V31</th>\n",
              "      <td>20000.000</td>\n",
              "      <td>0.487</td>\n",
              "      <td>3.461</td>\n",
              "      <td>-13.723</td>\n",
              "      <td>-1.818</td>\n",
              "      <td>0.490</td>\n",
              "      <td>2.731</td>\n",
              "      <td>17.255</td>\n",
              "    </tr>\n",
              "    <tr>\n",
              "      <th>V32</th>\n",
              "      <td>20000.000</td>\n",
              "      <td>0.304</td>\n",
              "      <td>5.500</td>\n",
              "      <td>-19.877</td>\n",
              "      <td>-3.420</td>\n",
              "      <td>0.052</td>\n",
              "      <td>3.762</td>\n",
              "      <td>23.633</td>\n",
              "    </tr>\n",
              "    <tr>\n",
              "      <th>V33</th>\n",
              "      <td>20000.000</td>\n",
              "      <td>0.050</td>\n",
              "      <td>3.575</td>\n",
              "      <td>-16.898</td>\n",
              "      <td>-2.243</td>\n",
              "      <td>-0.066</td>\n",
              "      <td>2.255</td>\n",
              "      <td>16.692</td>\n",
              "    </tr>\n",
              "    <tr>\n",
              "      <th>V34</th>\n",
              "      <td>20000.000</td>\n",
              "      <td>-0.463</td>\n",
              "      <td>3.184</td>\n",
              "      <td>-17.985</td>\n",
              "      <td>-2.137</td>\n",
              "      <td>-0.255</td>\n",
              "      <td>1.437</td>\n",
              "      <td>14.358</td>\n",
              "    </tr>\n",
              "    <tr>\n",
              "      <th>V35</th>\n",
              "      <td>20000.000</td>\n",
              "      <td>2.230</td>\n",
              "      <td>2.937</td>\n",
              "      <td>-15.350</td>\n",
              "      <td>0.336</td>\n",
              "      <td>2.099</td>\n",
              "      <td>4.064</td>\n",
              "      <td>15.291</td>\n",
              "    </tr>\n",
              "    <tr>\n",
              "      <th>V36</th>\n",
              "      <td>20000.000</td>\n",
              "      <td>1.515</td>\n",
              "      <td>3.801</td>\n",
              "      <td>-14.833</td>\n",
              "      <td>-0.944</td>\n",
              "      <td>1.567</td>\n",
              "      <td>3.984</td>\n",
              "      <td>19.330</td>\n",
              "    </tr>\n",
              "    <tr>\n",
              "      <th>V37</th>\n",
              "      <td>20000.000</td>\n",
              "      <td>0.011</td>\n",
              "      <td>1.788</td>\n",
              "      <td>-5.478</td>\n",
              "      <td>-1.256</td>\n",
              "      <td>-0.128</td>\n",
              "      <td>1.176</td>\n",
              "      <td>7.467</td>\n",
              "    </tr>\n",
              "    <tr>\n",
              "      <th>V38</th>\n",
              "      <td>20000.000</td>\n",
              "      <td>-0.344</td>\n",
              "      <td>3.948</td>\n",
              "      <td>-17.375</td>\n",
              "      <td>-2.988</td>\n",
              "      <td>-0.317</td>\n",
              "      <td>2.279</td>\n",
              "      <td>15.290</td>\n",
              "    </tr>\n",
              "    <tr>\n",
              "      <th>V39</th>\n",
              "      <td>20000.000</td>\n",
              "      <td>0.891</td>\n",
              "      <td>1.753</td>\n",
              "      <td>-6.439</td>\n",
              "      <td>-0.272</td>\n",
              "      <td>0.919</td>\n",
              "      <td>2.058</td>\n",
              "      <td>7.760</td>\n",
              "    </tr>\n",
              "    <tr>\n",
              "      <th>V40</th>\n",
              "      <td>20000.000</td>\n",
              "      <td>-0.876</td>\n",
              "      <td>3.012</td>\n",
              "      <td>-11.024</td>\n",
              "      <td>-2.940</td>\n",
              "      <td>-0.921</td>\n",
              "      <td>1.120</td>\n",
              "      <td>10.654</td>\n",
              "    </tr>\n",
              "    <tr>\n",
              "      <th>Target</th>\n",
              "      <td>20000.000</td>\n",
              "      <td>0.056</td>\n",
              "      <td>0.229</td>\n",
              "      <td>0.000</td>\n",
              "      <td>0.000</td>\n",
              "      <td>0.000</td>\n",
              "      <td>0.000</td>\n",
              "      <td>1.000</td>\n",
              "    </tr>\n",
              "  </tbody>\n",
              "</table>\n",
              "</div>"
            ],
            "text/plain": [
              "           count   mean   std     min    25%    50%    75%    max\n",
              "V1     19982.000 -0.272 3.442 -11.876 -2.737 -0.748  1.840 15.493\n",
              "V2     19982.000  0.440 3.151 -12.320 -1.641  0.472  2.544 13.089\n",
              "V3     20000.000  2.485 3.389 -10.708  0.207  2.256  4.566 17.091\n",
              "V4     20000.000 -0.083 3.432 -15.082 -2.348 -0.135  2.131 13.236\n",
              "V5     20000.000 -0.054 2.105  -8.603 -1.536 -0.102  1.340  8.134\n",
              "V6     20000.000 -0.995 2.041 -10.227 -2.347 -1.001  0.380  6.976\n",
              "V7     20000.000 -0.879 1.762  -7.950 -2.031 -0.917  0.224  8.006\n",
              "V8     20000.000 -0.548 3.296 -15.658 -2.643 -0.389  1.723 11.679\n",
              "V9     20000.000 -0.017 2.161  -8.596 -1.495 -0.068  1.409  8.138\n",
              "V10    20000.000 -0.013 2.193  -9.854 -1.411  0.101  1.477  8.108\n",
              "V11    20000.000 -1.895 3.124 -14.832 -3.922 -1.921  0.119 11.826\n",
              "V12    20000.000  1.605 2.930 -12.948 -0.397  1.508  3.571 15.081\n",
              "V13    20000.000  1.580 2.875 -13.228 -0.224  1.637  3.460 15.420\n",
              "V14    20000.000 -0.951 1.790  -7.739 -2.171 -0.957  0.271  5.671\n",
              "V15    20000.000 -2.415 3.355 -16.417 -4.415 -2.383 -0.359 12.246\n",
              "V16    20000.000 -2.925 4.222 -20.374 -5.634 -2.683 -0.095 13.583\n",
              "V17    20000.000 -0.134 3.345 -14.091 -2.216 -0.015  2.069 16.756\n",
              "V18    20000.000  1.189 2.592 -11.644 -0.404  0.883  2.572 13.180\n",
              "V19    20000.000  1.182 3.397 -13.492 -1.050  1.279  3.493 13.238\n",
              "V20    20000.000  0.024 3.669 -13.923 -2.433  0.033  2.512 16.052\n",
              "V21    20000.000 -3.611 3.568 -17.956 -5.930 -3.533 -1.266 13.840\n",
              "V22    20000.000  0.952 1.652 -10.122 -0.118  0.975  2.026  7.410\n",
              "V23    20000.000 -0.366 4.032 -14.866 -3.099 -0.262  2.452 14.459\n",
              "V24    20000.000  1.134 3.912 -16.387 -1.468  0.969  3.546 17.163\n",
              "V25    20000.000 -0.002 2.017  -8.228 -1.365  0.025  1.397  8.223\n",
              "V26    20000.000  1.874 3.435 -11.834 -0.338  1.951  4.130 16.836\n",
              "V27    20000.000 -0.612 4.369 -14.905 -3.652 -0.885  2.189 17.560\n",
              "V28    20000.000 -0.883 1.918  -9.269 -2.171 -0.891  0.376  6.528\n",
              "V29    20000.000 -0.986 2.684 -12.579 -2.787 -1.176  0.630 10.722\n",
              "V30    20000.000 -0.016 3.005 -14.796 -1.867  0.184  2.036 12.506\n",
              "V31    20000.000  0.487 3.461 -13.723 -1.818  0.490  2.731 17.255\n",
              "V32    20000.000  0.304 5.500 -19.877 -3.420  0.052  3.762 23.633\n",
              "V33    20000.000  0.050 3.575 -16.898 -2.243 -0.066  2.255 16.692\n",
              "V34    20000.000 -0.463 3.184 -17.985 -2.137 -0.255  1.437 14.358\n",
              "V35    20000.000  2.230 2.937 -15.350  0.336  2.099  4.064 15.291\n",
              "V36    20000.000  1.515 3.801 -14.833 -0.944  1.567  3.984 19.330\n",
              "V37    20000.000  0.011 1.788  -5.478 -1.256 -0.128  1.176  7.467\n",
              "V38    20000.000 -0.344 3.948 -17.375 -2.988 -0.317  2.279 15.290\n",
              "V39    20000.000  0.891 1.753  -6.439 -0.272  0.919  2.058  7.760\n",
              "V40    20000.000 -0.876 3.012 -11.024 -2.940 -0.921  1.120 10.654\n",
              "Target 20000.000  0.056 0.229   0.000  0.000  0.000  0.000  1.000"
            ]
          },
          "execution_count": 13,
          "metadata": {},
          "output_type": "execute_result"
        },
        {
          "data": {
            "application/javascript": "\n            setTimeout(function() {\n                var nbb_cell_id = 13;\n                var nbb_unformatted_code = \"# let's view the statistical summary of the numerical columns in the data\\ndata.describe().T ##  Complete the code to print the statitical summary of the train data\";\n                var nbb_formatted_code = \"# let's view the statistical summary of the numerical columns in the data\\ndata.describe().T  ##  Complete the code to print the statitical summary of the train data\";\n                var nbb_cells = Jupyter.notebook.get_cells();\n                for (var i = 0; i < nbb_cells.length; ++i) {\n                    if (nbb_cells[i].input_prompt_number == nbb_cell_id) {\n                        if (nbb_cells[i].get_text() == nbb_unformatted_code) {\n                             nbb_cells[i].set_text(nbb_formatted_code);\n                        }\n                        break;\n                    }\n                }\n            }, 500);\n            ",
            "text/plain": [
              "<IPython.core.display.Javascript object>"
            ]
          },
          "metadata": {},
          "output_type": "display_data"
        }
      ],
      "source": [
        "# let's view the statistical summary of the numerical columns in the data\n",
        "data.describe().T ##  Complete the code to print the statitical summary of the train data"
      ]
    },
    {
      "cell_type": "markdown",
      "metadata": {
        "id": "mG84hrxfbp06"
      },
      "source": [
        "## EDA"
      ]
    },
    {
      "cell_type": "markdown",
      "metadata": {
        "id": "Lv7Bs8aUbp07"
      },
      "source": [
        "### Univariate analysis"
      ]
    },
    {
      "cell_type": "code",
      "execution_count": 14,
      "metadata": {
        "id": "QIP4bI3Zbp07",
        "outputId": "f5372b09-92ef-4fbc-9398-e267e9116aa9"
      },
      "outputs": [
        {
          "data": {
            "application/javascript": "\n            setTimeout(function() {\n                var nbb_cell_id = 14;\n                var nbb_unformatted_code = \"# function to plot a boxplot and a histogram along the same scale.\\n\\n\\ndef histogram_boxplot(data, feature, figsize=(12, 7), kde=True, bins=None):\\n    \\\"\\\"\\\"\\n    Boxplot and histogram combined\\n\\n    data: dataframe\\n    feature: dataframe column\\n    figsize: size of figure (default (12,7))\\n    kde: whether to the show density curve (default False)\\n    bins: number of bins for histogram (default None)\\n    \\\"\\\"\\\"\\n    f2, (ax_box2, ax_hist2) = plt.subplots(\\n        nrows=2,  # Number of rows of the subplot grid= 2\\n        sharex=True,  # x-axis will be shared among all subplots\\n        gridspec_kw={\\\"height_ratios\\\": (0.25, 0.75)},\\n        figsize=figsize,\\n    )  # creating the 2 subplots\\n    sns.boxplot(\\n        data=data, x=feature, ax=ax_box2, showmeans=True, color=\\\"violet\\\"\\n    )  # boxplot will be created and a star will indicate the mean value of the column\\n    sns.histplot(\\n        data=data, x=feature, kde=kde, ax=ax_hist2, bins=bins, palette=\\\"winter\\\"\\n    ) if bins else sns.histplot(\\n        data=data, x=feature, kde=kde, ax=ax_hist2\\n    )  # For histogram\\n    ax_hist2.axvline(\\n        data[feature].mean(), color=\\\"green\\\", linestyle=\\\"--\\\"\\n    )  # Add mean to the histogram\\n    ax_hist2.axvline(\\n        data[feature].median(), color=\\\"black\\\", linestyle=\\\"-\\\"\\n    )  # Add median to the histogram\\n    f2.savefig(f'{feature}.png',dpi=200)\";\n                var nbb_formatted_code = \"# function to plot a boxplot and a histogram along the same scale.\\n\\n\\ndef histogram_boxplot(data, feature, figsize=(12, 7), kde=True, bins=None):\\n    \\\"\\\"\\\"\\n    Boxplot and histogram combined\\n\\n    data: dataframe\\n    feature: dataframe column\\n    figsize: size of figure (default (12,7))\\n    kde: whether to the show density curve (default False)\\n    bins: number of bins for histogram (default None)\\n    \\\"\\\"\\\"\\n    f2, (ax_box2, ax_hist2) = plt.subplots(\\n        nrows=2,  # Number of rows of the subplot grid= 2\\n        sharex=True,  # x-axis will be shared among all subplots\\n        gridspec_kw={\\\"height_ratios\\\": (0.25, 0.75)},\\n        figsize=figsize,\\n    )  # creating the 2 subplots\\n    sns.boxplot(\\n        data=data, x=feature, ax=ax_box2, showmeans=True, color=\\\"violet\\\"\\n    )  # boxplot will be created and a star will indicate the mean value of the column\\n    sns.histplot(\\n        data=data, x=feature, kde=kde, ax=ax_hist2, bins=bins, palette=\\\"winter\\\"\\n    ) if bins else sns.histplot(\\n        data=data, x=feature, kde=kde, ax=ax_hist2\\n    )  # For histogram\\n    ax_hist2.axvline(\\n        data[feature].mean(), color=\\\"green\\\", linestyle=\\\"--\\\"\\n    )  # Add mean to the histogram\\n    ax_hist2.axvline(\\n        data[feature].median(), color=\\\"black\\\", linestyle=\\\"-\\\"\\n    )  # Add median to the histogram\\n    f2.savefig(f\\\"{feature}.png\\\", dpi=200)\";\n                var nbb_cells = Jupyter.notebook.get_cells();\n                for (var i = 0; i < nbb_cells.length; ++i) {\n                    if (nbb_cells[i].input_prompt_number == nbb_cell_id) {\n                        if (nbb_cells[i].get_text() == nbb_unformatted_code) {\n                             nbb_cells[i].set_text(nbb_formatted_code);\n                        }\n                        break;\n                    }\n                }\n            }, 500);\n            ",
            "text/plain": [
              "<IPython.core.display.Javascript object>"
            ]
          },
          "metadata": {},
          "output_type": "display_data"
        }
      ],
      "source": [
        "# function to plot a boxplot and a histogram along the same scale.\n",
        "\n",
        "\n",
        "def histogram_boxplot(data, feature, figsize=(12, 7), kde=True, bins=None):\n",
        "    \"\"\"\n",
        "    Boxplot and histogram combined\n",
        "\n",
        "    data: dataframe\n",
        "    feature: dataframe column\n",
        "    figsize: size of figure (default (12,7))\n",
        "    kde: whether to the show density curve (default False)\n",
        "    bins: number of bins for histogram (default None)\n",
        "    \"\"\"\n",
        "    f2, (ax_box2, ax_hist2) = plt.subplots(\n",
        "        nrows=2,  # Number of rows of the subplot grid= 2\n",
        "        sharex=True,  # x-axis will be shared among all subplots\n",
        "        gridspec_kw={\"height_ratios\": (0.25, 0.75)},\n",
        "        figsize=figsize,\n",
        "    )  # creating the 2 subplots\n",
        "    sns.boxplot(\n",
        "        data=data, x=feature, ax=ax_box2, showmeans=True, color=\"violet\"\n",
        "    )  # boxplot will be created and a star will indicate the mean value of the column\n",
        "    sns.histplot(\n",
        "        data=data, x=feature, kde=kde, ax=ax_hist2, bins=bins, palette=\"winter\"\n",
        "    ) if bins else sns.histplot(\n",
        "        data=data, x=feature, kde=kde, ax=ax_hist2\n",
        "    )  # For histogram\n",
        "    ax_hist2.axvline(\n",
        "        data[feature].mean(), color=\"green\", linestyle=\"--\"\n",
        "    )  # Add mean to the histogram\n",
        "    ax_hist2.axvline(\n",
        "        data[feature].median(), color=\"black\", linestyle=\"-\"\n",
        "    )  # Add median to the histogram\n",
        "    f2.savefig(f'{feature}.png',dpi=200)"
      ]
    },
    {
      "cell_type": "markdown",
      "metadata": {
        "id": "zBkL6zw0bp07"
      },
      "source": [
        "### Plotting histograms and boxplots for all the variables"
      ]
    },
    {
      "cell_type": "code",
      "execution_count": null,
      "metadata": {
        "id": "p0ip-InCbp07",
        "scrolled": true
      },
      "outputs": [],
      "source": [
        "for feature in df.columns:\n",
        "    histogram_boxplot(data, feature, figsize=(12, 7), kde=False, bins=None)"
      ]
    },
    {
      "cell_type": "code",
      "execution_count": 15,
      "metadata": {},
      "outputs": [
        {
          "data": {
            "text/plain": [
              "0   0.945\n",
              "1   0.056\n",
              "Name: Target, dtype: float64"
            ]
          },
          "execution_count": 15,
          "metadata": {},
          "output_type": "execute_result"
        },
        {
          "data": {
            "application/javascript": "\n            setTimeout(function() {\n                var nbb_cell_id = 15;\n                var nbb_unformatted_code = \"data.Target.value_counts(normalize=True)\";\n                var nbb_formatted_code = \"data.Target.value_counts(normalize=True)\";\n                var nbb_cells = Jupyter.notebook.get_cells();\n                for (var i = 0; i < nbb_cells.length; ++i) {\n                    if (nbb_cells[i].input_prompt_number == nbb_cell_id) {\n                        if (nbb_cells[i].get_text() == nbb_unformatted_code) {\n                             nbb_cells[i].set_text(nbb_formatted_code);\n                        }\n                        break;\n                    }\n                }\n            }, 500);\n            ",
            "text/plain": [
              "<IPython.core.display.Javascript object>"
            ]
          },
          "metadata": {},
          "output_type": "display_data"
        }
      ],
      "source": [
        "data.Target.value_counts(normalize=True)"
      ]
    },
    {
      "cell_type": "code",
      "execution_count": 16,
      "metadata": {},
      "outputs": [
        {
          "data": {
            "image/png": "[encoded data removed]",
            "text/plain": [
              "<Figure size 432x288 with 1 Axes>"
            ]
          },
          "metadata": {
            "needs_background": "light"
          },
          "output_type": "display_data"
        },
        {
          "data": {
            "application/javascript": "\n            setTimeout(function() {\n                var nbb_cell_id = 16;\n                var nbb_unformatted_code = \"sns.countplot(data=data,x=\\\"Target\\\")\\nplt.savefig('targetcounts.png')\";\n                var nbb_formatted_code = \"sns.countplot(data=data, x=\\\"Target\\\")\\nplt.savefig(\\\"targetcounts.png\\\")\";\n                var nbb_cells = Jupyter.notebook.get_cells();\n                for (var i = 0; i < nbb_cells.length; ++i) {\n                    if (nbb_cells[i].input_prompt_number == nbb_cell_id) {\n                        if (nbb_cells[i].get_text() == nbb_unformatted_code) {\n                             nbb_cells[i].set_text(nbb_formatted_code);\n                        }\n                        break;\n                    }\n                }\n            }, 500);\n            ",
            "text/plain": [
              "<IPython.core.display.Javascript object>"
            ]
          },
          "metadata": {},
          "output_type": "display_data"
        }
      ],
      "source": [
        "sns.countplot(data=data,x=\"Target\")\n",
        "plt.savefig('targetcounts.png')"
      ]
    },
    {
      "cell_type": "code",
      "execution_count": 22,
      "metadata": {},
      "outputs": [
        {
          "data": {
            "image/png": "[encoded data removed]",
            "text/plain": [
              "<Figure size 432x288 with 1 Axes>"
            ]
          },
          "metadata": {
            "needs_background": "light"
          },
          "output_type": "display_data"
        },
        {
          "data": {
            "application/javascript": "\n            setTimeout(function() {\n                var nbb_cell_id = 22;\n                var nbb_unformatted_code = \"f1=sns.violinplot(data=data.iloc[:,:10])\\nplt.savefig('violin1.png')\";\n                var nbb_formatted_code = \"f1 = sns.violinplot(data=data.iloc[:, :10])\\nplt.savefig(\\\"violin1.png\\\")\";\n                var nbb_cells = Jupyter.notebook.get_cells();\n                for (var i = 0; i < nbb_cells.length; ++i) {\n                    if (nbb_cells[i].input_prompt_number == nbb_cell_id) {\n                        if (nbb_cells[i].get_text() == nbb_unformatted_code) {\n                             nbb_cells[i].set_text(nbb_formatted_code);\n                        }\n                        break;\n                    }\n                }\n            }, 500);\n            ",
            "text/plain": [
              "<IPython.core.display.Javascript object>"
            ]
          },
          "metadata": {},
          "output_type": "display_data"
        }
      ],
      "source": [
        "f1=sns.violinplot(data=data.iloc[:,:10])\n",
        "plt.savefig('violin1.png')"
      ]
    },
    {
      "cell_type": "code",
      "execution_count": 270,
      "metadata": {},
      "outputs": [
        {
          "data": {
            "image/png": "[encoded data removed]",
            "text/plain": [
              "<Figure size 432x288 with 1 Axes>"
            ]
          },
          "metadata": {
            "needs_background": "light"
          },
          "output_type": "display_data"
        },
        {
          "data": {
            "application/javascript": "\n            setTimeout(function() {\n                var nbb_cell_id = 270;\n                var nbb_unformatted_code = \"f2=sns.violinplot(data=data.iloc[:,10:20])\\nplt.savefig('violin2.png')\";\n                var nbb_formatted_code = \"f2 = sns.violinplot(data=data.iloc[:, 10:20])\\nplt.savefig(\\\"violin2.png\\\")\";\n                var nbb_cells = Jupyter.notebook.get_cells();\n                for (var i = 0; i < nbb_cells.length; ++i) {\n                    if (nbb_cells[i].input_prompt_number == nbb_cell_id) {\n                        if (nbb_cells[i].get_text() == nbb_unformatted_code) {\n                             nbb_cells[i].set_text(nbb_formatted_code);\n                        }\n                        break;\n                    }\n                }\n            }, 500);\n            ",
            "text/plain": [
              "<IPython.core.display.Javascript object>"
            ]
          },
          "metadata": {},
          "output_type": "display_data"
        }
      ],
      "source": [
        "f2=sns.violinplot(data=data.iloc[:,10:20])\n",
        "plt.savefig('violin2.png')\n"
      ]
    },
    {
      "cell_type": "code",
      "execution_count": 51,
      "metadata": {},
      "outputs": [
        {
          "data": {
            "image/png": "[encoded data removed]",
            "text/plain": [
              "<Figure size 432x288 with 1 Axes>"
            ]
          },
          "metadata": {
            "needs_background": "light"
          },
          "output_type": "display_data"
        },
        {
          "data": {
            "application/javascript": "\n            setTimeout(function() {\n                var nbb_cell_id = 51;\n                var nbb_unformatted_code = \"sns.violinplot(data=data,y=data.columns.tolist()[20],x=\\\"Target\\\")\\nplt.savefig('violin3.png')\";\n                var nbb_formatted_code = \"sns.violinplot(data=data, y=data.columns.tolist()[20], x=\\\"Target\\\")\\nplt.savefig(\\\"violin3.png\\\")\";\n                var nbb_cells = Jupyter.notebook.get_cells();\n                for (var i = 0; i < nbb_cells.length; ++i) {\n                    if (nbb_cells[i].input_prompt_number == nbb_cell_id) {\n                        if (nbb_cells[i].get_text() == nbb_unformatted_code) {\n                             nbb_cells[i].set_text(nbb_formatted_code);\n                        }\n                        break;\n                    }\n                }\n            }, 500);\n            ",
            "text/plain": [
              "<IPython.core.display.Javascript object>"
            ]
          },
          "metadata": {},
          "output_type": "display_data"
        }
      ],
      "source": [
        "sns.violinplot(data=data,y=data.columns.tolist()[20],x=\"Target\")\n",
        "plt.savefig('violin3.png')"
      ]
    },
    {
      "cell_type": "code",
      "execution_count": null,
      "metadata": {},
      "outputs": [],
      "source": [
        "sns.violinplot(data=data.iloc[:,30:40])\n",
        "plt.savefig('violin4.png')"
      ]
    },
    {
      "cell_type": "code",
      "execution_count": null,
      "metadata": {},
      "outputs": [],
      "source": [
        "for col in df.columns:\n",
        "    sns.displot(data=data,x=col,hue='Target',kind='ecdf')\n",
        "    plt.title('Empirical cumulative distribution')\n",
        "    plt.savefig(f'ecdf_{col}.png')"
      ]
    },
    {
      "cell_type": "code",
      "execution_count": 80,
      "metadata": {},
      "outputs": [
        {
          "data": {
            "text/html": [
              "<div>\n",
              "<style scoped>\n",
              "    .dataframe tbody tr th:only-of-type {\n",
              "        vertical-align: middle;\n",
              "    }\n",
              "\n",
              "    .dataframe tbody tr th {\n",
              "        vertical-align: top;\n",
              "    }\n",
              "\n",
              "    .dataframe thead th {\n",
              "        text-align: right;\n",
              "    }\n",
              "</style>\n",
              "<table border=\"1\" class=\"dataframe\">\n",
              "  <thead>\n",
              "    <tr style=\"text-align: right;\">\n",
              "      <th></th>\n",
              "      <th>level_0</th>\n",
              "      <th>level_1</th>\n",
              "      <th>Target</th>\n",
              "    </tr>\n",
              "  </thead>\n",
              "  <tbody>\n",
              "    <tr>\n",
              "      <th>0</th>\n",
              "      <td>0</td>\n",
              "      <td>V18</td>\n",
              "      <td>NaN</td>\n",
              "    </tr>\n",
              "    <tr>\n",
              "      <th>1</th>\n",
              "      <td>1</td>\n",
              "      <td>V18</td>\n",
              "      <td>NaN</td>\n",
              "    </tr>\n",
              "    <tr>\n",
              "      <th>2</th>\n",
              "      <td>2</td>\n",
              "      <td>V18</td>\n",
              "      <td>NaN</td>\n",
              "    </tr>\n",
              "    <tr>\n",
              "      <th>3</th>\n",
              "      <td>3</td>\n",
              "      <td>V18</td>\n",
              "      <td>NaN</td>\n",
              "    </tr>\n",
              "    <tr>\n",
              "      <th>4</th>\n",
              "      <td>4</td>\n",
              "      <td>V18</td>\n",
              "      <td>NaN</td>\n",
              "    </tr>\n",
              "    <tr>\n",
              "      <th>5</th>\n",
              "      <td>5</td>\n",
              "      <td>V18</td>\n",
              "      <td>NaN</td>\n",
              "    </tr>\n",
              "    <tr>\n",
              "      <th>6</th>\n",
              "      <td>6</td>\n",
              "      <td>V18</td>\n",
              "      <td>NaN</td>\n",
              "    </tr>\n",
              "    <tr>\n",
              "      <th>7</th>\n",
              "      <td>7</td>\n",
              "      <td>V18</td>\n",
              "      <td>-0.921</td>\n",
              "    </tr>\n",
              "    <tr>\n",
              "      <th>8</th>\n",
              "      <td>8</td>\n",
              "      <td>V18</td>\n",
              "      <td>-0.978</td>\n",
              "    </tr>\n",
              "    <tr>\n",
              "      <th>9</th>\n",
              "      <td>9</td>\n",
              "      <td>V18</td>\n",
              "      <td>-0.343</td>\n",
              "    </tr>\n",
              "  </tbody>\n",
              "</table>\n",
              "</div>"
            ],
            "text/plain": [
              "   level_0 level_1  Target\n",
              "0        0     V18     NaN\n",
              "1        1     V18     NaN\n",
              "2        2     V18     NaN\n",
              "3        3     V18     NaN\n",
              "4        4     V18     NaN\n",
              "5        5     V18     NaN\n",
              "6        6     V18     NaN\n",
              "7        7     V18  -0.921\n",
              "8        8     V18  -0.978\n",
              "9        9     V18  -0.343"
            ]
          },
          "execution_count": 80,
          "metadata": {},
          "output_type": "execute_result"
        },
        {
          "data": {
            "application/javascript": "\n            setTimeout(function() {\n                var nbb_cell_id = 80;\n                var nbb_unformatted_code = \"data[['V18','Target']].rolling(min_periods = 1, window = 3).corr().iloc[0::2,-1].reset_index()[:10]\";\n                var nbb_formatted_code = \"data[[\\\"V18\\\", \\\"Target\\\"]].rolling(min_periods=1, window=3).corr().iloc[\\n    0::2, -1\\n].reset_index()[:10]\";\n                var nbb_cells = Jupyter.notebook.get_cells();\n                for (var i = 0; i < nbb_cells.length; ++i) {\n                    if (nbb_cells[i].input_prompt_number == nbb_cell_id) {\n                        if (nbb_cells[i].get_text() == nbb_unformatted_code) {\n                             nbb_cells[i].set_text(nbb_formatted_code);\n                        }\n                        break;\n                    }\n                }\n            }, 500);\n            ",
            "text/plain": [
              "<IPython.core.display.Javascript object>"
            ]
          },
          "metadata": {},
          "output_type": "display_data"
        }
      ],
      "source": [
        "data[['V18','Target']].rolling(min_periods = 1, window = 3).corr().iloc[0::2,-1].reset_index()[:10]"
      ]
    },
    {
      "cell_type": "code",
      "execution_count": 74,
      "metadata": {},
      "outputs": [
        {
          "data": {
            "text/html": [
              "<div>\n",
              "<style scoped>\n",
              "    .dataframe tbody tr th:only-of-type {\n",
              "        vertical-align: middle;\n",
              "    }\n",
              "\n",
              "    .dataframe tbody tr th {\n",
              "        vertical-align: top;\n",
              "    }\n",
              "\n",
              "    .dataframe thead th {\n",
              "        text-align: right;\n",
              "    }\n",
              "</style>\n",
              "<table border=\"1\" class=\"dataframe\">\n",
              "  <thead>\n",
              "    <tr style=\"text-align: right;\">\n",
              "      <th></th>\n",
              "      <th>level_0</th>\n",
              "      <th>level_1</th>\n",
              "      <th>Target</th>\n",
              "    </tr>\n",
              "  </thead>\n",
              "  <tbody>\n",
              "    <tr>\n",
              "      <th>0</th>\n",
              "      <td>0</td>\n",
              "      <td>V22</td>\n",
              "      <td>NaN</td>\n",
              "    </tr>\n",
              "    <tr>\n",
              "      <th>1</th>\n",
              "      <td>1</td>\n",
              "      <td>V22</td>\n",
              "      <td>NaN</td>\n",
              "    </tr>\n",
              "    <tr>\n",
              "      <th>2</th>\n",
              "      <td>2</td>\n",
              "      <td>V22</td>\n",
              "      <td>NaN</td>\n",
              "    </tr>\n",
              "    <tr>\n",
              "      <th>3</th>\n",
              "      <td>3</td>\n",
              "      <td>V22</td>\n",
              "      <td>NaN</td>\n",
              "    </tr>\n",
              "    <tr>\n",
              "      <th>4</th>\n",
              "      <td>4</td>\n",
              "      <td>V22</td>\n",
              "      <td>NaN</td>\n",
              "    </tr>\n",
              "    <tr>\n",
              "      <th>5</th>\n",
              "      <td>5</td>\n",
              "      <td>V22</td>\n",
              "      <td>NaN</td>\n",
              "    </tr>\n",
              "    <tr>\n",
              "      <th>6</th>\n",
              "      <td>6</td>\n",
              "      <td>V22</td>\n",
              "      <td>NaN</td>\n",
              "    </tr>\n",
              "    <tr>\n",
              "      <th>7</th>\n",
              "      <td>7</td>\n",
              "      <td>V22</td>\n",
              "      <td>0.965</td>\n",
              "    </tr>\n",
              "    <tr>\n",
              "      <th>8</th>\n",
              "      <td>8</td>\n",
              "      <td>V22</td>\n",
              "      <td>0.992</td>\n",
              "    </tr>\n",
              "    <tr>\n",
              "      <th>9</th>\n",
              "      <td>9</td>\n",
              "      <td>V22</td>\n",
              "      <td>0.920</td>\n",
              "    </tr>\n",
              "    <tr>\n",
              "      <th>10</th>\n",
              "      <td>10</td>\n",
              "      <td>V22</td>\n",
              "      <td>0.000</td>\n",
              "    </tr>\n",
              "    <tr>\n",
              "      <th>11</th>\n",
              "      <td>11</td>\n",
              "      <td>V22</td>\n",
              "      <td>0.000</td>\n",
              "    </tr>\n",
              "    <tr>\n",
              "      <th>12</th>\n",
              "      <td>12</td>\n",
              "      <td>V22</td>\n",
              "      <td>0.000</td>\n",
              "    </tr>\n",
              "    <tr>\n",
              "      <th>13</th>\n",
              "      <td>13</td>\n",
              "      <td>V22</td>\n",
              "      <td>0.000</td>\n",
              "    </tr>\n",
              "    <tr>\n",
              "      <th>14</th>\n",
              "      <td>14</td>\n",
              "      <td>V22</td>\n",
              "      <td>0.955</td>\n",
              "    </tr>\n",
              "    <tr>\n",
              "      <th>15</th>\n",
              "      <td>15</td>\n",
              "      <td>V22</td>\n",
              "      <td>0.884</td>\n",
              "    </tr>\n",
              "    <tr>\n",
              "      <th>16</th>\n",
              "      <td>16</td>\n",
              "      <td>V22</td>\n",
              "      <td>0.429</td>\n",
              "    </tr>\n",
              "    <tr>\n",
              "      <th>17</th>\n",
              "      <td>17</td>\n",
              "      <td>V22</td>\n",
              "      <td>0.069</td>\n",
              "    </tr>\n",
              "    <tr>\n",
              "      <th>18</th>\n",
              "      <td>18</td>\n",
              "      <td>V22</td>\n",
              "      <td>0.520</td>\n",
              "    </tr>\n",
              "    <tr>\n",
              "      <th>19</th>\n",
              "      <td>19</td>\n",
              "      <td>V22</td>\n",
              "      <td>NaN</td>\n",
              "    </tr>\n",
              "    <tr>\n",
              "      <th>20</th>\n",
              "      <td>20</td>\n",
              "      <td>V22</td>\n",
              "      <td>NaN</td>\n",
              "    </tr>\n",
              "    <tr>\n",
              "      <th>21</th>\n",
              "      <td>21</td>\n",
              "      <td>V22</td>\n",
              "      <td>0.677</td>\n",
              "    </tr>\n",
              "    <tr>\n",
              "      <th>22</th>\n",
              "      <td>22</td>\n",
              "      <td>V22</td>\n",
              "      <td>0.970</td>\n",
              "    </tr>\n",
              "    <tr>\n",
              "      <th>23</th>\n",
              "      <td>23</td>\n",
              "      <td>V22</td>\n",
              "      <td>0.963</td>\n",
              "    </tr>\n",
              "    <tr>\n",
              "      <th>24</th>\n",
              "      <td>24</td>\n",
              "      <td>V22</td>\n",
              "      <td>0.000</td>\n",
              "    </tr>\n",
              "    <tr>\n",
              "      <th>25</th>\n",
              "      <td>25</td>\n",
              "      <td>V22</td>\n",
              "      <td>0.000</td>\n",
              "    </tr>\n",
              "    <tr>\n",
              "      <th>26</th>\n",
              "      <td>26</td>\n",
              "      <td>V22</td>\n",
              "      <td>0.000</td>\n",
              "    </tr>\n",
              "    <tr>\n",
              "      <th>27</th>\n",
              "      <td>27</td>\n",
              "      <td>V22</td>\n",
              "      <td>0.000</td>\n",
              "    </tr>\n",
              "    <tr>\n",
              "      <th>28</th>\n",
              "      <td>28</td>\n",
              "      <td>V22</td>\n",
              "      <td>0.000</td>\n",
              "    </tr>\n",
              "    <tr>\n",
              "      <th>29</th>\n",
              "      <td>29</td>\n",
              "      <td>V22</td>\n",
              "      <td>0.000</td>\n",
              "    </tr>\n",
              "    <tr>\n",
              "      <th>30</th>\n",
              "      <td>30</td>\n",
              "      <td>V22</td>\n",
              "      <td>0.000</td>\n",
              "    </tr>\n",
              "    <tr>\n",
              "      <th>31</th>\n",
              "      <td>31</td>\n",
              "      <td>V22</td>\n",
              "      <td>0.000</td>\n",
              "    </tr>\n",
              "    <tr>\n",
              "      <th>32</th>\n",
              "      <td>32</td>\n",
              "      <td>V22</td>\n",
              "      <td>0.000</td>\n",
              "    </tr>\n",
              "    <tr>\n",
              "      <th>33</th>\n",
              "      <td>33</td>\n",
              "      <td>V22</td>\n",
              "      <td>-0.760</td>\n",
              "    </tr>\n",
              "    <tr>\n",
              "      <th>34</th>\n",
              "      <td>34</td>\n",
              "      <td>V22</td>\n",
              "      <td>-0.621</td>\n",
              "    </tr>\n",
              "    <tr>\n",
              "      <th>35</th>\n",
              "      <td>35</td>\n",
              "      <td>V22</td>\n",
              "      <td>-0.967</td>\n",
              "    </tr>\n",
              "    <tr>\n",
              "      <th>36</th>\n",
              "      <td>36</td>\n",
              "      <td>V22</td>\n",
              "      <td>0.000</td>\n",
              "    </tr>\n",
              "    <tr>\n",
              "      <th>37</th>\n",
              "      <td>37</td>\n",
              "      <td>V22</td>\n",
              "      <td>0.000</td>\n",
              "    </tr>\n",
              "    <tr>\n",
              "      <th>38</th>\n",
              "      <td>38</td>\n",
              "      <td>V22</td>\n",
              "      <td>0.000</td>\n",
              "    </tr>\n",
              "    <tr>\n",
              "      <th>39</th>\n",
              "      <td>39</td>\n",
              "      <td>V22</td>\n",
              "      <td>0.000</td>\n",
              "    </tr>\n",
              "    <tr>\n",
              "      <th>40</th>\n",
              "      <td>40</td>\n",
              "      <td>V22</td>\n",
              "      <td>0.000</td>\n",
              "    </tr>\n",
              "    <tr>\n",
              "      <th>41</th>\n",
              "      <td>41</td>\n",
              "      <td>V22</td>\n",
              "      <td>0.000</td>\n",
              "    </tr>\n",
              "    <tr>\n",
              "      <th>42</th>\n",
              "      <td>42</td>\n",
              "      <td>V22</td>\n",
              "      <td>0.000</td>\n",
              "    </tr>\n",
              "    <tr>\n",
              "      <th>43</th>\n",
              "      <td>43</td>\n",
              "      <td>V22</td>\n",
              "      <td>0.000</td>\n",
              "    </tr>\n",
              "    <tr>\n",
              "      <th>44</th>\n",
              "      <td>44</td>\n",
              "      <td>V22</td>\n",
              "      <td>0.000</td>\n",
              "    </tr>\n",
              "    <tr>\n",
              "      <th>45</th>\n",
              "      <td>45</td>\n",
              "      <td>V22</td>\n",
              "      <td>0.000</td>\n",
              "    </tr>\n",
              "    <tr>\n",
              "      <th>46</th>\n",
              "      <td>46</td>\n",
              "      <td>V22</td>\n",
              "      <td>0.000</td>\n",
              "    </tr>\n",
              "    <tr>\n",
              "      <th>47</th>\n",
              "      <td>47</td>\n",
              "      <td>V22</td>\n",
              "      <td>0.000</td>\n",
              "    </tr>\n",
              "    <tr>\n",
              "      <th>48</th>\n",
              "      <td>48</td>\n",
              "      <td>V22</td>\n",
              "      <td>0.000</td>\n",
              "    </tr>\n",
              "    <tr>\n",
              "      <th>49</th>\n",
              "      <td>49</td>\n",
              "      <td>V22</td>\n",
              "      <td>0.000</td>\n",
              "    </tr>\n",
              "    <tr>\n",
              "      <th>50</th>\n",
              "      <td>50</td>\n",
              "      <td>V22</td>\n",
              "      <td>0.000</td>\n",
              "    </tr>\n",
              "    <tr>\n",
              "      <th>51</th>\n",
              "      <td>51</td>\n",
              "      <td>V22</td>\n",
              "      <td>0.000</td>\n",
              "    </tr>\n",
              "    <tr>\n",
              "      <th>52</th>\n",
              "      <td>52</td>\n",
              "      <td>V22</td>\n",
              "      <td>0.000</td>\n",
              "    </tr>\n",
              "    <tr>\n",
              "      <th>53</th>\n",
              "      <td>53</td>\n",
              "      <td>V22</td>\n",
              "      <td>0.000</td>\n",
              "    </tr>\n",
              "    <tr>\n",
              "      <th>54</th>\n",
              "      <td>54</td>\n",
              "      <td>V22</td>\n",
              "      <td>0.000</td>\n",
              "    </tr>\n",
              "    <tr>\n",
              "      <th>55</th>\n",
              "      <td>55</td>\n",
              "      <td>V22</td>\n",
              "      <td>0.000</td>\n",
              "    </tr>\n",
              "    <tr>\n",
              "      <th>56</th>\n",
              "      <td>56</td>\n",
              "      <td>V22</td>\n",
              "      <td>0.000</td>\n",
              "    </tr>\n",
              "    <tr>\n",
              "      <th>57</th>\n",
              "      <td>57</td>\n",
              "      <td>V22</td>\n",
              "      <td>0.000</td>\n",
              "    </tr>\n",
              "    <tr>\n",
              "      <th>58</th>\n",
              "      <td>58</td>\n",
              "      <td>V22</td>\n",
              "      <td>0.000</td>\n",
              "    </tr>\n",
              "    <tr>\n",
              "      <th>59</th>\n",
              "      <td>59</td>\n",
              "      <td>V22</td>\n",
              "      <td>0.000</td>\n",
              "    </tr>\n",
              "    <tr>\n",
              "      <th>60</th>\n",
              "      <td>60</td>\n",
              "      <td>V22</td>\n",
              "      <td>0.000</td>\n",
              "    </tr>\n",
              "    <tr>\n",
              "      <th>61</th>\n",
              "      <td>61</td>\n",
              "      <td>V22</td>\n",
              "      <td>0.000</td>\n",
              "    </tr>\n",
              "    <tr>\n",
              "      <th>62</th>\n",
              "      <td>62</td>\n",
              "      <td>V22</td>\n",
              "      <td>-0.655</td>\n",
              "    </tr>\n",
              "    <tr>\n",
              "      <th>63</th>\n",
              "      <td>63</td>\n",
              "      <td>V22</td>\n",
              "      <td>-0.704</td>\n",
              "    </tr>\n",
              "    <tr>\n",
              "      <th>64</th>\n",
              "      <td>64</td>\n",
              "      <td>V22</td>\n",
              "      <td>-0.761</td>\n",
              "    </tr>\n",
              "    <tr>\n",
              "      <th>65</th>\n",
              "      <td>65</td>\n",
              "      <td>V22</td>\n",
              "      <td>0.000</td>\n",
              "    </tr>\n",
              "    <tr>\n",
              "      <th>66</th>\n",
              "      <td>66</td>\n",
              "      <td>V22</td>\n",
              "      <td>0.000</td>\n",
              "    </tr>\n",
              "    <tr>\n",
              "      <th>67</th>\n",
              "      <td>67</td>\n",
              "      <td>V22</td>\n",
              "      <td>0.000</td>\n",
              "    </tr>\n",
              "    <tr>\n",
              "      <th>68</th>\n",
              "      <td>68</td>\n",
              "      <td>V22</td>\n",
              "      <td>0.000</td>\n",
              "    </tr>\n",
              "    <tr>\n",
              "      <th>69</th>\n",
              "      <td>69</td>\n",
              "      <td>V22</td>\n",
              "      <td>0.000</td>\n",
              "    </tr>\n",
              "    <tr>\n",
              "      <th>70</th>\n",
              "      <td>70</td>\n",
              "      <td>V22</td>\n",
              "      <td>0.000</td>\n",
              "    </tr>\n",
              "    <tr>\n",
              "      <th>71</th>\n",
              "      <td>71</td>\n",
              "      <td>V22</td>\n",
              "      <td>0.000</td>\n",
              "    </tr>\n",
              "    <tr>\n",
              "      <th>72</th>\n",
              "      <td>72</td>\n",
              "      <td>V22</td>\n",
              "      <td>0.000</td>\n",
              "    </tr>\n",
              "    <tr>\n",
              "      <th>73</th>\n",
              "      <td>73</td>\n",
              "      <td>V22</td>\n",
              "      <td>0.000</td>\n",
              "    </tr>\n",
              "    <tr>\n",
              "      <th>74</th>\n",
              "      <td>74</td>\n",
              "      <td>V22</td>\n",
              "      <td>0.000</td>\n",
              "    </tr>\n",
              "    <tr>\n",
              "      <th>75</th>\n",
              "      <td>75</td>\n",
              "      <td>V22</td>\n",
              "      <td>0.000</td>\n",
              "    </tr>\n",
              "    <tr>\n",
              "      <th>76</th>\n",
              "      <td>76</td>\n",
              "      <td>V22</td>\n",
              "      <td>0.000</td>\n",
              "    </tr>\n",
              "    <tr>\n",
              "      <th>77</th>\n",
              "      <td>77</td>\n",
              "      <td>V22</td>\n",
              "      <td>0.000</td>\n",
              "    </tr>\n",
              "    <tr>\n",
              "      <th>78</th>\n",
              "      <td>78</td>\n",
              "      <td>V22</td>\n",
              "      <td>0.000</td>\n",
              "    </tr>\n",
              "    <tr>\n",
              "      <th>79</th>\n",
              "      <td>79</td>\n",
              "      <td>V22</td>\n",
              "      <td>0.000</td>\n",
              "    </tr>\n",
              "    <tr>\n",
              "      <th>80</th>\n",
              "      <td>80</td>\n",
              "      <td>V22</td>\n",
              "      <td>0.000</td>\n",
              "    </tr>\n",
              "    <tr>\n",
              "      <th>81</th>\n",
              "      <td>81</td>\n",
              "      <td>V22</td>\n",
              "      <td>0.000</td>\n",
              "    </tr>\n",
              "    <tr>\n",
              "      <th>82</th>\n",
              "      <td>82</td>\n",
              "      <td>V22</td>\n",
              "      <td>0.000</td>\n",
              "    </tr>\n",
              "    <tr>\n",
              "      <th>83</th>\n",
              "      <td>83</td>\n",
              "      <td>V22</td>\n",
              "      <td>0.000</td>\n",
              "    </tr>\n",
              "    <tr>\n",
              "      <th>84</th>\n",
              "      <td>84</td>\n",
              "      <td>V22</td>\n",
              "      <td>0.000</td>\n",
              "    </tr>\n",
              "    <tr>\n",
              "      <th>85</th>\n",
              "      <td>85</td>\n",
              "      <td>V22</td>\n",
              "      <td>0.000</td>\n",
              "    </tr>\n",
              "    <tr>\n",
              "      <th>86</th>\n",
              "      <td>86</td>\n",
              "      <td>V22</td>\n",
              "      <td>0.000</td>\n",
              "    </tr>\n",
              "    <tr>\n",
              "      <th>87</th>\n",
              "      <td>87</td>\n",
              "      <td>V22</td>\n",
              "      <td>0.397</td>\n",
              "    </tr>\n",
              "    <tr>\n",
              "      <th>88</th>\n",
              "      <td>88</td>\n",
              "      <td>V22</td>\n",
              "      <td>-0.525</td>\n",
              "    </tr>\n",
              "    <tr>\n",
              "      <th>89</th>\n",
              "      <td>89</td>\n",
              "      <td>V22</td>\n",
              "      <td>-0.808</td>\n",
              "    </tr>\n",
              "    <tr>\n",
              "      <th>90</th>\n",
              "      <td>90</td>\n",
              "      <td>V22</td>\n",
              "      <td>0.000</td>\n",
              "    </tr>\n",
              "    <tr>\n",
              "      <th>91</th>\n",
              "      <td>91</td>\n",
              "      <td>V22</td>\n",
              "      <td>0.000</td>\n",
              "    </tr>\n",
              "    <tr>\n",
              "      <th>92</th>\n",
              "      <td>92</td>\n",
              "      <td>V22</td>\n",
              "      <td>0.000</td>\n",
              "    </tr>\n",
              "    <tr>\n",
              "      <th>93</th>\n",
              "      <td>93</td>\n",
              "      <td>V22</td>\n",
              "      <td>0.000</td>\n",
              "    </tr>\n",
              "    <tr>\n",
              "      <th>94</th>\n",
              "      <td>94</td>\n",
              "      <td>V22</td>\n",
              "      <td>0.000</td>\n",
              "    </tr>\n",
              "    <tr>\n",
              "      <th>95</th>\n",
              "      <td>95</td>\n",
              "      <td>V22</td>\n",
              "      <td>0.000</td>\n",
              "    </tr>\n",
              "    <tr>\n",
              "      <th>96</th>\n",
              "      <td>96</td>\n",
              "      <td>V22</td>\n",
              "      <td>0.000</td>\n",
              "    </tr>\n",
              "    <tr>\n",
              "      <th>97</th>\n",
              "      <td>97</td>\n",
              "      <td>V22</td>\n",
              "      <td>0.000</td>\n",
              "    </tr>\n",
              "    <tr>\n",
              "      <th>98</th>\n",
              "      <td>98</td>\n",
              "      <td>V22</td>\n",
              "      <td>0.000</td>\n",
              "    </tr>\n",
              "    <tr>\n",
              "      <th>99</th>\n",
              "      <td>99</td>\n",
              "      <td>V22</td>\n",
              "      <td>0.000</td>\n",
              "    </tr>\n",
              "  </tbody>\n",
              "</table>\n",
              "</div>"
            ],
            "text/plain": [
              "    level_0 level_1  Target\n",
              "0         0     V22     NaN\n",
              "1         1     V22     NaN\n",
              "2         2     V22     NaN\n",
              "3         3     V22     NaN\n",
              "4         4     V22     NaN\n",
              "5         5     V22     NaN\n",
              "6         6     V22     NaN\n",
              "7         7     V22   0.965\n",
              "8         8     V22   0.992\n",
              "9         9     V22   0.920\n",
              "10       10     V22   0.000\n",
              "11       11     V22   0.000\n",
              "12       12     V22   0.000\n",
              "13       13     V22   0.000\n",
              "14       14     V22   0.955\n",
              "15       15     V22   0.884\n",
              "16       16     V22   0.429\n",
              "17       17     V22   0.069\n",
              "18       18     V22   0.520\n",
              "19       19     V22     NaN\n",
              "20       20     V22     NaN\n",
              "21       21     V22   0.677\n",
              "22       22     V22   0.970\n",
              "23       23     V22   0.963\n",
              "24       24     V22   0.000\n",
              "25       25     V22   0.000\n",
              "26       26     V22   0.000\n",
              "27       27     V22   0.000\n",
              "28       28     V22   0.000\n",
              "29       29     V22   0.000\n",
              "30       30     V22   0.000\n",
              "31       31     V22   0.000\n",
              "32       32     V22   0.000\n",
              "33       33     V22  -0.760\n",
              "34       34     V22  -0.621\n",
              "35       35     V22  -0.967\n",
              "36       36     V22   0.000\n",
              "37       37     V22   0.000\n",
              "38       38     V22   0.000\n",
              "39       39     V22   0.000\n",
              "40       40     V22   0.000\n",
              "41       41     V22   0.000\n",
              "42       42     V22   0.000\n",
              "43       43     V22   0.000\n",
              "44       44     V22   0.000\n",
              "45       45     V22   0.000\n",
              "46       46     V22   0.000\n",
              "47       47     V22   0.000\n",
              "48       48     V22   0.000\n",
              "49       49     V22   0.000\n",
              "50       50     V22   0.000\n",
              "51       51     V22   0.000\n",
              "52       52     V22   0.000\n",
              "53       53     V22   0.000\n",
              "54       54     V22   0.000\n",
              "55       55     V22   0.000\n",
              "56       56     V22   0.000\n",
              "57       57     V22   0.000\n",
              "58       58     V22   0.000\n",
              "59       59     V22   0.000\n",
              "60       60     V22   0.000\n",
              "61       61     V22   0.000\n",
              "62       62     V22  -0.655\n",
              "63       63     V22  -0.704\n",
              "64       64     V22  -0.761\n",
              "65       65     V22   0.000\n",
              "66       66     V22   0.000\n",
              "67       67     V22   0.000\n",
              "68       68     V22   0.000\n",
              "69       69     V22   0.000\n",
              "70       70     V22   0.000\n",
              "71       71     V22   0.000\n",
              "72       72     V22   0.000\n",
              "73       73     V22   0.000\n",
              "74       74     V22   0.000\n",
              "75       75     V22   0.000\n",
              "76       76     V22   0.000\n",
              "77       77     V22   0.000\n",
              "78       78     V22   0.000\n",
              "79       79     V22   0.000\n",
              "80       80     V22   0.000\n",
              "81       81     V22   0.000\n",
              "82       82     V22   0.000\n",
              "83       83     V22   0.000\n",
              "84       84     V22   0.000\n",
              "85       85     V22   0.000\n",
              "86       86     V22   0.000\n",
              "87       87     V22   0.397\n",
              "88       88     V22  -0.525\n",
              "89       89     V22  -0.808\n",
              "90       90     V22   0.000\n",
              "91       91     V22   0.000\n",
              "92       92     V22   0.000\n",
              "93       93     V22   0.000\n",
              "94       94     V22   0.000\n",
              "95       95     V22   0.000\n",
              "96       96     V22   0.000\n",
              "97       97     V22   0.000\n",
              "98       98     V22   0.000\n",
              "99       99     V22   0.000"
            ]
          },
          "execution_count": 74,
          "metadata": {},
          "output_type": "execute_result"
        },
        {
          "data": {
            "application/javascript": "\n            setTimeout(function() {\n                var nbb_cell_id = 74;\n                var nbb_unformatted_code = \"data[['V22','Target']].rolling(min_periods = 1, window = 3).corr().iloc[0::2,-1].reset_index()[:100]\";\n                var nbb_formatted_code = \"data[[\\\"V22\\\", \\\"Target\\\"]].rolling(min_periods=1, window=3).corr().iloc[\\n    0::2, -1\\n].reset_index()[:100]\";\n                var nbb_cells = Jupyter.notebook.get_cells();\n                for (var i = 0; i < nbb_cells.length; ++i) {\n                    if (nbb_cells[i].input_prompt_number == nbb_cell_id) {\n                        if (nbb_cells[i].get_text() == nbb_unformatted_code) {\n                             nbb_cells[i].set_text(nbb_formatted_code);\n                        }\n                        break;\n                    }\n                }\n            }, 500);\n            ",
            "text/plain": [
              "<IPython.core.display.Javascript object>"
            ]
          },
          "metadata": {},
          "output_type": "display_data"
        }
      ],
      "source": [
        "data[['V22','Target']].rolling(min_periods = 1, window = 3).corr().iloc[0::2,-1].reset_index()[:100]"
      ]
    },
    {
      "cell_type": "markdown",
      "metadata": {
        "id": "3CjaGOdvbp08"
      },
      "source": [
        "### Let's look at the values in target variable"
      ]
    },
    {
      "cell_type": "code",
      "execution_count": 27,
      "metadata": {
        "id": "jchAb6Ikbp08"
      },
      "outputs": [
        {
          "data": {
            "text/plain": [
              "0   0.945\n",
              "1   0.056\n",
              "Name: Target, dtype: float64"
            ]
          },
          "execution_count": 27,
          "metadata": {},
          "output_type": "execute_result"
        },
        {
          "data": {
            "application/javascript": "\n            setTimeout(function() {\n                var nbb_cell_id = 27;\n                var nbb_unformatted_code = \"data[\\\"Target\\\"].value_counts(normalize=True)##  Complete the code to check the class distribution in target variable for train data\";\n                var nbb_formatted_code = \"data[\\\"Target\\\"].value_counts(\\n    normalize=True\\n)  ##  Complete the code to check the class distribution in target variable for train data\";\n                var nbb_cells = Jupyter.notebook.get_cells();\n                for (var i = 0; i < nbb_cells.length; ++i) {\n                    if (nbb_cells[i].input_prompt_number == nbb_cell_id) {\n                        if (nbb_cells[i].get_text() == nbb_unformatted_code) {\n                             nbb_cells[i].set_text(nbb_formatted_code);\n                        }\n                        break;\n                    }\n                }\n            }, 500);\n            ",
            "text/plain": [
              "<IPython.core.display.Javascript object>"
            ]
          },
          "metadata": {},
          "output_type": "display_data"
        }
      ],
      "source": [
        "data[\"Target\"].value_counts(normalize=True)##  Complete the code to check the class distribution in target variable for train data"
      ]
    },
    {
      "cell_type": "markdown",
      "metadata": {
        "id": "Bp8vC9MZbp09"
      },
      "source": [
        "## Data Pre-Processing"
      ]
    },
    {
      "cell_type": "code",
      "execution_count": 28,
      "metadata": {
        "id": "IktO9G2Lbp09"
      },
      "outputs": [
        {
          "data": {
            "application/javascript": "\n            setTimeout(function() {\n                var nbb_cell_id = 28;\n                var nbb_unformatted_code = \"# Dividing data into X and y\\nX = data.drop([\\\"Target\\\"], axis=1)\\ny = data[\\\"Target\\\"]\\n\\nX_test = data_test.drop(['Target'],axis=1) ##  Complete the code to drop target variable from test data\\ny_test = data_test['Target'] ##  Complete the code to store target variable in y_test\";\n                var nbb_formatted_code = \"# Dividing data into X and y\\nX = data.drop([\\\"Target\\\"], axis=1)\\ny = data[\\\"Target\\\"]\\n\\nX_test = data_test.drop(\\n    [\\\"Target\\\"], axis=1\\n)  ##  Complete the code to drop target variable from test data\\ny_test = data_test[\\\"Target\\\"]  ##  Complete the code to store target variable in y_test\";\n                var nbb_cells = Jupyter.notebook.get_cells();\n                for (var i = 0; i < nbb_cells.length; ++i) {\n                    if (nbb_cells[i].input_prompt_number == nbb_cell_id) {\n                        if (nbb_cells[i].get_text() == nbb_unformatted_code) {\n                             nbb_cells[i].set_text(nbb_formatted_code);\n                        }\n                        break;\n                    }\n                }\n            }, 500);\n            ",
            "text/plain": [
              "<IPython.core.display.Javascript object>"
            ]
          },
          "metadata": {},
          "output_type": "display_data"
        }
      ],
      "source": [
        "# Dividing data into X and y\n",
        "X = data.drop([\"Target\"], axis=1)\n",
        "y = data[\"Target\"]\n",
        "\n",
        "X_test = data_test.drop(['Target'],axis=1) ##  Complete the code to drop target variable from test data\n",
        "y_test = data_test['Target'] ##  Complete the code to store target variable in y_test"
      ]
    },
    {
      "cell_type": "code",
      "execution_count": 29,
      "metadata": {
        "id": "j-8vqBMXbp09"
      },
      "outputs": [
        {
          "name": "stdout",
          "output_type": "stream",
          "text": [
            "(15000, 40) (5000, 40) (5000, 40)\n"
          ]
        },
        {
          "data": {
            "application/javascript": "\n            setTimeout(function() {\n                var nbb_cell_id = 29;\n                var nbb_unformatted_code = \"# Splitting data into training and validation set:\\n\\nX_train, X_val, y_train, y_val = train_test_split(X,y,test_size=0.25) ## Complete the code to split the data into train test in the ratio 75:25\\n\\nprint(X_train.shape, X_val.shape, X_test.shape)\";\n                var nbb_formatted_code = \"# Splitting data into training and validation set:\\n\\nX_train, X_val, y_train, y_val = train_test_split(\\n    X, y, test_size=0.25\\n)  ## Complete the code to split the data into train test in the ratio 75:25\\n\\nprint(X_train.shape, X_val.shape, X_test.shape)\";\n                var nbb_cells = Jupyter.notebook.get_cells();\n                for (var i = 0; i < nbb_cells.length; ++i) {\n                    if (nbb_cells[i].input_prompt_number == nbb_cell_id) {\n                        if (nbb_cells[i].get_text() == nbb_unformatted_code) {\n                             nbb_cells[i].set_text(nbb_formatted_code);\n                        }\n                        break;\n                    }\n                }\n            }, 500);\n            ",
            "text/plain": [
              "<IPython.core.display.Javascript object>"
            ]
          },
          "metadata": {},
          "output_type": "display_data"
        }
      ],
      "source": [
        "# Splitting data into training and validation set:\n",
        "\n",
        "X_train, X_val, y_train, y_val = train_test_split(X,y,test_size=0.25) ## Complete the code to split the data into train test in the ratio 75:25\n",
        "\n",
        "print(X_train.shape, X_val.shape, X_test.shape)"
      ]
    },
    {
      "cell_type": "code",
      "execution_count": 30,
      "metadata": {
        "id": "28L1vgAwbp09"
      },
      "outputs": [
        {
          "data": {
            "application/javascript": "\n            setTimeout(function() {\n                var nbb_cell_id = 30;\n                var nbb_unformatted_code = \"# creating an instace of the imputer to be used\\nimputer = SimpleImputer(strategy=\\\"median\\\")\";\n                var nbb_formatted_code = \"# creating an instace of the imputer to be used\\nimputer = SimpleImputer(strategy=\\\"median\\\")\";\n                var nbb_cells = Jupyter.notebook.get_cells();\n                for (var i = 0; i < nbb_cells.length; ++i) {\n                    if (nbb_cells[i].input_prompt_number == nbb_cell_id) {\n                        if (nbb_cells[i].get_text() == nbb_unformatted_code) {\n                             nbb_cells[i].set_text(nbb_formatted_code);\n                        }\n                        break;\n                    }\n                }\n            }, 500);\n            ",
            "text/plain": [
              "<IPython.core.display.Javascript object>"
            ]
          },
          "metadata": {},
          "output_type": "display_data"
        }
      ],
      "source": [
        "# creating an instace of the imputer to be used\n",
        "imputer = SimpleImputer(strategy=\"median\")"
      ]
    },
    {
      "cell_type": "code",
      "execution_count": 31,
      "metadata": {
        "id": "FNfbw4rJbp09"
      },
      "outputs": [
        {
          "data": {
            "application/javascript": "\n            setTimeout(function() {\n                var nbb_cell_id = 31;\n                var nbb_unformatted_code = \"# Fit and transform the train data\\nX_train = pd.DataFrame(imputer.fit_transform(X_train), columns=X_train.columns)\\n\\n# Transform the validation data\\nX_val =  pd.DataFrame(imputer.fit_transform(X_val),columns=X_val.columns) ## Complete the code to impute missing values in X_val\\n\\n# Transform the test data\\nX_test =  pd.DataFrame(imputer.fit_transform(X_test),columns=X_test.columns)  ## Complete the code to impute missing values in X_test\";\n                var nbb_formatted_code = \"# Fit and transform the train data\\nX_train = pd.DataFrame(imputer.fit_transform(X_train), columns=X_train.columns)\\n\\n# Transform the validation data\\nX_val = pd.DataFrame(\\n    imputer.fit_transform(X_val), columns=X_val.columns\\n)  ## Complete the code to impute missing values in X_val\\n\\n# Transform the test data\\nX_test = pd.DataFrame(\\n    imputer.fit_transform(X_test), columns=X_test.columns\\n)  ## Complete the code to impute missing values in X_test\";\n                var nbb_cells = Jupyter.notebook.get_cells();\n                for (var i = 0; i < nbb_cells.length; ++i) {\n                    if (nbb_cells[i].input_prompt_number == nbb_cell_id) {\n                        if (nbb_cells[i].get_text() == nbb_unformatted_code) {\n                             nbb_cells[i].set_text(nbb_formatted_code);\n                        }\n                        break;\n                    }\n                }\n            }, 500);\n            ",
            "text/plain": [
              "<IPython.core.display.Javascript object>"
            ]
          },
          "metadata": {},
          "output_type": "display_data"
        }
      ],
      "source": [
        "# Fit and transform the train data\n",
        "X_train = pd.DataFrame(imputer.fit_transform(X_train), columns=X_train.columns)\n",
        "\n",
        "# Transform the validation data\n",
        "X_val =  pd.DataFrame(imputer.fit_transform(X_val),columns=X_val.columns) ## Complete the code to impute missing values in X_val\n",
        "\n",
        "# Transform the test data\n",
        "X_test =  pd.DataFrame(imputer.fit_transform(X_test),columns=X_test.columns)  ## Complete the code to impute missing values in X_test"
      ]
    },
    {
      "cell_type": "code",
      "execution_count": 32,
      "metadata": {
        "id": "3jdLvwTAbp09"
      },
      "outputs": [
        {
          "name": "stdout",
          "output_type": "stream",
          "text": [
            "V1     0\n",
            "V2     0\n",
            "V3     0\n",
            "V4     0\n",
            "V5     0\n",
            "V6     0\n",
            "V7     0\n",
            "V8     0\n",
            "V9     0\n",
            "V10    0\n",
            "V11    0\n",
            "V12    0\n",
            "V13    0\n",
            "V14    0\n",
            "V15    0\n",
            "V16    0\n",
            "V17    0\n",
            "V18    0\n",
            "V19    0\n",
            "V20    0\n",
            "V21    0\n",
            "V22    0\n",
            "V23    0\n",
            "V24    0\n",
            "V25    0\n",
            "V26    0\n",
            "V27    0\n",
            "V28    0\n",
            "V29    0\n",
            "V30    0\n",
            "V31    0\n",
            "V32    0\n",
            "V33    0\n",
            "V34    0\n",
            "V35    0\n",
            "V36    0\n",
            "V37    0\n",
            "V38    0\n",
            "V39    0\n",
            "V40    0\n",
            "dtype: int64\n",
            "------------------------------\n"
          ]
        },
        {
          "data": {
            "text/plain": [
              "V1     0\n",
              "V2     0\n",
              "V3     0\n",
              "V4     0\n",
              "V5     0\n",
              "V6     0\n",
              "V7     0\n",
              "V8     0\n",
              "V9     0\n",
              "V10    0\n",
              "V11    0\n",
              "V12    0\n",
              "V13    0\n",
              "V14    0\n",
              "V15    0\n",
              "V16    0\n",
              "V17    0\n",
              "V18    0\n",
              "V19    0\n",
              "V20    0\n",
              "V21    0\n",
              "V22    0\n",
              "V23    0\n",
              "V24    0\n",
              "V25    0\n",
              "V26    0\n",
              "V27    0\n",
              "V28    0\n",
              "V29    0\n",
              "V30    0\n",
              "V31    0\n",
              "V32    0\n",
              "V33    0\n",
              "V34    0\n",
              "V35    0\n",
              "V36    0\n",
              "V37    0\n",
              "V38    0\n",
              "V39    0\n",
              "V40    0\n",
              "dtype: int64"
            ]
          },
          "execution_count": 32,
          "metadata": {},
          "output_type": "execute_result"
        },
        {
          "data": {
            "application/javascript": "\n            setTimeout(function() {\n                var nbb_cell_id = 32;\n                var nbb_unformatted_code = \"# Checking that no column has missing values in train or test sets\\nprint(X_train.isna().sum())\\nprint(\\\"-\\\" * 30)\\n\\nX_val.isna().sum() ## Complete the code to check the count of missing values in validation set\\nX_test.isna().sum() ## Complete the code to check the count of missing values in test set\";\n                var nbb_formatted_code = \"# Checking that no column has missing values in train or test sets\\nprint(X_train.isna().sum())\\nprint(\\\"-\\\" * 30)\\n\\nX_val.isna().sum()  ## Complete the code to check the count of missing values in validation set\\nX_test.isna().sum()  ## Complete the code to check the count of missing values in test set\";\n                var nbb_cells = Jupyter.notebook.get_cells();\n                for (var i = 0; i < nbb_cells.length; ++i) {\n                    if (nbb_cells[i].input_prompt_number == nbb_cell_id) {\n                        if (nbb_cells[i].get_text() == nbb_unformatted_code) {\n                             nbb_cells[i].set_text(nbb_formatted_code);\n                        }\n                        break;\n                    }\n                }\n            }, 500);\n            ",
            "text/plain": [
              "<IPython.core.display.Javascript object>"
            ]
          },
          "metadata": {},
          "output_type": "display_data"
        }
      ],
      "source": [
        "# Checking that no column has missing values in train or test sets\n",
        "print(X_train.isna().sum())\n",
        "print(\"-\" * 30)\n",
        "\n",
        "X_val.isna().sum() ## Complete the code to check the count of missing values in validation set\n",
        "X_test.isna().sum() ## Complete the code to check the count of missing values in test set"
      ]
    },
    {
      "cell_type": "markdown",
      "metadata": {
        "id": "OzOa9FGA6WtG"
      },
      "source": [
        "## Model Building"
      ]
    },
    {
      "cell_type": "markdown",
      "metadata": {
        "id": "YZqmoqz7bp0-"
      },
      "source": [
        "### Model evaluation criterion\n",
        "\n",
        "The nature of predictions made by the classification model will translate as follows:\n",
        "\n",
        "- True positives (TP) are failures correctly predicted by the model.\n",
        "- False negatives (FN) are real failures in a generator where there is no detection by model. \n",
        "- False positives (FP) are failure detections in a generator where there is no failure.\n",
        "\n",
        "### Which metric to optimize?\n",
        "\n",
        "* We need to choose the metric which will ensure that the maximum number of generator failures are predicted correctly by the model.\n",
        "* We would want Recall to be maximized as greater the Recall, the higher the chances of minimizing false negatives.\n",
        "* We want to minimize false negatives because if a model predicts that a machine will have no failure when there will be a failure, it will increase the maintenance cost."
      ]
    },
    {
      "cell_type": "markdown",
      "metadata": {
        "id": "VUs837UXbp0-"
      },
      "source": [
        "**Let's define a function to output different metrics (including recall) on the train and test set and a function to show confusion matrix so that we do not have to use the same code repetitively while evaluating models.**"
      ]
    },
    {
      "cell_type": "code",
      "execution_count": 33,
      "metadata": {
        "id": "Nt33nwx_bp0-"
      },
      "outputs": [
        {
          "data": {
            "application/javascript": "\n            setTimeout(function() {\n                var nbb_cell_id = 33;\n                var nbb_unformatted_code = \"# defining a function to compute different metrics to check performance of a classification model built using sklearn\\ndef model_performance_classification_sklearn(model, predictors, target):\\n    \\\"\\\"\\\"\\n    Function to compute different metrics to check classification model performance\\n\\n    model: classifier\\n    predictors: independent variables\\n    target: dependent variable\\n    \\\"\\\"\\\"\\n\\n    # predicting using the independent variables\\n    pred = model.predict(predictors)\\n\\n    acc = accuracy_score(target, pred)  # to compute Accuracy\\n    recall = recall_score(target, pred)  # to compute Recall\\n    precision = precision_score(target, pred)  # to compute Precision\\n    f1 = f1_score(target, pred)  # to compute F1-score\\n\\n    # creating a dataframe of metrics\\n    df_perf = pd.DataFrame(\\n        {\\n            \\\"Accuracy\\\": acc,\\n            \\\"Recall\\\": recall,\\n            \\\"Precision\\\": precision,\\n            \\\"F1\\\": f1\\n        },\\n        index=[0],\\n    )\\n\\n    return df_perf\";\n                var nbb_formatted_code = \"# defining a function to compute different metrics to check performance of a classification model built using sklearn\\ndef model_performance_classification_sklearn(model, predictors, target):\\n    \\\"\\\"\\\"\\n    Function to compute different metrics to check classification model performance\\n\\n    model: classifier\\n    predictors: independent variables\\n    target: dependent variable\\n    \\\"\\\"\\\"\\n\\n    # predicting using the independent variables\\n    pred = model.predict(predictors)\\n\\n    acc = accuracy_score(target, pred)  # to compute Accuracy\\n    recall = recall_score(target, pred)  # to compute Recall\\n    precision = precision_score(target, pred)  # to compute Precision\\n    f1 = f1_score(target, pred)  # to compute F1-score\\n\\n    # creating a dataframe of metrics\\n    df_perf = pd.DataFrame(\\n        {\\\"Accuracy\\\": acc, \\\"Recall\\\": recall, \\\"Precision\\\": precision, \\\"F1\\\": f1},\\n        index=[0],\\n    )\\n\\n    return df_perf\";\n                var nbb_cells = Jupyter.notebook.get_cells();\n                for (var i = 0; i < nbb_cells.length; ++i) {\n                    if (nbb_cells[i].input_prompt_number == nbb_cell_id) {\n                        if (nbb_cells[i].get_text() == nbb_unformatted_code) {\n                             nbb_cells[i].set_text(nbb_formatted_code);\n                        }\n                        break;\n                    }\n                }\n            }, 500);\n            ",
            "text/plain": [
              "<IPython.core.display.Javascript object>"
            ]
          },
          "metadata": {},
          "output_type": "display_data"
        }
      ],
      "source": [
        "# defining a function to compute different metrics to check performance of a classification model built using sklearn\n",
        "def model_performance_classification_sklearn(model, predictors, target):\n",
        "    \"\"\"\n",
        "    Function to compute different metrics to check classification model performance\n",
        "\n",
        "    model: classifier\n",
        "    predictors: independent variables\n",
        "    target: dependent variable\n",
        "    \"\"\"\n",
        "\n",
        "    # predicting using the independent variables\n",
        "    pred = model.predict(predictors)\n",
        "\n",
        "    acc = accuracy_score(target, pred)  # to compute Accuracy\n",
        "    recall = recall_score(target, pred)  # to compute Recall\n",
        "    precision = precision_score(target, pred)  # to compute Precision\n",
        "    f1 = f1_score(target, pred)  # to compute F1-score\n",
        "\n",
        "    # creating a dataframe of metrics\n",
        "    df_perf = pd.DataFrame(\n",
        "        {\n",
        "            \"Accuracy\": acc,\n",
        "            \"Recall\": recall,\n",
        "            \"Precision\": precision,\n",
        "            \"F1\": f1\n",
        "        },\n",
        "        index=[0],\n",
        "    )\n",
        "\n",
        "    return df_perf"
      ]
    },
    {
      "cell_type": "code",
      "execution_count": 34,
      "metadata": {
        "id": "XGLGc5ZFbp0-"
      },
      "outputs": [
        {
          "data": {
            "application/javascript": "\n            setTimeout(function() {\n                var nbb_cell_id = 34;\n                var nbb_unformatted_code = \"def confusion_matrix_sklearn(model, predictors, target):\\n    \\\"\\\"\\\"\\n    To plot the confusion_matrix with percentages\\n\\n    model: classifier\\n    predictors: independent variables\\n    target: dependent variable\\n    \\\"\\\"\\\"\\n    y_pred = model.predict(predictors)\\n    cm = confusion_matrix(target, y_pred)\\n    labels = np.asarray(\\n        [\\n            [\\\"{0:0.0f}\\\".format(item) + \\\"\\\\n{0:.2%}\\\".format(item / cm.flatten().sum())]\\n            for item in cm.flatten()\\n        ]\\n    ).reshape(2, 2)\\n\\n    plt.figure(figsize=(6, 4))\\n    sns.heatmap(cm, annot=labels, fmt=\\\"\\\")\\n    plt.ylabel(\\\"True label\\\")\\n    plt.xlabel(\\\"Predicted label\\\")\";\n                var nbb_formatted_code = \"def confusion_matrix_sklearn(model, predictors, target):\\n    \\\"\\\"\\\"\\n    To plot the confusion_matrix with percentages\\n\\n    model: classifier\\n    predictors: independent variables\\n    target: dependent variable\\n    \\\"\\\"\\\"\\n    y_pred = model.predict(predictors)\\n    cm = confusion_matrix(target, y_pred)\\n    labels = np.asarray(\\n        [\\n            [\\\"{0:0.0f}\\\".format(item) + \\\"\\\\n{0:.2%}\\\".format(item / cm.flatten().sum())]\\n            for item in cm.flatten()\\n        ]\\n    ).reshape(2, 2)\\n\\n    plt.figure(figsize=(6, 4))\\n    sns.heatmap(cm, annot=labels, fmt=\\\"\\\")\\n    plt.ylabel(\\\"True label\\\")\\n    plt.xlabel(\\\"Predicted label\\\")\";\n                var nbb_cells = Jupyter.notebook.get_cells();\n                for (var i = 0; i < nbb_cells.length; ++i) {\n                    if (nbb_cells[i].input_prompt_number == nbb_cell_id) {\n                        if (nbb_cells[i].get_text() == nbb_unformatted_code) {\n                             nbb_cells[i].set_text(nbb_formatted_code);\n                        }\n                        break;\n                    }\n                }\n            }, 500);\n            ",
            "text/plain": [
              "<IPython.core.display.Javascript object>"
            ]
          },
          "metadata": {},
          "output_type": "display_data"
        }
      ],
      "source": [
        "def confusion_matrix_sklearn(model, predictors, target):\n",
        "    \"\"\"\n",
        "    To plot the confusion_matrix with percentages\n",
        "\n",
        "    model: classifier\n",
        "    predictors: independent variables\n",
        "    target: dependent variable\n",
        "    \"\"\"\n",
        "    y_pred = model.predict(predictors)\n",
        "    cm = confusion_matrix(target, y_pred)\n",
        "    labels = np.asarray(\n",
        "        [\n",
        "            [\"{0:0.0f}\".format(item) + \"\\n{0:.2%}\".format(item / cm.flatten().sum())]\n",
        "            for item in cm.flatten()\n",
        "        ]\n",
        "    ).reshape(2, 2)\n",
        "\n",
        "    plt.figure(figsize=(6, 4))\n",
        "    sns.heatmap(cm, annot=labels, fmt=\"\")\n",
        "    plt.ylabel(\"True label\")\n",
        "    plt.xlabel(\"Predicted label\")"
      ]
    },
    {
      "cell_type": "markdown",
      "metadata": {
        "id": "-hOzddAXbp0_"
      },
      "source": [
        "### Defining scorer to be used for cross-validation and hyperparameter tuning\n",
        "\n",
        "- We want to reduce false negatives and will try to maximize \"Recall\".\n",
        "- To maximize Recall, we can use Recall as a **scorer** in cross-validation and hyperparameter tuning."
      ]
    },
    {
      "cell_type": "code",
      "execution_count": 35,
      "metadata": {
        "id": "ayLcyOLsbp0_"
      },
      "outputs": [
        {
          "data": {
            "application/javascript": "\n            setTimeout(function() {\n                var nbb_cell_id = 35;\n                var nbb_unformatted_code = \"# Type of scoring used to compare parameter combinations\\nscorer = metrics.make_scorer(metrics.recall_score)\";\n                var nbb_formatted_code = \"# Type of scoring used to compare parameter combinations\\nscorer = metrics.make_scorer(metrics.recall_score)\";\n                var nbb_cells = Jupyter.notebook.get_cells();\n                for (var i = 0; i < nbb_cells.length; ++i) {\n                    if (nbb_cells[i].input_prompt_number == nbb_cell_id) {\n                        if (nbb_cells[i].get_text() == nbb_unformatted_code) {\n                             nbb_cells[i].set_text(nbb_formatted_code);\n                        }\n                        break;\n                    }\n                }\n            }, 500);\n            ",
            "text/plain": [
              "<IPython.core.display.Javascript object>"
            ]
          },
          "metadata": {},
          "output_type": "display_data"
        }
      ],
      "source": [
        "# Type of scoring used to compare parameter combinations\n",
        "scorer = metrics.make_scorer(metrics.recall_score)"
      ]
    },
    {
      "cell_type": "markdown",
      "metadata": {
        "id": "iNwROa3X3OV7"
      },
      "source": [
        "**We are now done with pre-processing and evaluation criterion, so let's start building the model.**"
      ]
    },
    {
      "cell_type": "markdown",
      "metadata": {
        "id": "8Je_G2zN3VCF"
      },
      "source": [
        "### Model Building on original data"
      ]
    },
    {
      "cell_type": "code",
      "execution_count": 66,
      "metadata": {
        "id": "-OTOG3o1bp0_",
        "scrolled": true
      },
      "outputs": [
        {
          "name": "stdout",
          "output_type": "stream",
          "text": [
            "\n",
            "Cross-Validation Cost:\n",
            "\n",
            "Logistic regression: 0.4916666666666667\n",
            "Bagging: 0.7071428571428571\n",
            "RandomForest: 0.7285714285714286\n",
            "AdaBoost: 0.6142857142857143\n",
            "GradientBoost: 0.7178571428571427\n",
            "XGB: 0.8047619047619048\n",
            "\n",
            "Validation Performance:\n",
            "\n",
            "Logistic regression: 0.4888888888888889\n",
            "Bagging: 0.662962962962963\n",
            "RandomForest: 0.7222222222222222\n",
            "AdaBoost: 0.6037037037037037\n",
            "GradientBoost: 0.7222222222222222\n",
            "XGB: 0.7925925925925926\n"
          ]
        },
        {
          "data": {
            "application/javascript": "\n            setTimeout(function() {\n                var nbb_cell_id = 66;\n                var nbb_unformatted_code = \"models = []  # Empty list to store all the models\\n\\n# Appending models into the list\\nmodels.append((\\\"Logistic regression\\\", LogisticRegression(random_state=1)))\\nmodels.append((\\\"Bagging\\\", BaggingClassifier(random_state=1)))\\nmodels.append((\\\"RandomForest\\\", RandomForestClassifier(random_state=1)))\\nmodels.append((\\\"AdaBoost\\\", AdaBoostClassifier(random_state=1)))\\nmodels.append((\\\"GradientBoost\\\", GradientBoostingClassifier(random_state=1))) \\nmodels.append((\\\"XGB\\\", XGBClassifier(random_state=1))) \\n\\n## Complete the code to append remaining 4 models in the list models\\n\\nresults1 = []  # Empty list to store all model's CV scores\\nnames = []  # Empty list to store name of the models\\n\\n\\n# loop through all models to get the mean cross validated score\\nprint(\\\"\\\\n\\\" \\\"Cross-Validation Cost:\\\" \\\"\\\\n\\\")\\n\\nfor name, model in models:\\n    kfold = StratifiedKFold(\\n        n_splits=5, shuffle=True, random_state=1\\n    )  # Setting number of splits equal to 5\\n    cv_result = cross_val_score(\\n        estimator=model, X=X_train, y=y_train, scoring=scorer, cv=kfold\\n    )\\n    results1.append(cv_result)\\n    names.append(name)\\n    print(\\\"{}: {}\\\".format(name, cv_result.mean())) \\n\\nprint(\\\"\\\\n\\\" \\\"Validation Performance:\\\" \\\"\\\\n\\\")\\nscores=[]\\nfor name, model in models:\\n    model.fit(X_train, y_train)\\n    recall_scores = recall_score(y_val, model.predict(X_val))\\n    scores.append(recall_scores)\\n    print(\\\"{}: {}\\\".format(name, recall_scores))\";\n                var nbb_formatted_code = \"models = []  # Empty list to store all the models\\n\\n# Appending models into the list\\nmodels.append((\\\"Logistic regression\\\", LogisticRegression(random_state=1)))\\nmodels.append((\\\"Bagging\\\", BaggingClassifier(random_state=1)))\\nmodels.append((\\\"RandomForest\\\", RandomForestClassifier(random_state=1)))\\nmodels.append((\\\"AdaBoost\\\", AdaBoostClassifier(random_state=1)))\\nmodels.append((\\\"GradientBoost\\\", GradientBoostingClassifier(random_state=1)))\\nmodels.append((\\\"XGB\\\", XGBClassifier(random_state=1)))\\n\\n## Complete the code to append remaining 4 models in the list models\\n\\nresults1 = []  # Empty list to store all model's CV scores\\nnames = []  # Empty list to store name of the models\\n\\n\\n# loop through all models to get the mean cross validated score\\nprint(\\\"\\\\n\\\" \\\"Cross-Validation Cost:\\\" \\\"\\\\n\\\")\\n\\nfor name, model in models:\\n    kfold = StratifiedKFold(\\n        n_splits=5, shuffle=True, random_state=1\\n    )  # Setting number of splits equal to 5\\n    cv_result = cross_val_score(\\n        estimator=model, X=X_train, y=y_train, scoring=scorer, cv=kfold\\n    )\\n    results1.append(cv_result)\\n    names.append(name)\\n    print(\\\"{}: {}\\\".format(name, cv_result.mean()))\\n\\nprint(\\\"\\\\n\\\" \\\"Validation Performance:\\\" \\\"\\\\n\\\")\\nscores = []\\nfor name, model in models:\\n    model.fit(X_train, y_train)\\n    recall_scores = recall_score(y_val, model.predict(X_val))\\n    scores.append(recall_scores)\\n    print(\\\"{}: {}\\\".format(name, recall_scores))\";\n                var nbb_cells = Jupyter.notebook.get_cells();\n                for (var i = 0; i < nbb_cells.length; ++i) {\n                    if (nbb_cells[i].input_prompt_number == nbb_cell_id) {\n                        if (nbb_cells[i].get_text() == nbb_unformatted_code) {\n                             nbb_cells[i].set_text(nbb_formatted_code);\n                        }\n                        break;\n                    }\n                }\n            }, 500);\n            ",
            "text/plain": [
              "<IPython.core.display.Javascript object>"
            ]
          },
          "metadata": {},
          "output_type": "display_data"
        }
      ],
      "source": [
        "models = []  # Empty list to store all the models\n",
        "\n",
        "# Appending models into the list\n",
        "models.append((\"Logistic regression\", LogisticRegression(random_state=1)))\n",
        "models.append((\"Bagging\", BaggingClassifier(random_state=1)))\n",
        "models.append((\"RandomForest\", RandomForestClassifier(random_state=1)))\n",
        "models.append((\"AdaBoost\", AdaBoostClassifier(random_state=1)))\n",
        "models.append((\"GradientBoost\", GradientBoostingClassifier(random_state=1))) \n",
        "models.append((\"XGB\", XGBClassifier(random_state=1))) \n",
        "\n",
        "## Complete the code to append remaining 4 models in the list models\n",
        "\n",
        "results1 = []  # Empty list to store all model's CV scores\n",
        "names = []  # Empty list to store name of the models\n",
        "\n",
        "\n",
        "# loop through all models to get the mean cross validated score\n",
        "print(\"\\n\" \"Cross-Validation Cost:\" \"\\n\")\n",
        "\n",
        "for name, model in models:\n",
        "    kfold = StratifiedKFold(\n",
        "        n_splits=5, shuffle=True, random_state=1\n",
        "    )  # Setting number of splits equal to 5\n",
        "    cv_result = cross_val_score(\n",
        "        estimator=model, X=X_train, y=y_train, scoring=scorer, cv=kfold\n",
        "    )\n",
        "    results1.append(cv_result)\n",
        "    names.append(name)\n",
        "    print(\"{}: {}\".format(name, cv_result.mean())) \n",
        "\n",
        "print(\"\\n\" \"Validation Performance:\" \"\\n\")\n",
        "scores=[]\n",
        "for name, model in models:\n",
        "    model.fit(X_train, y_train)\n",
        "    recall_scores = recall_score(y_val, model.predict(X_val))\n",
        "    scores.append(recall_scores)\n",
        "    print(\"{}: {}\".format(name, recall_scores))"
      ]
    },
    {
      "cell_type": "code",
      "execution_count": 31,
      "metadata": {},
      "outputs": [
        {
          "data": {
            "text/html": [
              "<div>\n",
              "<style scoped>\n",
              "    .dataframe tbody tr th:only-of-type {\n",
              "        vertical-align: middle;\n",
              "    }\n",
              "\n",
              "    .dataframe tbody tr th {\n",
              "        vertical-align: top;\n",
              "    }\n",
              "\n",
              "    .dataframe thead th {\n",
              "        text-align: right;\n",
              "    }\n",
              "</style>\n",
              "<table border=\"1\" class=\"dataframe\">\n",
              "  <thead>\n",
              "    <tr style=\"text-align: right;\">\n",
              "      <th></th>\n",
              "      <th>Logistic regression</th>\n",
              "      <th>Bagging</th>\n",
              "      <th>randomforest</th>\n",
              "      <th>adaboost</th>\n",
              "      <th>gradientboost</th>\n",
              "      <th>XGB</th>\n",
              "    </tr>\n",
              "  </thead>\n",
              "  <tbody>\n",
              "    <tr>\n",
              "      <th>training</th>\n",
              "      <td>0.490</td>\n",
              "      <td>0.698</td>\n",
              "      <td>0.728</td>\n",
              "      <td>0.631</td>\n",
              "      <td>0.720</td>\n",
              "      <td>0.795</td>\n",
              "    </tr>\n",
              "    <tr>\n",
              "      <th>validation</th>\n",
              "      <td>0.491</td>\n",
              "      <td>0.680</td>\n",
              "      <td>0.726</td>\n",
              "      <td>0.577</td>\n",
              "      <td>0.712</td>\n",
              "      <td>0.772</td>\n",
              "    </tr>\n",
              "  </tbody>\n",
              "</table>\n",
              "</div>"
            ],
            "text/plain": [
              "            Logistic regression  Bagging  randomforest  adaboost  \\\n",
              "training                  0.490    0.698         0.728     0.631   \n",
              "validation                0.491    0.680         0.726     0.577   \n",
              "\n",
              "            gradientboost   XGB  \n",
              "training            0.720 0.795  \n",
              "validation          0.712 0.772  "
            ]
          },
          "execution_count": 31,
          "metadata": {},
          "output_type": "execute_result"
        },
        {
          "data": {
            "application/javascript": "\n            setTimeout(function() {\n                var nbb_cell_id = 31;\n                var nbb_unformatted_code = \"ff=pd.DataFrame([dict(zip(names,[results1[i].mean() for i in range(6)]))],index=['training'])\\nff2=pd.DataFrame([dict(zip(names,scores))],index=['validation'])\\npd.concat([ff,ff2])\";\n                var nbb_formatted_code = \"ff = pd.DataFrame(\\n    [dict(zip(names, [results1[i].mean() for i in range(6)]))], index=[\\\"training\\\"]\\n)\\nff2 = pd.DataFrame([dict(zip(names, scores))], index=[\\\"validation\\\"])\\npd.concat([ff, ff2])\";\n                var nbb_cells = Jupyter.notebook.get_cells();\n                for (var i = 0; i < nbb_cells.length; ++i) {\n                    if (nbb_cells[i].input_prompt_number == nbb_cell_id) {\n                        if (nbb_cells[i].get_text() == nbb_unformatted_code) {\n                             nbb_cells[i].set_text(nbb_formatted_code);\n                        }\n                        break;\n                    }\n                }\n            }, 500);\n            ",
            "text/plain": [
              "<IPython.core.display.Javascript object>"
            ]
          },
          "metadata": {},
          "output_type": "display_data"
        }
      ],
      "source": [
        "ff=pd.DataFrame([dict(zip(names,[results1[i].mean() for i in range(6)]))],index=['training'])\n",
        "ff2=pd.DataFrame([dict(zip(names,scores))],index=['validation'])\n",
        "pd.concat([ff,ff2])"
      ]
    },
    {
      "cell_type": "code",
      "execution_count": 34,
      "metadata": {
        "id": "Cm61fR_mbp0_",
        "scrolled": false
      },
      "outputs": [
        {
          "data": {
            "image/png": "[encoded data removed]",
            "text/plain": [
              "<Figure size 720x504 with 1 Axes>"
            ]
          },
          "metadata": {
            "needs_background": "light"
          },
          "output_type": "display_data"
        },
        {
          "data": {
            "application/javascript": "\n            setTimeout(function() {\n                var nbb_cell_id = 34;\n                var nbb_unformatted_code = \"# Plotting boxplots for CV scores of all models defined above\\nfig = plt.figure(figsize=(10, 7))\\n\\nfig.suptitle(\\\"Algorithm Comparison\\\")\\nax = fig.add_subplot(111)\\n\\nplt.boxplot(results1)\\nax.set_xticklabels(names)\\n\\nplt.show()\";\n                var nbb_formatted_code = \"# Plotting boxplots for CV scores of all models defined above\\nfig = plt.figure(figsize=(10, 7))\\n\\nfig.suptitle(\\\"Algorithm Comparison\\\")\\nax = fig.add_subplot(111)\\n\\nplt.boxplot(results1)\\nax.set_xticklabels(names)\\n\\nplt.show()\";\n                var nbb_cells = Jupyter.notebook.get_cells();\n                for (var i = 0; i < nbb_cells.length; ++i) {\n                    if (nbb_cells[i].input_prompt_number == nbb_cell_id) {\n                        if (nbb_cells[i].get_text() == nbb_unformatted_code) {\n                             nbb_cells[i].set_text(nbb_formatted_code);\n                        }\n                        break;\n                    }\n                }\n            }, 500);\n            ",
            "text/plain": [
              "<IPython.core.display.Javascript object>"
            ]
          },
          "metadata": {},
          "output_type": "display_data"
        }
      ],
      "source": [
        "# Plotting boxplots for CV scores of all models defined above\n",
        "fig = plt.figure(figsize=(10, 7))\n",
        "\n",
        "fig.suptitle(\"Algorithm Comparison\")\n",
        "ax = fig.add_subplot(111)\n",
        "\n",
        "plt.boxplot(results1)\n",
        "ax.set_xticklabels(names)\n",
        "\n",
        "plt.show()"
      ]
    },
    {
      "cell_type": "markdown",
      "metadata": {
        "id": "C91_6Swtbp1A"
      },
      "source": [
        "### Model Building with oversampled data"
      ]
    },
    {
      "cell_type": "code",
      "execution_count": 36,
      "metadata": {
        "id": "o2dEk01hbp1A"
      },
      "outputs": [
        {
          "name": "stdout",
          "output_type": "stream",
          "text": [
            "Before OverSampling, counts of label '1': 833\n",
            "Before OverSampling, counts of label '0': 14167 \n",
            "\n",
            "After OverSampling, counts of label '1': 14167\n",
            "After OverSampling, counts of label '0': 14167 \n",
            "\n",
            "After OverSampling, the shape of train_X: (28334, 40)\n",
            "After OverSampling, the shape of train_y: (28334,) \n",
            "\n"
          ]
        },
        {
          "data": {
            "application/javascript": "\n            setTimeout(function() {\n                var nbb_cell_id = 36;\n                var nbb_unformatted_code = \"print(\\\"Before OverSampling, counts of label '1': {}\\\".format(sum(y_train == 1)))\\nprint(\\\"Before OverSampling, counts of label '0': {} \\\\n\\\".format(sum(y_train == 0)))\\n\\n# Synthetic Minority Over Sampling Technique\\nsm = SMOTE(sampling_strategy=1, k_neighbors=5, random_state=1)\\nX_train_over, y_train_over = sm.fit_resample(X_train, y_train)\\n\\n\\nprint(\\\"After OverSampling, counts of label '1': {}\\\".format(sum(y_train_over == 1)))\\nprint(\\\"After OverSampling, counts of label '0': {} \\\\n\\\".format(sum(y_train_over == 0)))\\n\\n\\nprint(\\\"After OverSampling, the shape of train_X: {}\\\".format(X_train_over.shape))\\nprint(\\\"After OverSampling, the shape of train_y: {} \\\\n\\\".format(y_train_over.shape))\";\n                var nbb_formatted_code = \"print(\\\"Before OverSampling, counts of label '1': {}\\\".format(sum(y_train == 1)))\\nprint(\\\"Before OverSampling, counts of label '0': {} \\\\n\\\".format(sum(y_train == 0)))\\n\\n# Synthetic Minority Over Sampling Technique\\nsm = SMOTE(sampling_strategy=1, k_neighbors=5, random_state=1)\\nX_train_over, y_train_over = sm.fit_resample(X_train, y_train)\\n\\n\\nprint(\\\"After OverSampling, counts of label '1': {}\\\".format(sum(y_train_over == 1)))\\nprint(\\\"After OverSampling, counts of label '0': {} \\\\n\\\".format(sum(y_train_over == 0)))\\n\\n\\nprint(\\\"After OverSampling, the shape of train_X: {}\\\".format(X_train_over.shape))\\nprint(\\\"After OverSampling, the shape of train_y: {} \\\\n\\\".format(y_train_over.shape))\";\n                var nbb_cells = Jupyter.notebook.get_cells();\n                for (var i = 0; i < nbb_cells.length; ++i) {\n                    if (nbb_cells[i].input_prompt_number == nbb_cell_id) {\n                        if (nbb_cells[i].get_text() == nbb_unformatted_code) {\n                             nbb_cells[i].set_text(nbb_formatted_code);\n                        }\n                        break;\n                    }\n                }\n            }, 500);\n            ",
            "text/plain": [
              "<IPython.core.display.Javascript object>"
            ]
          },
          "metadata": {},
          "output_type": "display_data"
        }
      ],
      "source": [
        "print(\"Before OverSampling, counts of label '1': {}\".format(sum(y_train == 1)))\n",
        "print(\"Before OverSampling, counts of label '0': {} \\n\".format(sum(y_train == 0)))\n",
        "\n",
        "# Synthetic Minority Over Sampling Technique\n",
        "sm = SMOTE(sampling_strategy=1, k_neighbors=5, random_state=1)\n",
        "X_train_over, y_train_over = sm.fit_resample(X_train, y_train)\n",
        "\n",
        "\n",
        "print(\"After OverSampling, counts of label '1': {}\".format(sum(y_train_over == 1)))\n",
        "print(\"After OverSampling, counts of label '0': {} \\n\".format(sum(y_train_over == 0)))\n",
        "\n",
        "\n",
        "print(\"After OverSampling, the shape of train_X: {}\".format(X_train_over.shape))\n",
        "print(\"After OverSampling, the shape of train_y: {} \\n\".format(y_train_over.shape))"
      ]
    },
    {
      "cell_type": "code",
      "execution_count": 37,
      "metadata": {
        "id": "ZsOer36qbp1A"
      },
      "outputs": [
        {
          "name": "stdout",
          "output_type": "stream",
          "text": [
            "\n",
            "Cross-Validation Cost:\n",
            "\n",
            "Logistic regression results is 0.8864848837333417\n",
            "Bagging results is 0.9745629248901775\n",
            "randomforest results is 0.9813975828966368\n",
            "adaboost results is 0.8947288857181794\n",
            "gradientboost results is 0.924675707656941\n",
            "XGB results is 0.9886555206959542\n",
            "\n",
            "Validation Performance:\n",
            "\n",
            "Logistic regression: 0.8245033112582781\n",
            "Bagging: 0.8443708609271523\n",
            "randomforest: 0.8509933774834437\n",
            "adaboost: 0.8278145695364238\n",
            "gradientboost: 0.8708609271523179\n",
            "XGB: 0.8609271523178808\n"
          ]
        },
        {
          "data": {
            "application/javascript": "\n            setTimeout(function() {\n                var nbb_cell_id = 37;\n                var nbb_unformatted_code = \"results1 = []  # Empty list to store all model's CV scores\\nnames = []  # Empty list to store name of the models\\n# loop through all models to get the mean cross validated score\\nprint(\\\"\\\\n\\\" \\\"Cross-Validation Cost:\\\" \\\"\\\\n\\\")\\nfor name,model in models:## Complete the code to build models on oversampled data \\n    k_folds=StratifiedKFold(random_state=1,shuffle=True,n_splits=5)\\n    results=cross_val_score(model,X_train_over,y_train_over,cv=k_folds,scoring=scorer)    \\n## Note - Take reference from the original models built above\\n    results1.append(results)\\n    names.append(name)\\n    print('{} results is {}'.format(name,results.mean()))\\nprint(\\\"\\\\n\\\" \\\"Validation Performance:\\\" \\\"\\\\n\\\")\\nall_scores=[]\\nfor name, model in models:\\n    model.fit(X_train_over, y_train_over)\\n    scores = recall_score(y_val, model.predict(X_val))\\n    all_scores.append(scores)\\n    print(\\\"{}: {}\\\".format(name, scores))\";\n                var nbb_formatted_code = \"results1 = []  # Empty list to store all model's CV scores\\nnames = []  # Empty list to store name of the models\\n# loop through all models to get the mean cross validated score\\nprint(\\\"\\\\n\\\" \\\"Cross-Validation Cost:\\\" \\\"\\\\n\\\")\\nfor name, model in models:  ## Complete the code to build models on oversampled data\\n    k_folds = StratifiedKFold(random_state=1, shuffle=True, n_splits=5)\\n    results = cross_val_score(\\n        model, X_train_over, y_train_over, cv=k_folds, scoring=scorer\\n    )\\n    ## Note - Take reference from the original models built above\\n    results1.append(results)\\n    names.append(name)\\n    print(\\\"{} results is {}\\\".format(name, results.mean()))\\nprint(\\\"\\\\n\\\" \\\"Validation Performance:\\\" \\\"\\\\n\\\")\\nall_scores = []\\nfor name, model in models:\\n    model.fit(X_train_over, y_train_over)\\n    scores = recall_score(y_val, model.predict(X_val))\\n    all_scores.append(scores)\\n    print(\\\"{}: {}\\\".format(name, scores))\";\n                var nbb_cells = Jupyter.notebook.get_cells();\n                for (var i = 0; i < nbb_cells.length; ++i) {\n                    if (nbb_cells[i].input_prompt_number == nbb_cell_id) {\n                        if (nbb_cells[i].get_text() == nbb_unformatted_code) {\n                             nbb_cells[i].set_text(nbb_formatted_code);\n                        }\n                        break;\n                    }\n                }\n            }, 500);\n            ",
            "text/plain": [
              "<IPython.core.display.Javascript object>"
            ]
          },
          "metadata": {},
          "output_type": "display_data"
        }
      ],
      "source": [
        "results1 = []  # Empty list to store all model's CV scores\n",
        "names = []  # Empty list to store name of the models\n",
        "# loop through all models to get the mean cross validated score\n",
        "print(\"\\n\" \"Cross-Validation Cost:\" \"\\n\")\n",
        "for name,model in models:## Complete the code to build models on oversampled data \n",
        "    k_folds=StratifiedKFold(random_state=1,shuffle=True,n_splits=5)\n",
        "    results=cross_val_score(model,X_train_over,y_train_over,cv=k_folds,scoring=scorer)    \n",
        "## Note - Take reference from the original models built above\n",
        "    results1.append(results)\n",
        "    names.append(name)\n",
        "    print('{} results is {}'.format(name,results.mean()))\n",
        "print(\"\\n\" \"Validation Performance:\" \"\\n\")\n",
        "all_scores=[]\n",
        "for name, model in models:\n",
        "    model.fit(X_train_over, y_train_over)\n",
        "    scores = recall_score(y_val, model.predict(X_val))\n",
        "    all_scores.append(scores)\n",
        "    print(\"{}: {}\".format(name, scores))\n"
      ]
    },
    {
      "cell_type": "code",
      "execution_count": 38,
      "metadata": {},
      "outputs": [
        {
          "data": {
            "text/html": [
              "<div>\n",
              "<style scoped>\n",
              "    .dataframe tbody tr th:only-of-type {\n",
              "        vertical-align: middle;\n",
              "    }\n",
              "\n",
              "    .dataframe tbody tr th {\n",
              "        vertical-align: top;\n",
              "    }\n",
              "\n",
              "    .dataframe thead th {\n",
              "        text-align: right;\n",
              "    }\n",
              "</style>\n",
              "<table border=\"1\" class=\"dataframe\">\n",
              "  <thead>\n",
              "    <tr style=\"text-align: right;\">\n",
              "      <th></th>\n",
              "      <th>Logistic regression</th>\n",
              "      <th>Bagging</th>\n",
              "      <th>randomforest</th>\n",
              "      <th>adaboost</th>\n",
              "      <th>gradientboost</th>\n",
              "      <th>XGB</th>\n",
              "    </tr>\n",
              "  </thead>\n",
              "  <tbody>\n",
              "    <tr>\n",
              "      <th>training</th>\n",
              "      <td>0.886</td>\n",
              "      <td>0.975</td>\n",
              "      <td>0.981</td>\n",
              "      <td>0.895</td>\n",
              "      <td>0.925</td>\n",
              "      <td>0.989</td>\n",
              "    </tr>\n",
              "    <tr>\n",
              "      <th>validation</th>\n",
              "      <td>0.825</td>\n",
              "      <td>0.844</td>\n",
              "      <td>0.851</td>\n",
              "      <td>0.828</td>\n",
              "      <td>0.871</td>\n",
              "      <td>0.861</td>\n",
              "    </tr>\n",
              "  </tbody>\n",
              "</table>\n",
              "</div>"
            ],
            "text/plain": [
              "            Logistic regression  Bagging  randomforest  adaboost  \\\n",
              "training                  0.886    0.975         0.981     0.895   \n",
              "validation                0.825    0.844         0.851     0.828   \n",
              "\n",
              "            gradientboost   XGB  \n",
              "training            0.925 0.989  \n",
              "validation          0.871 0.861  "
            ]
          },
          "execution_count": 38,
          "metadata": {},
          "output_type": "execute_result"
        },
        {
          "data": {
            "application/javascript": "\n            setTimeout(function() {\n                var nbb_cell_id = 38;\n                var nbb_unformatted_code = \"ff=pd.DataFrame([dict(zip(names,[results1[i].mean() for i in range(6)]))],index=['training'])\\nff2=pd.DataFrame([dict(zip(names,all_scores))],index=['validation'])\\npd.concat([ff,ff2])\";\n                var nbb_formatted_code = \"ff = pd.DataFrame(\\n    [dict(zip(names, [results1[i].mean() for i in range(6)]))], index=[\\\"training\\\"]\\n)\\nff2 = pd.DataFrame([dict(zip(names, all_scores))], index=[\\\"validation\\\"])\\npd.concat([ff, ff2])\";\n                var nbb_cells = Jupyter.notebook.get_cells();\n                for (var i = 0; i < nbb_cells.length; ++i) {\n                    if (nbb_cells[i].input_prompt_number == nbb_cell_id) {\n                        if (nbb_cells[i].get_text() == nbb_unformatted_code) {\n                             nbb_cells[i].set_text(nbb_formatted_code);\n                        }\n                        break;\n                    }\n                }\n            }, 500);\n            ",
            "text/plain": [
              "<IPython.core.display.Javascript object>"
            ]
          },
          "metadata": {},
          "output_type": "display_data"
        }
      ],
      "source": [
        "ff=pd.DataFrame([dict(zip(names,[results1[i].mean() for i in range(6)]))],index=['training'])\n",
        "ff2=pd.DataFrame([dict(zip(names,all_scores))],index=['validation'])\n",
        "pd.concat([ff,ff2])"
      ]
    },
    {
      "cell_type": "code",
      "execution_count": 39,
      "metadata": {
        "id": "kwUcBORjbp1A",
        "scrolled": false
      },
      "outputs": [
        {
          "data": {
            "text/plain": [
              "[Text(1, 0, 'Logistic regression'),\n",
              " Text(2, 0, 'Bagging'),\n",
              " Text(3, 0, 'randomforest'),\n",
              " Text(4, 0, 'adaboost'),\n",
              " Text(5, 0, 'gradientboost'),\n",
              " Text(6, 0, 'XGB')]"
            ]
          },
          "execution_count": 39,
          "metadata": {},
          "output_type": "execute_result"
        },
        {
          "data": {
            "image/png": "[encoded data removed]",
            "text/plain": [
              "<Figure size 720x504 with 1 Axes>"
            ]
          },
          "metadata": {
            "needs_background": "light"
          },
          "output_type": "display_data"
        },
        {
          "data": {
            "application/javascript": "\n            setTimeout(function() {\n                var nbb_cell_id = 39;\n                var nbb_unformatted_code = \"# Plotting boxplots for CV scores of all models defined above\\nfig = plt.figure(figsize=(10, 7))\\n\\nfig.suptitle(\\\"Algorithm Comparison\\\")\\nax = fig.add_subplot(111)\\n\\nplt.boxplot(results1)\\nax.set_xticklabels(names) ## Write the code to create boxplot to check model performance on oversampled data\";\n                var nbb_formatted_code = \"# Plotting boxplots for CV scores of all models defined above\\nfig = plt.figure(figsize=(10, 7))\\n\\nfig.suptitle(\\\"Algorithm Comparison\\\")\\nax = fig.add_subplot(111)\\n\\nplt.boxplot(results1)\\nax.set_xticklabels(\\n    names\\n)  ## Write the code to create boxplot to check model performance on oversampled data\";\n                var nbb_cells = Jupyter.notebook.get_cells();\n                for (var i = 0; i < nbb_cells.length; ++i) {\n                    if (nbb_cells[i].input_prompt_number == nbb_cell_id) {\n                        if (nbb_cells[i].get_text() == nbb_unformatted_code) {\n                             nbb_cells[i].set_text(nbb_formatted_code);\n                        }\n                        break;\n                    }\n                }\n            }, 500);\n            ",
            "text/plain": [
              "<IPython.core.display.Javascript object>"
            ]
          },
          "metadata": {},
          "output_type": "display_data"
        }
      ],
      "source": [
        "# Plotting boxplots for CV scores of all models defined above\n",
        "fig = plt.figure(figsize=(10, 7))\n",
        "\n",
        "fig.suptitle(\"Algorithm Comparison\")\n",
        "ax = fig.add_subplot(111)\n",
        "\n",
        "plt.boxplot(results1)\n",
        "ax.set_xticklabels(names) ## Write the code to create boxplot to check model performance on oversampled data"
      ]
    },
    {
      "cell_type": "markdown",
      "metadata": {
        "id": "fYLfDmHvbp1B"
      },
      "source": [
        "### Model Building with undersampled data"
      ]
    },
    {
      "cell_type": "code",
      "execution_count": 37,
      "metadata": {
        "id": "PHM-5g8Qbp1B"
      },
      "outputs": [
        {
          "name": "stdout",
          "output_type": "stream",
          "text": [
            "Before UnderSampling, counts of label '1': 833\n",
            "Before UnderSampling, counts of label '0': 14167 \n",
            "\n",
            "After UnderSampling, counts of label '1': 833\n",
            "After UnderSampling, counts of label '0': 833 \n",
            "\n",
            "After UnderSampling, the shape of train_X: (1666, 40)\n",
            "After UnderSampling, the shape of train_y: (1666,) \n",
            "\n"
          ]
        },
        {
          "data": {
            "application/javascript": "\n            setTimeout(function() {\n                var nbb_cell_id = 37;\n                var nbb_unformatted_code = \"rus = RandomUnderSampler(random_state=1, sampling_strategy=1)\\nX_train_un, y_train_un = rus.fit_resample(X_train, y_train)\\n\\n\\nprint(\\\"Before UnderSampling, counts of label '1': {}\\\".format(sum(y_train == 1)))\\nprint(\\\"Before UnderSampling, counts of label '0': {} \\\\n\\\".format(sum(y_train == 0)))\\n\\n\\nprint(\\\"After UnderSampling, counts of label '1': {}\\\".format(sum(y_train_un == 1)))\\nprint(\\\"After UnderSampling, counts of label '0': {} \\\\n\\\".format(sum(y_train_un == 0)))\\n\\n\\nprint(\\\"After UnderSampling, the shape of train_X: {}\\\".format(X_train_un.shape))\\nprint(\\\"After UnderSampling, the shape of train_y: {} \\\\n\\\".format(y_train_un.shape))\";\n                var nbb_formatted_code = \"rus = RandomUnderSampler(random_state=1, sampling_strategy=1)\\nX_train_un, y_train_un = rus.fit_resample(X_train, y_train)\\n\\n\\nprint(\\\"Before UnderSampling, counts of label '1': {}\\\".format(sum(y_train == 1)))\\nprint(\\\"Before UnderSampling, counts of label '0': {} \\\\n\\\".format(sum(y_train == 0)))\\n\\n\\nprint(\\\"After UnderSampling, counts of label '1': {}\\\".format(sum(y_train_un == 1)))\\nprint(\\\"After UnderSampling, counts of label '0': {} \\\\n\\\".format(sum(y_train_un == 0)))\\n\\n\\nprint(\\\"After UnderSampling, the shape of train_X: {}\\\".format(X_train_un.shape))\\nprint(\\\"After UnderSampling, the shape of train_y: {} \\\\n\\\".format(y_train_un.shape))\";\n                var nbb_cells = Jupyter.notebook.get_cells();\n                for (var i = 0; i < nbb_cells.length; ++i) {\n                    if (nbb_cells[i].input_prompt_number == nbb_cell_id) {\n                        if (nbb_cells[i].get_text() == nbb_unformatted_code) {\n                             nbb_cells[i].set_text(nbb_formatted_code);\n                        }\n                        break;\n                    }\n                }\n            }, 500);\n            ",
            "text/plain": [
              "<IPython.core.display.Javascript object>"
            ]
          },
          "metadata": {},
          "output_type": "display_data"
        }
      ],
      "source": [
        "rus = RandomUnderSampler(random_state=1, sampling_strategy=1)\n",
        "X_train_un, y_train_un = rus.fit_resample(X_train, y_train)\n",
        "\n",
        "\n",
        "print(\"Before UnderSampling, counts of label '1': {}\".format(sum(y_train == 1)))\n",
        "print(\"Before UnderSampling, counts of label '0': {} \\n\".format(sum(y_train == 0)))\n",
        "\n",
        "\n",
        "print(\"After UnderSampling, counts of label '1': {}\".format(sum(y_train_un == 1)))\n",
        "print(\"After UnderSampling, counts of label '0': {} \\n\".format(sum(y_train_un == 0)))\n",
        "\n",
        "\n",
        "print(\"After UnderSampling, the shape of train_X: {}\".format(X_train_un.shape))\n",
        "print(\"After UnderSampling, the shape of train_y: {} \\n\".format(y_train_un.shape))"
      ]
    },
    {
      "cell_type": "code",
      "execution_count": 41,
      "metadata": {
        "id": "Rc5ndPMubp1B",
        "scrolled": true
      },
      "outputs": [
        {
          "name": "stdout",
          "output_type": "stream",
          "text": [
            "\n",
            "Cross-Validation Cost:\n",
            "\n",
            "Logistic regression: 0.8576719576719578\n",
            "Bagging: 0.841515221225366\n",
            "randomforest: 0.8786826163637759\n",
            "adaboost: 0.8601564297216472\n",
            "gradientboost: 0.8712752089563682\n",
            "XGB: 0.8886128364389234\n",
            "\n",
            "Validation Performance:\n",
            "\n",
            "Logistic regression: 0.8443708609271523\n",
            "Bagging: 0.8774834437086093\n",
            "randomforest: 0.9006622516556292\n",
            "adaboost: 0.8708609271523179\n",
            "gradientboost: 0.890728476821192\n",
            "XGB: 0.9072847682119205\n"
          ]
        },
        {
          "data": {
            "application/javascript": "\n            setTimeout(function() {\n                var nbb_cell_id = 41;\n                var nbb_unformatted_code = \"results1 = []  # Empty list to store all model's CV scores\\nnames = []  # Empty list to store name of the models\\n# loop through all models to get the mean cross validated score\\nprint(\\\"\\\\n\\\" \\\"Cross-Validation Cost:\\\" \\\"\\\\n\\\")\\n\\nfor name, model in models:\\n    kfold = StratifiedKFold(\\n        n_splits=5, shuffle=True, random_state=1\\n    )  # Setting number of splits equal to 5\\n    cv_result = cross_val_score(\\n        estimator=model, X=X_train_un, y=y_train_un, scoring=scorer, cv=kfold\\n    )\\n    results1.append(cv_result)\\n    names.append(name)\\n    print(\\\"{}: {}\\\".format(name, cv_result.mean()))\\n\\nprint(\\\"\\\\n\\\" \\\"Validation Performance:\\\" \\\"\\\\n\\\")\\nall_scores=[]\\nfor name, model in models:\\n    model.fit(X_train_un, y_train_un)\\n    scores = recall_score(y_val, model.predict(X_val))\\n    all_scores.append(scores)\\n    print(\\\"{}: {}\\\".format(name, scores)) ## Complete the code to build models on undersampled data \\n## Note - Take reference from the original models built above\";\n                var nbb_formatted_code = \"results1 = []  # Empty list to store all model's CV scores\\nnames = []  # Empty list to store name of the models\\n# loop through all models to get the mean cross validated score\\nprint(\\\"\\\\n\\\" \\\"Cross-Validation Cost:\\\" \\\"\\\\n\\\")\\n\\nfor name, model in models:\\n    kfold = StratifiedKFold(\\n        n_splits=5, shuffle=True, random_state=1\\n    )  # Setting number of splits equal to 5\\n    cv_result = cross_val_score(\\n        estimator=model, X=X_train_un, y=y_train_un, scoring=scorer, cv=kfold\\n    )\\n    results1.append(cv_result)\\n    names.append(name)\\n    print(\\\"{}: {}\\\".format(name, cv_result.mean()))\\n\\nprint(\\\"\\\\n\\\" \\\"Validation Performance:\\\" \\\"\\\\n\\\")\\nall_scores = []\\nfor name, model in models:\\n    model.fit(X_train_un, y_train_un)\\n    scores = recall_score(y_val, model.predict(X_val))\\n    all_scores.append(scores)\\n    print(\\n        \\\"{}: {}\\\".format(name, scores)\\n    )  ## Complete the code to build models on undersampled data\\n## Note - Take reference from the original models built above\";\n                var nbb_cells = Jupyter.notebook.get_cells();\n                for (var i = 0; i < nbb_cells.length; ++i) {\n                    if (nbb_cells[i].input_prompt_number == nbb_cell_id) {\n                        if (nbb_cells[i].get_text() == nbb_unformatted_code) {\n                             nbb_cells[i].set_text(nbb_formatted_code);\n                        }\n                        break;\n                    }\n                }\n            }, 500);\n            ",
            "text/plain": [
              "<IPython.core.display.Javascript object>"
            ]
          },
          "metadata": {},
          "output_type": "display_data"
        }
      ],
      "source": [
        "results1 = []  # Empty list to store all model's CV scores\n",
        "names = []  # Empty list to store name of the models\n",
        "# loop through all models to get the mean cross validated score\n",
        "print(\"\\n\" \"Cross-Validation Cost:\" \"\\n\")\n",
        "\n",
        "for name, model in models:\n",
        "    kfold = StratifiedKFold(\n",
        "        n_splits=5, shuffle=True, random_state=1\n",
        "    )  # Setting number of splits equal to 5\n",
        "    cv_result = cross_val_score(\n",
        "        estimator=model, X=X_train_un, y=y_train_un, scoring=scorer, cv=kfold\n",
        "    )\n",
        "    results1.append(cv_result)\n",
        "    names.append(name)\n",
        "    print(\"{}: {}\".format(name, cv_result.mean()))\n",
        "\n",
        "print(\"\\n\" \"Validation Performance:\" \"\\n\")\n",
        "all_scores=[]\n",
        "for name, model in models:\n",
        "    model.fit(X_train_un, y_train_un)\n",
        "    scores = recall_score(y_val, model.predict(X_val))\n",
        "    all_scores.append(scores)\n",
        "    print(\"{}: {}\".format(name, scores)) ## Complete the code to build models on undersampled data \n",
        "## Note - Take reference from the original models built above"
      ]
    },
    {
      "cell_type": "code",
      "execution_count": 42,
      "metadata": {},
      "outputs": [
        {
          "data": {
            "text/html": [
              "<div>\n",
              "<style scoped>\n",
              "    .dataframe tbody tr th:only-of-type {\n",
              "        vertical-align: middle;\n",
              "    }\n",
              "\n",
              "    .dataframe tbody tr th {\n",
              "        vertical-align: top;\n",
              "    }\n",
              "\n",
              "    .dataframe thead th {\n",
              "        text-align: right;\n",
              "    }\n",
              "</style>\n",
              "<table border=\"1\" class=\"dataframe\">\n",
              "  <thead>\n",
              "    <tr style=\"text-align: right;\">\n",
              "      <th></th>\n",
              "      <th>Logistic regression</th>\n",
              "      <th>Bagging</th>\n",
              "      <th>randomforest</th>\n",
              "      <th>adaboost</th>\n",
              "      <th>gradientboost</th>\n",
              "      <th>XGB</th>\n",
              "    </tr>\n",
              "  </thead>\n",
              "  <tbody>\n",
              "    <tr>\n",
              "      <th>training</th>\n",
              "      <td>0.858</td>\n",
              "      <td>0.842</td>\n",
              "      <td>0.879</td>\n",
              "      <td>0.860</td>\n",
              "      <td>0.871</td>\n",
              "      <td>0.889</td>\n",
              "    </tr>\n",
              "    <tr>\n",
              "      <th>validation</th>\n",
              "      <td>0.844</td>\n",
              "      <td>0.877</td>\n",
              "      <td>0.901</td>\n",
              "      <td>0.871</td>\n",
              "      <td>0.891</td>\n",
              "      <td>0.907</td>\n",
              "    </tr>\n",
              "  </tbody>\n",
              "</table>\n",
              "</div>"
            ],
            "text/plain": [
              "            Logistic regression  Bagging  randomforest  adaboost  \\\n",
              "training                  0.858    0.842         0.879     0.860   \n",
              "validation                0.844    0.877         0.901     0.871   \n",
              "\n",
              "            gradientboost   XGB  \n",
              "training            0.871 0.889  \n",
              "validation          0.891 0.907  "
            ]
          },
          "execution_count": 42,
          "metadata": {},
          "output_type": "execute_result"
        },
        {
          "data": {
            "application/javascript": "\n            setTimeout(function() {\n                var nbb_cell_id = 42;\n                var nbb_unformatted_code = \"ff=pd.DataFrame([dict(zip(names,[results1[i].mean() for i in range(6)]))],index=['training'])\\nff2=pd.DataFrame([dict(zip(names,all_scores))],index=['validation'])\\npd.concat([ff,ff2])\";\n                var nbb_formatted_code = \"ff = pd.DataFrame(\\n    [dict(zip(names, [results1[i].mean() for i in range(6)]))], index=[\\\"training\\\"]\\n)\\nff2 = pd.DataFrame([dict(zip(names, all_scores))], index=[\\\"validation\\\"])\\npd.concat([ff, ff2])\";\n                var nbb_cells = Jupyter.notebook.get_cells();\n                for (var i = 0; i < nbb_cells.length; ++i) {\n                    if (nbb_cells[i].input_prompt_number == nbb_cell_id) {\n                        if (nbb_cells[i].get_text() == nbb_unformatted_code) {\n                             nbb_cells[i].set_text(nbb_formatted_code);\n                        }\n                        break;\n                    }\n                }\n            }, 500);\n            ",
            "text/plain": [
              "<IPython.core.display.Javascript object>"
            ]
          },
          "metadata": {},
          "output_type": "display_data"
        }
      ],
      "source": [
        "ff=pd.DataFrame([dict(zip(names,[results1[i].mean() for i in range(6)]))],index=['training'])\n",
        "ff2=pd.DataFrame([dict(zip(names,all_scores))],index=['validation'])\n",
        "pd.concat([ff,ff2])"
      ]
    },
    {
      "cell_type": "code",
      "execution_count": 43,
      "metadata": {
        "id": "8HcDqaD2bp1B",
        "scrolled": false
      },
      "outputs": [
        {
          "data": {
            "text/plain": [
              "[Text(1, 0, 'Logistic regression'),\n",
              " Text(2, 0, 'Bagging'),\n",
              " Text(3, 0, 'randomforest'),\n",
              " Text(4, 0, 'adaboost'),\n",
              " Text(5, 0, 'gradientboost'),\n",
              " Text(6, 0, 'XGB')]"
            ]
          },
          "execution_count": 43,
          "metadata": {},
          "output_type": "execute_result"
        },
        {
          "data": {
            "image/png": "[encoded data removed]",
            "text/plain": [
              "<Figure size 720x504 with 1 Axes>"
            ]
          },
          "metadata": {
            "needs_background": "light"
          },
          "output_type": "display_data"
        },
        {
          "data": {
            "application/javascript": "\n            setTimeout(function() {\n                var nbb_cell_id = 43;\n                var nbb_unformatted_code = \"# Plotting boxplots for CV scores of all models defined above\\n# Plotting boxplots for CV scores of all models defined above\\nfig = plt.figure(figsize=(10, 7))\\n\\nfig.suptitle(\\\"Algorithm Comparison\\\")\\nax = fig.add_subplot(111)\\n\\nplt.boxplot(results1)\\nax.set_xticklabels(names) ## Write the code to create boxplot to check model performance on undersampled data\";\n                var nbb_formatted_code = \"# Plotting boxplots for CV scores of all models defined above\\n# Plotting boxplots for CV scores of all models defined above\\nfig = plt.figure(figsize=(10, 7))\\n\\nfig.suptitle(\\\"Algorithm Comparison\\\")\\nax = fig.add_subplot(111)\\n\\nplt.boxplot(results1)\\nax.set_xticklabels(\\n    names\\n)  ## Write the code to create boxplot to check model performance on undersampled data\";\n                var nbb_cells = Jupyter.notebook.get_cells();\n                for (var i = 0; i < nbb_cells.length; ++i) {\n                    if (nbb_cells[i].input_prompt_number == nbb_cell_id) {\n                        if (nbb_cells[i].get_text() == nbb_unformatted_code) {\n                             nbb_cells[i].set_text(nbb_formatted_code);\n                        }\n                        break;\n                    }\n                }\n            }, 500);\n            ",
            "text/plain": [
              "<IPython.core.display.Javascript object>"
            ]
          },
          "metadata": {},
          "output_type": "display_data"
        }
      ],
      "source": [
        "# Plotting boxplots for CV scores of all models defined above\n",
        "# Plotting boxplots for CV scores of all models defined above\n",
        "fig = plt.figure(figsize=(10, 7))\n",
        "\n",
        "fig.suptitle(\"Algorithm Comparison\")\n",
        "ax = fig.add_subplot(111)\n",
        "\n",
        "plt.boxplot(results1)\n",
        "ax.set_xticklabels(names) ## Write the code to create boxplot to check model performance on undersampled data"
      ]
    },
    {
      "cell_type": "markdown",
      "metadata": {
        "id": "ERm8IqLo34q8"
      },
      "source": [
        "**After looking at performance of all the models, let's decide which models can further improve with hyperparameter tuning.**\n",
        "\n",
        "**Note**: You can choose to tune some other model if XGBoost gives error."
      ]
    },
    {
      "cell_type": "markdown",
      "metadata": {
        "id": "zLZlKa99bp1C"
      },
      "source": [
        "## Hyperparameter Tuning"
      ]
    },
    {
      "cell_type": "markdown",
      "metadata": {
        "id": "2FtmPS7Ubp1D"
      },
      "source": [
        "### Tuning AdaBoost using oversampled data"
      ]
    },
    {
      "cell_type": "code",
      "execution_count": 124,
      "metadata": {
        "id": "IPSlOlvkbp1D"
      },
      "outputs": [
        {
          "name": "stdout",
          "output_type": "stream",
          "text": [
            "Best parameters are {'n_estimators': 200, 'learning_rate': 0.2, 'base_estimator': DecisionTreeClassifier(max_depth=3, random_state=1)} with CV score=0.9631071424556618:\n",
            "CPU times: total: 1min 29s\n",
            "Wall time: 26min 12s\n"
          ]
        },
        {
          "data": {
            "application/javascript": "\n            setTimeout(function() {\n                var nbb_cell_id = 124;\n                var nbb_unformatted_code = \"%%time \\n\\n# defining model\\nModel = AdaBoostClassifier(random_state=1)\\n\\n# Parameter grid to pass in RandomSearchCV\\nparam_grid = {\\n    \\\"n_estimators\\\": [100, 150, 200],\\n    \\\"learning_rate\\\": [0.2, 0.05],\\n    \\\"base_estimator\\\": [DecisionTreeClassifier(max_depth=1, random_state=1), DecisionTreeClassifier(max_depth=2, random_state=1), DecisionTreeClassifier(max_depth=3, random_state=1),\\n    ]\\n}\\n\\n\\n#Calling RandomizedSearchCV\\nrandomized_cv = RandomizedSearchCV(estimator=Model, param_distributions=param_grid, n_iter=50, n_jobs = -1, scoring=scorer, cv=5, random_state=1)\\n\\n#Fitting parameters in RandomizedSearchCV\\nrandomized_cv.fit(X_train_over,y_train_over) ## Complete the code to fit the model on over sampled data\\n\\nprint(\\\"Best parameters are {} with CV score={}:\\\" .format(randomized_cv.best_params_,randomized_cv.best_score_))\";\n                var nbb_formatted_code = \"%%time \\n\\n# defining model\\nModel = AdaBoostClassifier(random_state=1)\\n\\n# Parameter grid to pass in RandomSearchCV\\nparam_grid = {\\n    \\\"n_estimators\\\": [100, 150, 200],\\n    \\\"learning_rate\\\": [0.2, 0.05],\\n    \\\"base_estimator\\\": [DecisionTreeClassifier(max_depth=1, random_state=1), DecisionTreeClassifier(max_depth=2, random_state=1), DecisionTreeClassifier(max_depth=3, random_state=1),\\n    ]\\n}\\n\\n\\n#Calling RandomizedSearchCV\\nrandomized_cv = RandomizedSearchCV(estimator=Model, param_distributions=param_grid, n_iter=50, n_jobs = -1, scoring=scorer, cv=5, random_state=1)\\n\\n#Fitting parameters in RandomizedSearchCV\\nrandomized_cv.fit(X_train_over,y_train_over) ## Complete the code to fit the model on over sampled data\\n\\nprint(\\\"Best parameters are {} with CV score={}:\\\" .format(randomized_cv.best_params_,randomized_cv.best_score_))\";\n                var nbb_cells = Jupyter.notebook.get_cells();\n                for (var i = 0; i < nbb_cells.length; ++i) {\n                    if (nbb_cells[i].input_prompt_number == nbb_cell_id) {\n                        if (nbb_cells[i].get_text() == nbb_unformatted_code) {\n                             nbb_cells[i].set_text(nbb_formatted_code);\n                        }\n                        break;\n                    }\n                }\n            }, 500);\n            ",
            "text/plain": [
              "<IPython.core.display.Javascript object>"
            ]
          },
          "metadata": {},
          "output_type": "display_data"
        }
      ],
      "source": [
        "%%time \n",
        "\n",
        "# defining model\n",
        "Model = AdaBoostClassifier(random_state=1)\n",
        "\n",
        "# Parameter grid to pass in RandomSearchCV\n",
        "param_grid = {\n",
        "    \"n_estimators\": [100, 150, 200],\n",
        "    \"learning_rate\": [0.2, 0.05],\n",
        "    \"base_estimator\": [DecisionTreeClassifier(max_depth=1, random_state=1), DecisionTreeClassifier(max_depth=2, random_state=1), DecisionTreeClassifier(max_depth=3, random_state=1),\n",
        "    ]\n",
        "}\n",
        "\n",
        "\n",
        "#Calling RandomizedSearchCV\n",
        "randomized_cv = RandomizedSearchCV(estimator=Model, param_distributions=param_grid, n_iter=50, n_jobs = -1, scoring=scorer, cv=5, random_state=1)\n",
        "\n",
        "#Fitting parameters in RandomizedSearchCV\n",
        "randomized_cv.fit(X_train_over,y_train_over) ## Complete the code to fit the model on over sampled data\n",
        "\n",
        "print(\"Best parameters are {} with CV score={}:\" .format(randomized_cv.best_params_,randomized_cv.best_score_))"
      ]
    },
    {
      "cell_type": "code",
      "execution_count": 92,
      "metadata": {
        "id": "UTQNwsr5bp1D"
      },
      "outputs": [
        {
          "data": {
            "text/html": [
              "<style>#sk-container-id-4 {color: black;background-color: white;}#sk-container-id-4 pre{padding: 0;}#sk-container-id-4 div.sk-toggleable {background-color: white;}#sk-container-id-4 label.sk-toggleable__label {cursor: pointer;display: block;width: 100%;margin-bottom: 0;padding: 0.3em;box-sizing: border-box;text-align: center;}#sk-container-id-4 label.sk-toggleable__label-arrow:before {content: \"▸\";float: left;margin-right: 0.25em;color: #696969;}#sk-container-id-4 label.sk-toggleable__label-arrow:hover:before {color: black;}#sk-container-id-4 div.sk-estimator:hover label.sk-toggleable__label-arrow:before {color: black;}#sk-container-id-4 div.sk-toggleable__content {max-height: 0;max-width: 0;overflow: hidden;text-align: left;background-color: #f0f8ff;}#sk-container-id-4 div.sk-toggleable__content pre {margin: 0.2em;color: black;border-radius: 0.25em;background-color: #f0f8ff;}#sk-container-id-4 input.sk-toggleable__control:checked~div.sk-toggleable__content {max-height: 200px;max-width: 100%;overflow: auto;}#sk-container-id-4 input.sk-toggleable__control:checked~label.sk-toggleable__label-arrow:before {content: \"▾\";}#sk-container-id-4 div.sk-estimator input.sk-toggleable__control:checked~label.sk-toggleable__label {background-color: #d4ebff;}#sk-container-id-4 div.sk-label input.sk-toggleable__control:checked~label.sk-toggleable__label {background-color: #d4ebff;}#sk-container-id-4 input.sk-hidden--visually {border: 0;clip: rect(1px 1px 1px 1px);clip: rect(1px, 1px, 1px, 1px);height: 1px;margin: -1px;overflow: hidden;padding: 0;position: absolute;width: 1px;}#sk-container-id-4 div.sk-estimator {font-family: monospace;background-color: #f0f8ff;border: 1px dotted black;border-radius: 0.25em;box-sizing: border-box;margin-bottom: 0.5em;}#sk-container-id-4 div.sk-estimator:hover {background-color: #d4ebff;}#sk-container-id-4 div.sk-parallel-item::after {content: \"\";width: 100%;border-bottom: 1px solid gray;flex-grow: 1;}#sk-container-id-4 div.sk-label:hover label.sk-toggleable__label {background-color: #d4ebff;}#sk-container-id-4 div.sk-serial::before {content: \"\";position: absolute;border-left: 1px solid gray;box-sizing: border-box;top: 0;bottom: 0;left: 50%;z-index: 0;}#sk-container-id-4 div.sk-serial {display: flex;flex-direction: column;align-items: center;background-color: white;padding-right: 0.2em;padding-left: 0.2em;position: relative;}#sk-container-id-4 div.sk-item {position: relative;z-index: 1;}#sk-container-id-4 div.sk-parallel {display: flex;align-items: stretch;justify-content: center;background-color: white;position: relative;}#sk-container-id-4 div.sk-item::before, #sk-container-id-4 div.sk-parallel-item::before {content: \"\";position: absolute;border-left: 1px solid gray;box-sizing: border-box;top: 0;bottom: 0;left: 50%;z-index: -1;}#sk-container-id-4 div.sk-parallel-item {display: flex;flex-direction: column;z-index: 1;position: relative;background-color: white;}#sk-container-id-4 div.sk-parallel-item:first-child::after {align-self: flex-end;width: 50%;}#sk-container-id-4 div.sk-parallel-item:last-child::after {align-self: flex-start;width: 50%;}#sk-container-id-4 div.sk-parallel-item:only-child::after {width: 0;}#sk-container-id-4 div.sk-dashed-wrapped {border: 1px dashed gray;margin: 0 0.4em 0.5em 0.4em;box-sizing: border-box;padding-bottom: 0.4em;background-color: white;}#sk-container-id-4 div.sk-label label {font-family: monospace;font-weight: bold;display: inline-block;line-height: 1.2em;}#sk-container-id-4 div.sk-label-container {text-align: center;}#sk-container-id-4 div.sk-container {/* jupyter's `normalize.less` sets `[hidden] { display: none; }` but bootstrap.min.css set `[hidden] { display: none !important; }` so we also need the `!important` here to be able to override the default hidden behavior on the sphinx rendered scikit-learn.org. See: https://github.com/scikit-learn/scikit-learn/issues/21755 */display: inline-block !important;position: relative;}#sk-container-id-4 div.sk-text-repr-fallback {display: none;}</style><div id=\"sk-container-id-4\" class=\"sk-top-container\"><div class=\"sk-text-repr-fallback\"><pre>AdaBoostClassifier(base_estimator=DecisionTreeClassifier(max_depth=3,\n",
              "                                                         random_state=1),\n",
              "                   learning_rate=0.2, n_estimators=200)</pre><b>In a Jupyter environment, please rerun this cell to show the HTML representation or trust the notebook. <br />On GitHub, the HTML representation is unable to render, please try loading this page with nbviewer.org.</b></div><div class=\"sk-container\" hidden><div class=\"sk-item sk-dashed-wrapped\"><div class=\"sk-label-container\"><div class=\"sk-label sk-toggleable\"><input class=\"sk-toggleable__control sk-hidden--visually\" id=\"sk-estimator-id-4\" type=\"checkbox\" ><label for=\"sk-estimator-id-4\" class=\"sk-toggleable__label sk-toggleable__label-arrow\">AdaBoostClassifier</label><div class=\"sk-toggleable__content\"><pre>AdaBoostClassifier(base_estimator=DecisionTreeClassifier(max_depth=3,\n",
              "                                                         random_state=1),\n",
              "                   learning_rate=0.2, n_estimators=200)</pre></div></div></div><div class=\"sk-parallel\"><div class=\"sk-parallel-item\"><div class=\"sk-item\"><div class=\"sk-label-container\"><div class=\"sk-label sk-toggleable\"><input class=\"sk-toggleable__control sk-hidden--visually\" id=\"sk-estimator-id-5\" type=\"checkbox\" ><label for=\"sk-estimator-id-5\" class=\"sk-toggleable__label sk-toggleable__label-arrow\">base_estimator: DecisionTreeClassifier</label><div class=\"sk-toggleable__content\"><pre>DecisionTreeClassifier(max_depth=3, random_state=1)</pre></div></div></div><div class=\"sk-serial\"><div class=\"sk-item\"><div class=\"sk-estimator sk-toggleable\"><input class=\"sk-toggleable__control sk-hidden--visually\" id=\"sk-estimator-id-6\" type=\"checkbox\" ><label for=\"sk-estimator-id-6\" class=\"sk-toggleable__label sk-toggleable__label-arrow\">DecisionTreeClassifier</label><div class=\"sk-toggleable__content\"><pre>DecisionTreeClassifier(max_depth=3, random_state=1)</pre></div></div></div></div></div></div></div></div></div></div>"
            ],
            "text/plain": [
              "AdaBoostClassifier(base_estimator=DecisionTreeClassifier(max_depth=3,\n",
              "                                                         random_state=1),\n",
              "                   learning_rate=0.2, n_estimators=200)"
            ]
          },
          "execution_count": 92,
          "metadata": {},
          "output_type": "execute_result"
        },
        {
          "data": {
            "application/javascript": "\n            setTimeout(function() {\n                var nbb_cell_id = 92;\n                var nbb_unformatted_code = \"# Creating new pipeline with best parameters\\ntuned_ada = AdaBoostClassifier(\\n    n_estimators= 200, learning_rate= 0.2, base_estimator= DecisionTreeClassifier(max_depth=3, random_state=1)\\n) ## Complete the code with the best parameters obtained from tuning\\n\\ntuned_ada.fit(X_train_over,y_train_over) ## Complete the code to fit the model on oversampled data\";\n                var nbb_formatted_code = \"# Creating new pipeline with best parameters\\ntuned_ada = AdaBoostClassifier(\\n    n_estimators=200,\\n    learning_rate=0.2,\\n    base_estimator=DecisionTreeClassifier(max_depth=3, random_state=1),\\n)  ## Complete the code with the best parameters obtained from tuning\\n\\ntuned_ada.fit(\\n    X_train_over, y_train_over\\n)  ## Complete the code to fit the model on oversampled data\";\n                var nbb_cells = Jupyter.notebook.get_cells();\n                for (var i = 0; i < nbb_cells.length; ++i) {\n                    if (nbb_cells[i].input_prompt_number == nbb_cell_id) {\n                        if (nbb_cells[i].get_text() == nbb_unformatted_code) {\n                             nbb_cells[i].set_text(nbb_formatted_code);\n                        }\n                        break;\n                    }\n                }\n            }, 500);\n            ",
            "text/plain": [
              "<IPython.core.display.Javascript object>"
            ]
          },
          "metadata": {},
          "output_type": "display_data"
        }
      ],
      "source": [
        "# Creating new pipeline with best parameters\n",
        "tuned_ada = AdaBoostClassifier(\n",
        "    n_estimators= 200, learning_rate= 0.2, base_estimator= DecisionTreeClassifier(max_depth=3, random_state=1)\n",
        ") ## Complete the code with the best parameters obtained from tuning\n",
        "\n",
        "tuned_ada.fit(X_train_over,y_train_over) ## Complete the code to fit the model on oversampled data"
      ]
    },
    {
      "cell_type": "code",
      "execution_count": 93,
      "metadata": {
        "id": "MKzdHSSbbp1D",
        "scrolled": true
      },
      "outputs": [
        {
          "data": {
            "text/html": [
              "<div>\n",
              "<style scoped>\n",
              "    .dataframe tbody tr th:only-of-type {\n",
              "        vertical-align: middle;\n",
              "    }\n",
              "\n",
              "    .dataframe tbody tr th {\n",
              "        vertical-align: top;\n",
              "    }\n",
              "\n",
              "    .dataframe thead th {\n",
              "        text-align: right;\n",
              "    }\n",
              "</style>\n",
              "<table border=\"1\" class=\"dataframe\">\n",
              "  <thead>\n",
              "    <tr style=\"text-align: right;\">\n",
              "      <th></th>\n",
              "      <th>Accuracy</th>\n",
              "      <th>Recall</th>\n",
              "      <th>Precision</th>\n",
              "      <th>F1</th>\n",
              "    </tr>\n",
              "  </thead>\n",
              "  <tbody>\n",
              "    <tr>\n",
              "      <th>0</th>\n",
              "      <td>0.992</td>\n",
              "      <td>0.989</td>\n",
              "      <td>0.996</td>\n",
              "      <td>0.992</td>\n",
              "    </tr>\n",
              "  </tbody>\n",
              "</table>\n",
              "</div>"
            ],
            "text/plain": [
              "   Accuracy  Recall  Precision    F1\n",
              "0     0.992   0.989      0.996 0.992"
            ]
          },
          "execution_count": 93,
          "metadata": {},
          "output_type": "execute_result"
        },
        {
          "data": {
            "application/javascript": "\n            setTimeout(function() {\n                var nbb_cell_id = 93;\n                var nbb_unformatted_code = \"ada_train_perf = model_performance_classification_sklearn(tuned_ada, X_train_over, y_train_over)\\nada_train_perf\";\n                var nbb_formatted_code = \"ada_train_perf = model_performance_classification_sklearn(\\n    tuned_ada, X_train_over, y_train_over\\n)\\nada_train_perf\";\n                var nbb_cells = Jupyter.notebook.get_cells();\n                for (var i = 0; i < nbb_cells.length; ++i) {\n                    if (nbb_cells[i].input_prompt_number == nbb_cell_id) {\n                        if (nbb_cells[i].get_text() == nbb_unformatted_code) {\n                             nbb_cells[i].set_text(nbb_formatted_code);\n                        }\n                        break;\n                    }\n                }\n            }, 500);\n            ",
            "text/plain": [
              "<IPython.core.display.Javascript object>"
            ]
          },
          "metadata": {},
          "output_type": "display_data"
        }
      ],
      "source": [
        "ada_train_perf = model_performance_classification_sklearn(tuned_ada, X_train_over, y_train_over)\n",
        "ada_train_perf"
      ]
    },
    {
      "cell_type": "code",
      "execution_count": 94,
      "metadata": {
        "id": "10_dV5m4bp1D"
      },
      "outputs": [
        {
          "data": {
            "text/html": [
              "<div>\n",
              "<style scoped>\n",
              "    .dataframe tbody tr th:only-of-type {\n",
              "        vertical-align: middle;\n",
              "    }\n",
              "\n",
              "    .dataframe tbody tr th {\n",
              "        vertical-align: top;\n",
              "    }\n",
              "\n",
              "    .dataframe thead th {\n",
              "        text-align: right;\n",
              "    }\n",
              "</style>\n",
              "<table border=\"1\" class=\"dataframe\">\n",
              "  <thead>\n",
              "    <tr style=\"text-align: right;\">\n",
              "      <th></th>\n",
              "      <th>Accuracy</th>\n",
              "      <th>Recall</th>\n",
              "      <th>Precision</th>\n",
              "      <th>F1</th>\n",
              "    </tr>\n",
              "  </thead>\n",
              "  <tbody>\n",
              "    <tr>\n",
              "      <th>0</th>\n",
              "      <td>0.979</td>\n",
              "      <td>0.866</td>\n",
              "      <td>0.777</td>\n",
              "      <td>0.819</td>\n",
              "    </tr>\n",
              "  </tbody>\n",
              "</table>\n",
              "</div>"
            ],
            "text/plain": [
              "   Accuracy  Recall  Precision    F1\n",
              "0     0.979   0.866      0.777 0.819"
            ]
          },
          "execution_count": 94,
          "metadata": {},
          "output_type": "execute_result"
        },
        {
          "data": {
            "application/javascript": "\n            setTimeout(function() {\n                var nbb_cell_id = 94;\n                var nbb_unformatted_code = \"ada_val_perf = model_performance_classification_sklearn(tuned_ada, X_val, y_val) ## Complete the code to check the performance on validation set\\nada_val_perf\";\n                var nbb_formatted_code = \"ada_val_perf = model_performance_classification_sklearn(\\n    tuned_ada, X_val, y_val\\n)  ## Complete the code to check the performance on validation set\\nada_val_perf\";\n                var nbb_cells = Jupyter.notebook.get_cells();\n                for (var i = 0; i < nbb_cells.length; ++i) {\n                    if (nbb_cells[i].input_prompt_number == nbb_cell_id) {\n                        if (nbb_cells[i].get_text() == nbb_unformatted_code) {\n                             nbb_cells[i].set_text(nbb_formatted_code);\n                        }\n                        break;\n                    }\n                }\n            }, 500);\n            ",
            "text/plain": [
              "<IPython.core.display.Javascript object>"
            ]
          },
          "metadata": {},
          "output_type": "display_data"
        }
      ],
      "source": [
        "ada_val_perf = model_performance_classification_sklearn(tuned_ada, X_val, y_val) ## Complete the code to check the performance on validation set\n",
        "ada_val_perf"
      ]
    },
    {
      "cell_type": "markdown",
      "metadata": {
        "id": "Dqj6dc38bp1E"
      },
      "source": [
        "### Tuning Random forest using undersampled data"
      ]
    },
    {
      "cell_type": "code",
      "execution_count": 71,
      "metadata": {
        "id": "9tLNoDYhbp1E"
      },
      "outputs": [
        {
          "name": "stdout",
          "output_type": "stream",
          "text": [
            "Best parameters are {'n_estimators': 200, 'min_samples_leaf': 2, 'max_samples': 0.6, 'max_features': 'sqrt'} with CV score=0.8942134363402257:\n",
            "CPU times: total: 1.59 s\n",
            "Wall time: 1min 7s\n"
          ]
        },
        {
          "data": {
            "application/javascript": "\n            setTimeout(function() {\n                var nbb_cell_id = 71;\n                var nbb_unformatted_code = \"%%time \\n\\n# defining model\\nModel = RandomForestClassifier(random_state=1)\\n\\n# Parameter grid to pass in RandomSearchCV\\nparam_grid = {\\n    \\\"n_estimators\\\": [200,250,300],\\n    \\\"min_samples_leaf\\\": np.arange(1, 4),\\n    \\\"max_features\\\": [np.arange(0.3, 0.6, 0.1),'sqrt'],\\n    \\\"max_samples\\\": np.arange(0.4, 0.7, 0.1)}\\n\\n\\n#Calling RandomizedSearchCV\\nrandomized_cv = RandomizedSearchCV(estimator=Model, param_distributions=param_grid, n_iter=50, n_jobs = -1, scoring=scorer, cv=5, random_state=1)\\n\\n#Fitting parameters in RandomizedSearchCV\\nrandomized_cv.fit(X_train_un,y_train_un) ## Complete the code to fit the model on under sampled data\\n\\nprint(\\\"Best parameters are {} with CV score={}:\\\" .format(randomized_cv.best_params_,randomized_cv.best_score_))\";\n                var nbb_formatted_code = \"%%time \\n\\n# defining model\\nModel = RandomForestClassifier(random_state=1)\\n\\n# Parameter grid to pass in RandomSearchCV\\nparam_grid = {\\n    \\\"n_estimators\\\": [200,250,300],\\n    \\\"min_samples_leaf\\\": np.arange(1, 4),\\n    \\\"max_features\\\": [np.arange(0.3, 0.6, 0.1),'sqrt'],\\n    \\\"max_samples\\\": np.arange(0.4, 0.7, 0.1)}\\n\\n\\n#Calling RandomizedSearchCV\\nrandomized_cv = RandomizedSearchCV(estimator=Model, param_distributions=param_grid, n_iter=50, n_jobs = -1, scoring=scorer, cv=5, random_state=1)\\n\\n#Fitting parameters in RandomizedSearchCV\\nrandomized_cv.fit(X_train_un,y_train_un) ## Complete the code to fit the model on under sampled data\\n\\nprint(\\\"Best parameters are {} with CV score={}:\\\" .format(randomized_cv.best_params_,randomized_cv.best_score_))\";\n                var nbb_cells = Jupyter.notebook.get_cells();\n                for (var i = 0; i < nbb_cells.length; ++i) {\n                    if (nbb_cells[i].input_prompt_number == nbb_cell_id) {\n                        if (nbb_cells[i].get_text() == nbb_unformatted_code) {\n                             nbb_cells[i].set_text(nbb_formatted_code);\n                        }\n                        break;\n                    }\n                }\n            }, 500);\n            ",
            "text/plain": [
              "<IPython.core.display.Javascript object>"
            ]
          },
          "metadata": {},
          "output_type": "display_data"
        }
      ],
      "source": [
        "%%time \n",
        "\n",
        "# defining model\n",
        "Model = RandomForestClassifier(random_state=1)\n",
        "\n",
        "# Parameter grid to pass in RandomSearchCV\n",
        "param_grid = {\n",
        "    \"n_estimators\": [200,250,300],\n",
        "    \"min_samples_leaf\": np.arange(1, 4),\n",
        "    \"max_features\": [np.arange(0.3, 0.6, 0.1),'sqrt'],\n",
        "    \"max_samples\": np.arange(0.4, 0.7, 0.1)}\n",
        "\n",
        "\n",
        "#Calling RandomizedSearchCV\n",
        "randomized_cv = RandomizedSearchCV(estimator=Model, param_distributions=param_grid, n_iter=50, n_jobs = -1, scoring=scorer, cv=5, random_state=1)\n",
        "\n",
        "#Fitting parameters in RandomizedSearchCV\n",
        "randomized_cv.fit(X_train_un,y_train_un) ## Complete the code to fit the model on under sampled data\n",
        "\n",
        "print(\"Best parameters are {} with CV score={}:\" .format(randomized_cv.best_params_,randomized_cv.best_score_))"
      ]
    },
    {
      "cell_type": "code",
      "execution_count": 39,
      "metadata": {
        "id": "5kmoh9KMbp1E"
      },
      "outputs": [
        {
          "data": {
            "text/html": [
              "<style>#sk-container-id-1 {color: black;background-color: white;}#sk-container-id-1 pre{padding: 0;}#sk-container-id-1 div.sk-toggleable {background-color: white;}#sk-container-id-1 label.sk-toggleable__label {cursor: pointer;display: block;width: 100%;margin-bottom: 0;padding: 0.3em;box-sizing: border-box;text-align: center;}#sk-container-id-1 label.sk-toggleable__label-arrow:before {content: \"▸\";float: left;margin-right: 0.25em;color: #696969;}#sk-container-id-1 label.sk-toggleable__label-arrow:hover:before {color: black;}#sk-container-id-1 div.sk-estimator:hover label.sk-toggleable__label-arrow:before {color: black;}#sk-container-id-1 div.sk-toggleable__content {max-height: 0;max-width: 0;overflow: hidden;text-align: left;background-color: #f0f8ff;}#sk-container-id-1 div.sk-toggleable__content pre {margin: 0.2em;color: black;border-radius: 0.25em;background-color: #f0f8ff;}#sk-container-id-1 input.sk-toggleable__control:checked~div.sk-toggleable__content {max-height: 200px;max-width: 100%;overflow: auto;}#sk-container-id-1 input.sk-toggleable__control:checked~label.sk-toggleable__label-arrow:before {content: \"▾\";}#sk-container-id-1 div.sk-estimator input.sk-toggleable__control:checked~label.sk-toggleable__label {background-color: #d4ebff;}#sk-container-id-1 div.sk-label input.sk-toggleable__control:checked~label.sk-toggleable__label {background-color: #d4ebff;}#sk-container-id-1 input.sk-hidden--visually {border: 0;clip: rect(1px 1px 1px 1px);clip: rect(1px, 1px, 1px, 1px);height: 1px;margin: -1px;overflow: hidden;padding: 0;position: absolute;width: 1px;}#sk-container-id-1 div.sk-estimator {font-family: monospace;background-color: #f0f8ff;border: 1px dotted black;border-radius: 0.25em;box-sizing: border-box;margin-bottom: 0.5em;}#sk-container-id-1 div.sk-estimator:hover {background-color: #d4ebff;}#sk-container-id-1 div.sk-parallel-item::after {content: \"\";width: 100%;border-bottom: 1px solid gray;flex-grow: 1;}#sk-container-id-1 div.sk-label:hover label.sk-toggleable__label {background-color: #d4ebff;}#sk-container-id-1 div.sk-serial::before {content: \"\";position: absolute;border-left: 1px solid gray;box-sizing: border-box;top: 0;bottom: 0;left: 50%;z-index: 0;}#sk-container-id-1 div.sk-serial {display: flex;flex-direction: column;align-items: center;background-color: white;padding-right: 0.2em;padding-left: 0.2em;position: relative;}#sk-container-id-1 div.sk-item {position: relative;z-index: 1;}#sk-container-id-1 div.sk-parallel {display: flex;align-items: stretch;justify-content: center;background-color: white;position: relative;}#sk-container-id-1 div.sk-item::before, #sk-container-id-1 div.sk-parallel-item::before {content: \"\";position: absolute;border-left: 1px solid gray;box-sizing: border-box;top: 0;bottom: 0;left: 50%;z-index: -1;}#sk-container-id-1 div.sk-parallel-item {display: flex;flex-direction: column;z-index: 1;position: relative;background-color: white;}#sk-container-id-1 div.sk-parallel-item:first-child::after {align-self: flex-end;width: 50%;}#sk-container-id-1 div.sk-parallel-item:last-child::after {align-self: flex-start;width: 50%;}#sk-container-id-1 div.sk-parallel-item:only-child::after {width: 0;}#sk-container-id-1 div.sk-dashed-wrapped {border: 1px dashed gray;margin: 0 0.4em 0.5em 0.4em;box-sizing: border-box;padding-bottom: 0.4em;background-color: white;}#sk-container-id-1 div.sk-label label {font-family: monospace;font-weight: bold;display: inline-block;line-height: 1.2em;}#sk-container-id-1 div.sk-label-container {text-align: center;}#sk-container-id-1 div.sk-container {/* jupyter's `normalize.less` sets `[hidden] { display: none; }` but bootstrap.min.css set `[hidden] { display: none !important; }` so we also need the `!important` here to be able to override the default hidden behavior on the sphinx rendered scikit-learn.org. See: https://github.com/scikit-learn/scikit-learn/issues/21755 */display: inline-block !important;position: relative;}#sk-container-id-1 div.sk-text-repr-fallback {display: none;}</style><div id=\"sk-container-id-1\" class=\"sk-top-container\"><div class=\"sk-text-repr-fallback\"><pre>RandomForestClassifier(max_samples=0.6, min_samples_leaf=2, n_estimators=200,\n",
              "                       random_state=1)</pre><b>In a Jupyter environment, please rerun this cell to show the HTML representation or trust the notebook. <br />On GitHub, the HTML representation is unable to render, please try loading this page with nbviewer.org.</b></div><div class=\"sk-container\" hidden><div class=\"sk-item\"><div class=\"sk-estimator sk-toggleable\"><input class=\"sk-toggleable__control sk-hidden--visually\" id=\"sk-estimator-id-1\" type=\"checkbox\" checked><label for=\"sk-estimator-id-1\" class=\"sk-toggleable__label sk-toggleable__label-arrow\">RandomForestClassifier</label><div class=\"sk-toggleable__content\"><pre>RandomForestClassifier(max_samples=0.6, min_samples_leaf=2, n_estimators=200,\n",
              "                       random_state=1)</pre></div></div></div></div></div>"
            ],
            "text/plain": [
              "RandomForestClassifier(max_samples=0.6, min_samples_leaf=2, n_estimators=200,\n",
              "                       random_state=1)"
            ]
          },
          "execution_count": 39,
          "metadata": {},
          "output_type": "execute_result"
        },
        {
          "data": {
            "application/javascript": "\n            setTimeout(function() {\n                var nbb_cell_id = 39;\n                var nbb_unformatted_code = \"# Creating new pipeline with best parameters\\ntuned_rf2 = RandomForestClassifier(\\n    max_features='sqrt',\\n    random_state=1,\\n    max_samples=0.6,\\n    n_estimators=200,\\n    min_samples_leaf=2,\\n)## Complete the code with the best parameters obtained from tuning\\n\\ntuned_rf2.fit(X_train_un,y_train_un) ## Complete the code to fit the model on under sampled data\";\n                var nbb_formatted_code = \"# Creating new pipeline with best parameters\\ntuned_rf2 = RandomForestClassifier(\\n    max_features=\\\"sqrt\\\",\\n    random_state=1,\\n    max_samples=0.6,\\n    n_estimators=200,\\n    min_samples_leaf=2,\\n)  ## Complete the code with the best parameters obtained from tuning\\n\\ntuned_rf2.fit(\\n    X_train_un, y_train_un\\n)  ## Complete the code to fit the model on under sampled data\";\n                var nbb_cells = Jupyter.notebook.get_cells();\n                for (var i = 0; i < nbb_cells.length; ++i) {\n                    if (nbb_cells[i].input_prompt_number == nbb_cell_id) {\n                        if (nbb_cells[i].get_text() == nbb_unformatted_code) {\n                             nbb_cells[i].set_text(nbb_formatted_code);\n                        }\n                        break;\n                    }\n                }\n            }, 500);\n            ",
            "text/plain": [
              "<IPython.core.display.Javascript object>"
            ]
          },
          "metadata": {},
          "output_type": "display_data"
        }
      ],
      "source": [
        "# Creating new pipeline with best parameters\n",
        "tuned_rf2 = RandomForestClassifier(\n",
        "    max_features='sqrt',\n",
        "    random_state=1,\n",
        "    max_samples=0.6,\n",
        "    n_estimators=200,\n",
        "    min_samples_leaf=2,\n",
        ")## Complete the code with the best parameters obtained from tuning\n",
        "\n",
        "tuned_rf2.fit(X_train_un,y_train_un) ## Complete the code to fit the model on under sampled data"
      ]
    },
    {
      "cell_type": "code",
      "execution_count": 40,
      "metadata": {
        "id": "bAAD5mzybp1E"
      },
      "outputs": [
        {
          "data": {
            "text/html": [
              "<div>\n",
              "<style scoped>\n",
              "    .dataframe tbody tr th:only-of-type {\n",
              "        vertical-align: middle;\n",
              "    }\n",
              "\n",
              "    .dataframe tbody tr th {\n",
              "        vertical-align: top;\n",
              "    }\n",
              "\n",
              "    .dataframe thead th {\n",
              "        text-align: right;\n",
              "    }\n",
              "</style>\n",
              "<table border=\"1\" class=\"dataframe\">\n",
              "  <thead>\n",
              "    <tr style=\"text-align: right;\">\n",
              "      <th></th>\n",
              "      <th>Accuracy</th>\n",
              "      <th>Recall</th>\n",
              "      <th>Precision</th>\n",
              "      <th>F1</th>\n",
              "    </tr>\n",
              "  </thead>\n",
              "  <tbody>\n",
              "    <tr>\n",
              "      <th>0</th>\n",
              "      <td>0.967</td>\n",
              "      <td>0.935</td>\n",
              "      <td>0.999</td>\n",
              "      <td>0.966</td>\n",
              "    </tr>\n",
              "  </tbody>\n",
              "</table>\n",
              "</div>"
            ],
            "text/plain": [
              "   Accuracy  Recall  Precision    F1\n",
              "0     0.967   0.935      0.999 0.966"
            ]
          },
          "execution_count": 40,
          "metadata": {},
          "output_type": "execute_result"
        },
        {
          "data": {
            "application/javascript": "\n            setTimeout(function() {\n                var nbb_cell_id = 40;\n                var nbb_unformatted_code = \"rf2_train_perf =  model_performance_classification_sklearn(tuned_rf2, X_train_un,y_train_un) ## Complete the code to check the performance on undersampled train set\\nrf2_train_perf\";\n                var nbb_formatted_code = \"rf2_train_perf = model_performance_classification_sklearn(\\n    tuned_rf2, X_train_un, y_train_un\\n)  ## Complete the code to check the performance on undersampled train set\\nrf2_train_perf\";\n                var nbb_cells = Jupyter.notebook.get_cells();\n                for (var i = 0; i < nbb_cells.length; ++i) {\n                    if (nbb_cells[i].input_prompt_number == nbb_cell_id) {\n                        if (nbb_cells[i].get_text() == nbb_unformatted_code) {\n                             nbb_cells[i].set_text(nbb_formatted_code);\n                        }\n                        break;\n                    }\n                }\n            }, 500);\n            ",
            "text/plain": [
              "<IPython.core.display.Javascript object>"
            ]
          },
          "metadata": {},
          "output_type": "display_data"
        }
      ],
      "source": [
        "rf2_train_perf =  model_performance_classification_sklearn(tuned_rf2, X_train_un,y_train_un) ## Complete the code to check the performance on undersampled train set\n",
        "rf2_train_perf"
      ]
    },
    {
      "cell_type": "code",
      "execution_count": 41,
      "metadata": {
        "id": "WTtYpzO-bp1E",
        "scrolled": true
      },
      "outputs": [
        {
          "data": {
            "text/html": [
              "<div>\n",
              "<style scoped>\n",
              "    .dataframe tbody tr th:only-of-type {\n",
              "        vertical-align: middle;\n",
              "    }\n",
              "\n",
              "    .dataframe tbody tr th {\n",
              "        vertical-align: top;\n",
              "    }\n",
              "\n",
              "    .dataframe thead th {\n",
              "        text-align: right;\n",
              "    }\n",
              "</style>\n",
              "<table border=\"1\" class=\"dataframe\">\n",
              "  <thead>\n",
              "    <tr style=\"text-align: right;\">\n",
              "      <th></th>\n",
              "      <th>Accuracy</th>\n",
              "      <th>Recall</th>\n",
              "      <th>Precision</th>\n",
              "      <th>F1</th>\n",
              "    </tr>\n",
              "  </thead>\n",
              "  <tbody>\n",
              "    <tr>\n",
              "      <th>0</th>\n",
              "      <td>0.942</td>\n",
              "      <td>0.899</td>\n",
              "      <td>0.488</td>\n",
              "      <td>0.633</td>\n",
              "    </tr>\n",
              "  </tbody>\n",
              "</table>\n",
              "</div>"
            ],
            "text/plain": [
              "   Accuracy  Recall  Precision    F1\n",
              "0     0.942   0.899      0.488 0.633"
            ]
          },
          "execution_count": 41,
          "metadata": {},
          "output_type": "execute_result"
        },
        {
          "data": {
            "application/javascript": "\n            setTimeout(function() {\n                var nbb_cell_id = 41;\n                var nbb_unformatted_code = \"rf2_val_perf = model_performance_classification_sklearn(tuned_rf2, X_val,y_val) ## Complete the code to check the performance on validation set\\nrf2_val_perf\";\n                var nbb_formatted_code = \"rf2_val_perf = model_performance_classification_sklearn(\\n    tuned_rf2, X_val, y_val\\n)  ## Complete the code to check the performance on validation set\\nrf2_val_perf\";\n                var nbb_cells = Jupyter.notebook.get_cells();\n                for (var i = 0; i < nbb_cells.length; ++i) {\n                    if (nbb_cells[i].input_prompt_number == nbb_cell_id) {\n                        if (nbb_cells[i].get_text() == nbb_unformatted_code) {\n                             nbb_cells[i].set_text(nbb_formatted_code);\n                        }\n                        break;\n                    }\n                }\n            }, 500);\n            ",
            "text/plain": [
              "<IPython.core.display.Javascript object>"
            ]
          },
          "metadata": {},
          "output_type": "display_data"
        }
      ],
      "source": [
        "rf2_val_perf = model_performance_classification_sklearn(tuned_rf2, X_val,y_val) ## Complete the code to check the performance on validation set\n",
        "rf2_val_perf"
      ]
    },
    {
      "cell_type": "markdown",
      "metadata": {},
      "source": [
        "### Tuning Random forest using oversampled data"
      ]
    },
    {
      "cell_type": "code",
      "execution_count": 298,
      "metadata": {},
      "outputs": [
        {
          "name": "stdout",
          "output_type": "stream",
          "text": [
            "Best parameters are {'n_estimators': 250, 'min_samples_leaf': 1, 'max_samples': 0.6, 'max_features': 'sqrt'} with CV score=0.9809416741543673:\n",
            "CPU times: total: 25.7 s\n",
            "Wall time: 16min 57s\n"
          ]
        },
        {
          "data": {
            "application/javascript": "\n            setTimeout(function() {\n                var nbb_cell_id = 298;\n                var nbb_unformatted_code = \"%%time \\n\\n# defining model\\nModel = RandomForestClassifier(random_state=1)\\n\\n# Parameter grid to pass in RandomSearchCV\\nparam_grid = {\\n    \\\"n_estimators\\\": [200,250,300],\\n    \\\"min_samples_leaf\\\": np.arange(1, 4),\\n    \\\"max_features\\\": [np.arange(0.3, 0.6, 0.1),'sqrt'],\\n    \\\"max_samples\\\": np.arange(0.4, 0.7, 0.1)}\\n\\n\\n#Calling RandomizedSearchCV\\nrandomized_cv = RandomizedSearchCV(estimator=Model, param_distributions=param_grid, n_iter=50, n_jobs = -1, scoring=scorer, cv=5, random_state=1)\\n\\n#Fitting parameters in RandomizedSearchCV\\nrandomized_cv.fit(X_train_over,y_train_over) ## Complete the code to fit the model on under sampled data\\n\\nprint(\\\"Best parameters are {} with CV score={}:\\\" .format(randomized_cv.best_params_,randomized_cv.best_score_))\";\n                var nbb_formatted_code = \"%%time \\n\\n# defining model\\nModel = RandomForestClassifier(random_state=1)\\n\\n# Parameter grid to pass in RandomSearchCV\\nparam_grid = {\\n    \\\"n_estimators\\\": [200,250,300],\\n    \\\"min_samples_leaf\\\": np.arange(1, 4),\\n    \\\"max_features\\\": [np.arange(0.3, 0.6, 0.1),'sqrt'],\\n    \\\"max_samples\\\": np.arange(0.4, 0.7, 0.1)}\\n\\n\\n#Calling RandomizedSearchCV\\nrandomized_cv = RandomizedSearchCV(estimator=Model, param_distributions=param_grid, n_iter=50, n_jobs = -1, scoring=scorer, cv=5, random_state=1)\\n\\n#Fitting parameters in RandomizedSearchCV\\nrandomized_cv.fit(X_train_over,y_train_over) ## Complete the code to fit the model on under sampled data\\n\\nprint(\\\"Best parameters are {} with CV score={}:\\\" .format(randomized_cv.best_params_,randomized_cv.best_score_))\";\n                var nbb_cells = Jupyter.notebook.get_cells();\n                for (var i = 0; i < nbb_cells.length; ++i) {\n                    if (nbb_cells[i].input_prompt_number == nbb_cell_id) {\n                        if (nbb_cells[i].get_text() == nbb_unformatted_code) {\n                             nbb_cells[i].set_text(nbb_formatted_code);\n                        }\n                        break;\n                    }\n                }\n            }, 500);\n            ",
            "text/plain": [
              "<IPython.core.display.Javascript object>"
            ]
          },
          "metadata": {},
          "output_type": "display_data"
        }
      ],
      "source": [
        "%%time \n",
        "\n",
        "# defining model\n",
        "Model = RandomForestClassifier(random_state=1)\n",
        "\n",
        "# Parameter grid to pass in RandomSearchCV\n",
        "param_grid = {\n",
        "    \"n_estimators\": [200,250,300],\n",
        "    \"min_samples_leaf\": np.arange(1, 4),\n",
        "    \"max_features\": [np.arange(0.3, 0.6, 0.1),'sqrt'],\n",
        "    \"max_samples\": np.arange(0.4, 0.7, 0.1)}\n",
        "\n",
        "\n",
        "#Calling RandomizedSearchCV\n",
        "randomized_cv = RandomizedSearchCV(estimator=Model, param_distributions=param_grid, n_iter=50, n_jobs = -1, scoring=scorer, cv=5, random_state=1)\n",
        "\n",
        "#Fitting parameters in RandomizedSearchCV\n",
        "randomized_cv.fit(X_train_over,y_train_over) ## Complete the code to fit the model on under sampled data\n",
        "\n",
        "print(\"Best parameters are {} with CV score={}:\" .format(randomized_cv.best_params_,randomized_cv.best_score_))"
      ]
    },
    {
      "cell_type": "code",
      "execution_count": 300,
      "metadata": {},
      "outputs": [
        {
          "data": {
            "text/html": [
              "<style>#sk-container-id-12 {color: black;background-color: white;}#sk-container-id-12 pre{padding: 0;}#sk-container-id-12 div.sk-toggleable {background-color: white;}#sk-container-id-12 label.sk-toggleable__label {cursor: pointer;display: block;width: 100%;margin-bottom: 0;padding: 0.3em;box-sizing: border-box;text-align: center;}#sk-container-id-12 label.sk-toggleable__label-arrow:before {content: \"▸\";float: left;margin-right: 0.25em;color: #696969;}#sk-container-id-12 label.sk-toggleable__label-arrow:hover:before {color: black;}#sk-container-id-12 div.sk-estimator:hover label.sk-toggleable__label-arrow:before {color: black;}#sk-container-id-12 div.sk-toggleable__content {max-height: 0;max-width: 0;overflow: hidden;text-align: left;background-color: #f0f8ff;}#sk-container-id-12 div.sk-toggleable__content pre {margin: 0.2em;color: black;border-radius: 0.25em;background-color: #f0f8ff;}#sk-container-id-12 input.sk-toggleable__control:checked~div.sk-toggleable__content {max-height: 200px;max-width: 100%;overflow: auto;}#sk-container-id-12 input.sk-toggleable__control:checked~label.sk-toggleable__label-arrow:before {content: \"▾\";}#sk-container-id-12 div.sk-estimator input.sk-toggleable__control:checked~label.sk-toggleable__label {background-color: #d4ebff;}#sk-container-id-12 div.sk-label input.sk-toggleable__control:checked~label.sk-toggleable__label {background-color: #d4ebff;}#sk-container-id-12 input.sk-hidden--visually {border: 0;clip: rect(1px 1px 1px 1px);clip: rect(1px, 1px, 1px, 1px);height: 1px;margin: -1px;overflow: hidden;padding: 0;position: absolute;width: 1px;}#sk-container-id-12 div.sk-estimator {font-family: monospace;background-color: #f0f8ff;border: 1px dotted black;border-radius: 0.25em;box-sizing: border-box;margin-bottom: 0.5em;}#sk-container-id-12 div.sk-estimator:hover {background-color: #d4ebff;}#sk-container-id-12 div.sk-parallel-item::after {content: \"\";width: 100%;border-bottom: 1px solid gray;flex-grow: 1;}#sk-container-id-12 div.sk-label:hover label.sk-toggleable__label {background-color: #d4ebff;}#sk-container-id-12 div.sk-serial::before {content: \"\";position: absolute;border-left: 1px solid gray;box-sizing: border-box;top: 0;bottom: 0;left: 50%;z-index: 0;}#sk-container-id-12 div.sk-serial {display: flex;flex-direction: column;align-items: center;background-color: white;padding-right: 0.2em;padding-left: 0.2em;position: relative;}#sk-container-id-12 div.sk-item {position: relative;z-index: 1;}#sk-container-id-12 div.sk-parallel {display: flex;align-items: stretch;justify-content: center;background-color: white;position: relative;}#sk-container-id-12 div.sk-item::before, #sk-container-id-12 div.sk-parallel-item::before {content: \"\";position: absolute;border-left: 1px solid gray;box-sizing: border-box;top: 0;bottom: 0;left: 50%;z-index: -1;}#sk-container-id-12 div.sk-parallel-item {display: flex;flex-direction: column;z-index: 1;position: relative;background-color: white;}#sk-container-id-12 div.sk-parallel-item:first-child::after {align-self: flex-end;width: 50%;}#sk-container-id-12 div.sk-parallel-item:last-child::after {align-self: flex-start;width: 50%;}#sk-container-id-12 div.sk-parallel-item:only-child::after {width: 0;}#sk-container-id-12 div.sk-dashed-wrapped {border: 1px dashed gray;margin: 0 0.4em 0.5em 0.4em;box-sizing: border-box;padding-bottom: 0.4em;background-color: white;}#sk-container-id-12 div.sk-label label {font-family: monospace;font-weight: bold;display: inline-block;line-height: 1.2em;}#sk-container-id-12 div.sk-label-container {text-align: center;}#sk-container-id-12 div.sk-container {/* jupyter's `normalize.less` sets `[hidden] { display: none; }` but bootstrap.min.css set `[hidden] { display: none !important; }` so we also need the `!important` here to be able to override the default hidden behavior on the sphinx rendered scikit-learn.org. See: https://github.com/scikit-learn/scikit-learn/issues/21755 */display: inline-block !important;position: relative;}#sk-container-id-12 div.sk-text-repr-fallback {display: none;}</style><div id=\"sk-container-id-12\" class=\"sk-top-container\"><div class=\"sk-text-repr-fallback\"><pre>RandomForestClassifier(max_samples=0.6, n_estimators=250, random_state=1)</pre><b>In a Jupyter environment, please rerun this cell to show the HTML representation or trust the notebook. <br />On GitHub, the HTML representation is unable to render, please try loading this page with nbviewer.org.</b></div><div class=\"sk-container\" hidden><div class=\"sk-item\"><div class=\"sk-estimator sk-toggleable\"><input class=\"sk-toggleable__control sk-hidden--visually\" id=\"sk-estimator-id-22\" type=\"checkbox\" checked><label for=\"sk-estimator-id-22\" class=\"sk-toggleable__label sk-toggleable__label-arrow\">RandomForestClassifier</label><div class=\"sk-toggleable__content\"><pre>RandomForestClassifier(max_samples=0.6, n_estimators=250, random_state=1)</pre></div></div></div></div></div>"
            ],
            "text/plain": [
              "RandomForestClassifier(max_samples=0.6, n_estimators=250, random_state=1)"
            ]
          },
          "execution_count": 300,
          "metadata": {},
          "output_type": "execute_result"
        },
        {
          "data": {
            "application/javascript": "\n            setTimeout(function() {\n                var nbb_cell_id = 300;\n                var nbb_unformatted_code = \"# Creating new pipeline with best parameters\\ntuned_rf3 = RandomForestClassifier(\\n    max_features='sqrt',\\n    random_state=1,\\n    max_samples=0.6,\\n    n_estimators=250,\\n    min_samples_leaf=1,\\n)## Complete the code with the best parameters obtained from tuning\\n\\ntuned_rf3.fit(X_train_over,y_train_over) ## Complete the code to fit the model on under sampled data\";\n                var nbb_formatted_code = \"# Creating new pipeline with best parameters\\ntuned_rf3 = RandomForestClassifier(\\n    max_features=\\\"sqrt\\\",\\n    random_state=1,\\n    max_samples=0.6,\\n    n_estimators=250,\\n    min_samples_leaf=1,\\n)  ## Complete the code with the best parameters obtained from tuning\\n\\ntuned_rf3.fit(\\n    X_train_over, y_train_over\\n)  ## Complete the code to fit the model on under sampled data\";\n                var nbb_cells = Jupyter.notebook.get_cells();\n                for (var i = 0; i < nbb_cells.length; ++i) {\n                    if (nbb_cells[i].input_prompt_number == nbb_cell_id) {\n                        if (nbb_cells[i].get_text() == nbb_unformatted_code) {\n                             nbb_cells[i].set_text(nbb_formatted_code);\n                        }\n                        break;\n                    }\n                }\n            }, 500);\n            ",
            "text/plain": [
              "<IPython.core.display.Javascript object>"
            ]
          },
          "metadata": {},
          "output_type": "display_data"
        }
      ],
      "source": [
        "# Creating new pipeline with best parameters\n",
        "tuned_rf3 = RandomForestClassifier(\n",
        "    max_features='sqrt',\n",
        "    random_state=1,\n",
        "    max_samples=0.6,\n",
        "    n_estimators=250,\n",
        "    min_samples_leaf=1,\n",
        ")## Complete the code with the best parameters obtained from tuning\n",
        "\n",
        "tuned_rf3.fit(X_train_over,y_train_over) ## Complete the code to fit the model on under sampled data"
      ]
    },
    {
      "cell_type": "code",
      "execution_count": 301,
      "metadata": {},
      "outputs": [
        {
          "data": {
            "text/html": [
              "<div>\n",
              "<style scoped>\n",
              "    .dataframe tbody tr th:only-of-type {\n",
              "        vertical-align: middle;\n",
              "    }\n",
              "\n",
              "    .dataframe tbody tr th {\n",
              "        vertical-align: top;\n",
              "    }\n",
              "\n",
              "    .dataframe thead th {\n",
              "        text-align: right;\n",
              "    }\n",
              "</style>\n",
              "<table border=\"1\" class=\"dataframe\">\n",
              "  <thead>\n",
              "    <tr style=\"text-align: right;\">\n",
              "      <th></th>\n",
              "      <th>Accuracy</th>\n",
              "      <th>Recall</th>\n",
              "      <th>Precision</th>\n",
              "      <th>F1</th>\n",
              "    </tr>\n",
              "  </thead>\n",
              "  <tbody>\n",
              "    <tr>\n",
              "      <th>0</th>\n",
              "      <td>1.000</td>\n",
              "      <td>1.000</td>\n",
              "      <td>1.000</td>\n",
              "      <td>1.000</td>\n",
              "    </tr>\n",
              "  </tbody>\n",
              "</table>\n",
              "</div>"
            ],
            "text/plain": [
              "   Accuracy  Recall  Precision    F1\n",
              "0     1.000   1.000      1.000 1.000"
            ]
          },
          "execution_count": 301,
          "metadata": {},
          "output_type": "execute_result"
        },
        {
          "data": {
            "application/javascript": "\n            setTimeout(function() {\n                var nbb_cell_id = 301;\n                var nbb_unformatted_code = \"rf3_train_perf =  model_performance_classification_sklearn(tuned_rf3, X_train_over,y_train_over) ## Complete the code to check the performance on undersampled train set\\nrf3_train_perf\";\n                var nbb_formatted_code = \"rf3_train_perf = model_performance_classification_sklearn(\\n    tuned_rf3, X_train_over, y_train_over\\n)  ## Complete the code to check the performance on undersampled train set\\nrf3_train_perf\";\n                var nbb_cells = Jupyter.notebook.get_cells();\n                for (var i = 0; i < nbb_cells.length; ++i) {\n                    if (nbb_cells[i].input_prompt_number == nbb_cell_id) {\n                        if (nbb_cells[i].get_text() == nbb_unformatted_code) {\n                             nbb_cells[i].set_text(nbb_formatted_code);\n                        }\n                        break;\n                    }\n                }\n            }, 500);\n            ",
            "text/plain": [
              "<IPython.core.display.Javascript object>"
            ]
          },
          "metadata": {},
          "output_type": "display_data"
        }
      ],
      "source": [
        "rf3_train_perf =  model_performance_classification_sklearn(tuned_rf3, X_train_over,y_train_over) ## Complete the code to check the performance on undersampled train set\n",
        "rf3_train_perf"
      ]
    },
    {
      "cell_type": "code",
      "execution_count": 302,
      "metadata": {},
      "outputs": [
        {
          "data": {
            "text/html": [
              "<div>\n",
              "<style scoped>\n",
              "    .dataframe tbody tr th:only-of-type {\n",
              "        vertical-align: middle;\n",
              "    }\n",
              "\n",
              "    .dataframe tbody tr th {\n",
              "        vertical-align: top;\n",
              "    }\n",
              "\n",
              "    .dataframe thead th {\n",
              "        text-align: right;\n",
              "    }\n",
              "</style>\n",
              "<table border=\"1\" class=\"dataframe\">\n",
              "  <thead>\n",
              "    <tr style=\"text-align: right;\">\n",
              "      <th></th>\n",
              "      <th>Accuracy</th>\n",
              "      <th>Recall</th>\n",
              "      <th>Precision</th>\n",
              "      <th>F1</th>\n",
              "    </tr>\n",
              "  </thead>\n",
              "  <tbody>\n",
              "    <tr>\n",
              "      <th>0</th>\n",
              "      <td>0.986</td>\n",
              "      <td>0.852</td>\n",
              "      <td>0.887</td>\n",
              "      <td>0.869</td>\n",
              "    </tr>\n",
              "  </tbody>\n",
              "</table>\n",
              "</div>"
            ],
            "text/plain": [
              "   Accuracy  Recall  Precision    F1\n",
              "0     0.986   0.852      0.887 0.869"
            ]
          },
          "execution_count": 302,
          "metadata": {},
          "output_type": "execute_result"
        },
        {
          "data": {
            "application/javascript": "\n            setTimeout(function() {\n                var nbb_cell_id = 302;\n                var nbb_unformatted_code = \"rf3_val_perf = model_performance_classification_sklearn(tuned_rf3, X_val,y_val) ## Complete the code to check the performance on validation set\\nrf3_val_perf\";\n                var nbb_formatted_code = \"rf3_val_perf = model_performance_classification_sklearn(\\n    tuned_rf3, X_val, y_val\\n)  ## Complete the code to check the performance on validation set\\nrf3_val_perf\";\n                var nbb_cells = Jupyter.notebook.get_cells();\n                for (var i = 0; i < nbb_cells.length; ++i) {\n                    if (nbb_cells[i].input_prompt_number == nbb_cell_id) {\n                        if (nbb_cells[i].get_text() == nbb_unformatted_code) {\n                             nbb_cells[i].set_text(nbb_formatted_code);\n                        }\n                        break;\n                    }\n                }\n            }, 500);\n            ",
            "text/plain": [
              "<IPython.core.display.Javascript object>"
            ]
          },
          "metadata": {},
          "output_type": "display_data"
        }
      ],
      "source": [
        "rf3_val_perf = model_performance_classification_sklearn(tuned_rf3, X_val,y_val) ## Complete the code to check the performance on validation set\n",
        "rf3_val_perf"
      ]
    },
    {
      "cell_type": "markdown",
      "metadata": {
        "id": "XoLT8ewJ5V2d"
      },
      "source": [
        "### Tuning Gradient Boosting using oversampled data"
      ]
    },
    {
      "cell_type": "code",
      "execution_count": null,
      "metadata": {
        "id": "zkDY8_X25Kxe"
      },
      "outputs": [],
      "source": [
        "%%time \n",
        "\n",
        "# defining model\n",
        "Model = GradientBoostingClassifier(random_state=1)\n",
        "\n",
        "#Parameter grid to pass in RandomSearchCV\n",
        "param_grid={\"n_estimators\": np.arange(100,150,25), \"learning_rate\": [0.2, 0.05, 1], \"subsample\":[0.5,0.7], \"max_features\":[0.5,0.7]}\n",
        "\n",
        "#Calling RandomizedSearchCV\n",
        "randomized_cv = RandomizedSearchCV(estimator=Model, param_distributions=param_grid, scoring=scorer, n_iter=50, n_jobs = -1, cv=5, random_state=1,v)\n",
        "\n",
        "#Fitting parameters in RandomizedSearchCV\n",
        "randomized_cv.fit(X_train_over, y_train_over)\n",
        "\n",
        "print(\"Best parameters are {} with CV score={}:\" .format(randomized_cv.best_params_,randomized_cv.best_score_))"
      ]
    },
    {
      "cell_type": "code",
      "execution_count": 87,
      "metadata": {
        "id": "j_61Omhq5KkB"
      },
      "outputs": [
        {
          "data": {
            "text/html": [
              "<style>#sk-container-id-3 {color: black;background-color: white;}#sk-container-id-3 pre{padding: 0;}#sk-container-id-3 div.sk-toggleable {background-color: white;}#sk-container-id-3 label.sk-toggleable__label {cursor: pointer;display: block;width: 100%;margin-bottom: 0;padding: 0.3em;box-sizing: border-box;text-align: center;}#sk-container-id-3 label.sk-toggleable__label-arrow:before {content: \"▸\";float: left;margin-right: 0.25em;color: #696969;}#sk-container-id-3 label.sk-toggleable__label-arrow:hover:before {color: black;}#sk-container-id-3 div.sk-estimator:hover label.sk-toggleable__label-arrow:before {color: black;}#sk-container-id-3 div.sk-toggleable__content {max-height: 0;max-width: 0;overflow: hidden;text-align: left;background-color: #f0f8ff;}#sk-container-id-3 div.sk-toggleable__content pre {margin: 0.2em;color: black;border-radius: 0.25em;background-color: #f0f8ff;}#sk-container-id-3 input.sk-toggleable__control:checked~div.sk-toggleable__content {max-height: 200px;max-width: 100%;overflow: auto;}#sk-container-id-3 input.sk-toggleable__control:checked~label.sk-toggleable__label-arrow:before {content: \"▾\";}#sk-container-id-3 div.sk-estimator input.sk-toggleable__control:checked~label.sk-toggleable__label {background-color: #d4ebff;}#sk-container-id-3 div.sk-label input.sk-toggleable__control:checked~label.sk-toggleable__label {background-color: #d4ebff;}#sk-container-id-3 input.sk-hidden--visually {border: 0;clip: rect(1px 1px 1px 1px);clip: rect(1px, 1px, 1px, 1px);height: 1px;margin: -1px;overflow: hidden;padding: 0;position: absolute;width: 1px;}#sk-container-id-3 div.sk-estimator {font-family: monospace;background-color: #f0f8ff;border: 1px dotted black;border-radius: 0.25em;box-sizing: border-box;margin-bottom: 0.5em;}#sk-container-id-3 div.sk-estimator:hover {background-color: #d4ebff;}#sk-container-id-3 div.sk-parallel-item::after {content: \"\";width: 100%;border-bottom: 1px solid gray;flex-grow: 1;}#sk-container-id-3 div.sk-label:hover label.sk-toggleable__label {background-color: #d4ebff;}#sk-container-id-3 div.sk-serial::before {content: \"\";position: absolute;border-left: 1px solid gray;box-sizing: border-box;top: 0;bottom: 0;left: 50%;z-index: 0;}#sk-container-id-3 div.sk-serial {display: flex;flex-direction: column;align-items: center;background-color: white;padding-right: 0.2em;padding-left: 0.2em;position: relative;}#sk-container-id-3 div.sk-item {position: relative;z-index: 1;}#sk-container-id-3 div.sk-parallel {display: flex;align-items: stretch;justify-content: center;background-color: white;position: relative;}#sk-container-id-3 div.sk-item::before, #sk-container-id-3 div.sk-parallel-item::before {content: \"\";position: absolute;border-left: 1px solid gray;box-sizing: border-box;top: 0;bottom: 0;left: 50%;z-index: -1;}#sk-container-id-3 div.sk-parallel-item {display: flex;flex-direction: column;z-index: 1;position: relative;background-color: white;}#sk-container-id-3 div.sk-parallel-item:first-child::after {align-self: flex-end;width: 50%;}#sk-container-id-3 div.sk-parallel-item:last-child::after {align-self: flex-start;width: 50%;}#sk-container-id-3 div.sk-parallel-item:only-child::after {width: 0;}#sk-container-id-3 div.sk-dashed-wrapped {border: 1px dashed gray;margin: 0 0.4em 0.5em 0.4em;box-sizing: border-box;padding-bottom: 0.4em;background-color: white;}#sk-container-id-3 div.sk-label label {font-family: monospace;font-weight: bold;display: inline-block;line-height: 1.2em;}#sk-container-id-3 div.sk-label-container {text-align: center;}#sk-container-id-3 div.sk-container {/* jupyter's `normalize.less` sets `[hidden] { display: none; }` but bootstrap.min.css set `[hidden] { display: none !important; }` so we also need the `!important` here to be able to override the default hidden behavior on the sphinx rendered scikit-learn.org. See: https://github.com/scikit-learn/scikit-learn/issues/21755 */display: inline-block !important;position: relative;}#sk-container-id-3 div.sk-text-repr-fallback {display: none;}</style><div id=\"sk-container-id-3\" class=\"sk-top-container\"><div class=\"sk-text-repr-fallback\"><pre>GradientBoostingClassifier(learning_rate=1, max_features=0.5, n_estimators=125,\n",
              "                           random_state=1, subsample=0.7)</pre><b>In a Jupyter environment, please rerun this cell to show the HTML representation or trust the notebook. <br />On GitHub, the HTML representation is unable to render, please try loading this page with nbviewer.org.</b></div><div class=\"sk-container\" hidden><div class=\"sk-item\"><div class=\"sk-estimator sk-toggleable\"><input class=\"sk-toggleable__control sk-hidden--visually\" id=\"sk-estimator-id-3\" type=\"checkbox\" checked><label for=\"sk-estimator-id-3\" class=\"sk-toggleable__label sk-toggleable__label-arrow\">GradientBoostingClassifier</label><div class=\"sk-toggleable__content\"><pre>GradientBoostingClassifier(learning_rate=1, max_features=0.5, n_estimators=125,\n",
              "                           random_state=1, subsample=0.7)</pre></div></div></div></div></div>"
            ],
            "text/plain": [
              "GradientBoostingClassifier(learning_rate=1, max_features=0.5, n_estimators=125,\n",
              "                           random_state=1, subsample=0.7)"
            ]
          },
          "execution_count": 87,
          "metadata": {},
          "output_type": "execute_result"
        },
        {
          "data": {
            "application/javascript": "\n            setTimeout(function() {\n                var nbb_cell_id = 87;\n                var nbb_unformatted_code = \"# Creating new pipeline with best parameters\\ntuned_gbm = GradientBoostingClassifier(\\n    max_features=0.5,\\n    random_state=1,\\n    learning_rate=1,\\n    n_estimators=125,\\n    subsample=0.7,\\n)## Complete the code with the best parameters obtained from tuning\\n\\ntuned_gbm.fit(X_train_over, y_train_over)\";\n                var nbb_formatted_code = \"# Creating new pipeline with best parameters\\ntuned_gbm = GradientBoostingClassifier(\\n    max_features=0.5,\\n    random_state=1,\\n    learning_rate=1,\\n    n_estimators=125,\\n    subsample=0.7,\\n)  ## Complete the code with the best parameters obtained from tuning\\n\\ntuned_gbm.fit(X_train_over, y_train_over)\";\n                var nbb_cells = Jupyter.notebook.get_cells();\n                for (var i = 0; i < nbb_cells.length; ++i) {\n                    if (nbb_cells[i].input_prompt_number == nbb_cell_id) {\n                        if (nbb_cells[i].get_text() == nbb_unformatted_code) {\n                             nbb_cells[i].set_text(nbb_formatted_code);\n                        }\n                        break;\n                    }\n                }\n            }, 500);\n            ",
            "text/plain": [
              "<IPython.core.display.Javascript object>"
            ]
          },
          "metadata": {},
          "output_type": "display_data"
        }
      ],
      "source": [
        "# Creating new pipeline with best parameters\n",
        "tuned_gbm = GradientBoostingClassifier(\n",
        "    max_features=0.5,\n",
        "    random_state=1,\n",
        "    learning_rate=1,\n",
        "    n_estimators=125,\n",
        "    subsample=0.7,\n",
        ")## Complete the code with the best parameters obtained from tuning\n",
        "\n",
        "tuned_gbm.fit(X_train_over, y_train_over)"
      ]
    },
    {
      "cell_type": "code",
      "execution_count": 88,
      "metadata": {
        "id": "_wVH74h75KXh"
      },
      "outputs": [
        {
          "data": {
            "text/html": [
              "<div>\n",
              "<style scoped>\n",
              "    .dataframe tbody tr th:only-of-type {\n",
              "        vertical-align: middle;\n",
              "    }\n",
              "\n",
              "    .dataframe tbody tr th {\n",
              "        vertical-align: top;\n",
              "    }\n",
              "\n",
              "    .dataframe thead th {\n",
              "        text-align: right;\n",
              "    }\n",
              "</style>\n",
              "<table border=\"1\" class=\"dataframe\">\n",
              "  <thead>\n",
              "    <tr style=\"text-align: right;\">\n",
              "      <th></th>\n",
              "      <th>Accuracy</th>\n",
              "      <th>Recall</th>\n",
              "      <th>Precision</th>\n",
              "      <th>F1</th>\n",
              "    </tr>\n",
              "  </thead>\n",
              "  <tbody>\n",
              "    <tr>\n",
              "      <th>0</th>\n",
              "      <td>0.981</td>\n",
              "      <td>0.978</td>\n",
              "      <td>0.983</td>\n",
              "      <td>0.981</td>\n",
              "    </tr>\n",
              "  </tbody>\n",
              "</table>\n",
              "</div>"
            ],
            "text/plain": [
              "   Accuracy  Recall  Precision    F1\n",
              "0     0.981   0.978      0.983 0.981"
            ]
          },
          "execution_count": 88,
          "metadata": {},
          "output_type": "execute_result"
        },
        {
          "data": {
            "application/javascript": "\n            setTimeout(function() {\n                var nbb_cell_id = 88;\n                var nbb_unformatted_code = \"gbm_train_perf = model_performance_classification_sklearn(\\n    tuned_gbm, X_train_over, y_train_over\\n)\\ngbm_train_perf\";\n                var nbb_formatted_code = \"gbm_train_perf = model_performance_classification_sklearn(\\n    tuned_gbm, X_train_over, y_train_over\\n)\\ngbm_train_perf\";\n                var nbb_cells = Jupyter.notebook.get_cells();\n                for (var i = 0; i < nbb_cells.length; ++i) {\n                    if (nbb_cells[i].input_prompt_number == nbb_cell_id) {\n                        if (nbb_cells[i].get_text() == nbb_unformatted_code) {\n                             nbb_cells[i].set_text(nbb_formatted_code);\n                        }\n                        break;\n                    }\n                }\n            }, 500);\n            ",
            "text/plain": [
              "<IPython.core.display.Javascript object>"
            ]
          },
          "metadata": {},
          "output_type": "display_data"
        }
      ],
      "source": [
        "gbm_train_perf = model_performance_classification_sklearn(\n",
        "    tuned_gbm, X_train_over, y_train_over\n",
        ")\n",
        "gbm_train_perf"
      ]
    },
    {
      "cell_type": "code",
      "execution_count": 89,
      "metadata": {
        "id": "VSfX85W55KF-"
      },
      "outputs": [
        {
          "data": {
            "text/html": [
              "<div>\n",
              "<style scoped>\n",
              "    .dataframe tbody tr th:only-of-type {\n",
              "        vertical-align: middle;\n",
              "    }\n",
              "\n",
              "    .dataframe tbody tr th {\n",
              "        vertical-align: top;\n",
              "    }\n",
              "\n",
              "    .dataframe thead th {\n",
              "        text-align: right;\n",
              "    }\n",
              "</style>\n",
              "<table border=\"1\" class=\"dataframe\">\n",
              "  <thead>\n",
              "    <tr style=\"text-align: right;\">\n",
              "      <th></th>\n",
              "      <th>Accuracy</th>\n",
              "      <th>Recall</th>\n",
              "      <th>Precision</th>\n",
              "      <th>F1</th>\n",
              "    </tr>\n",
              "  </thead>\n",
              "  <tbody>\n",
              "    <tr>\n",
              "      <th>0</th>\n",
              "      <td>0.957</td>\n",
              "      <td>0.856</td>\n",
              "      <td>0.578</td>\n",
              "      <td>0.690</td>\n",
              "    </tr>\n",
              "  </tbody>\n",
              "</table>\n",
              "</div>"
            ],
            "text/plain": [
              "   Accuracy  Recall  Precision    F1\n",
              "0     0.957   0.856      0.578 0.690"
            ]
          },
          "execution_count": 89,
          "metadata": {},
          "output_type": "execute_result"
        },
        {
          "data": {
            "application/javascript": "\n            setTimeout(function() {\n                var nbb_cell_id = 89;\n                var nbb_unformatted_code = \"gbm_val_perf = model_performance_classification_sklearn(\\n    tuned_gbm, X_val, y_val\\n)\\ngbm_val_perf\";\n                var nbb_formatted_code = \"gbm_val_perf = model_performance_classification_sklearn(tuned_gbm, X_val, y_val)\\ngbm_val_perf\";\n                var nbb_cells = Jupyter.notebook.get_cells();\n                for (var i = 0; i < nbb_cells.length; ++i) {\n                    if (nbb_cells[i].input_prompt_number == nbb_cell_id) {\n                        if (nbb_cells[i].get_text() == nbb_unformatted_code) {\n                             nbb_cells[i].set_text(nbb_formatted_code);\n                        }\n                        break;\n                    }\n                }\n            }, 500);\n            ",
            "text/plain": [
              "<IPython.core.display.Javascript object>"
            ]
          },
          "metadata": {},
          "output_type": "display_data"
        }
      ],
      "source": [
        "gbm_val_perf = model_performance_classification_sklearn(\n",
        "    tuned_gbm, X_val, y_val\n",
        ")\n",
        "gbm_val_perf"
      ]
    },
    {
      "cell_type": "markdown",
      "metadata": {
        "id": "VbrQHwrKbp1C"
      },
      "source": [
        "### Tuning XGBoost using oversampled data\n",
        "\n",
        "**Note**: You can choose to skip this section if XGBoost gives error."
      ]
    },
    {
      "cell_type": "code",
      "execution_count": 96,
      "metadata": {
        "id": "ec8e6iVzbp1C"
      },
      "outputs": [
        {
          "name": "stdout",
          "output_type": "stream",
          "text": [
            "Fitting 3 folds for each of 50 candidates, totalling 150 fits\n",
            "Best parameters are {'subsample': 0.8, 'scale_pos_weight': 10, 'n_estimators': 250, 'learning_rate': 0.1, 'gamma': 5} with CV score=0.9963999352046328:\n",
            "CPU times: total: 2min 9s\n",
            "Wall time: 57min 13s\n"
          ]
        },
        {
          "data": {
            "application/javascript": "\n            setTimeout(function() {\n                var nbb_cell_id = 96;\n                var nbb_unformatted_code = \"%%time \\n\\n# defining model\\nModel = XGBClassifier(random_state=1,eval_metric='logloss')\\n\\n#Parameter grid to pass in RandomSearchCV#'scale_pos_weight':[5,10]\\nparam_grid={'n_estimators':[150,200,250],'scale_pos_weight':[5,10], 'learning_rate':[0.1,0.2], 'gamma':[0,3,5], 'subsample':[0.8,0.9]}\\n\\n#Calling RandomizedSearchCV\\nrandomized_cv = RandomizedSearchCV(estimator=Model, param_distributions=param_grid,verbose=2, n_iter=50, n_jobs = -1, scoring=scorer, cv=3, random_state=1)\\n\\n#Fitting parameters in RandomizedSearchCV\\nrandomized_cv.fit(X_train_over, y_train_over) ## Complete the code to fit the model on over sampled data\\n\\nprint(\\\"Best parameters are {} with CV score={}:\\\" .format(randomized_cv.best_params_,randomized_cv.best_score_))\";\n                var nbb_formatted_code = \"%%time \\n\\n# defining model\\nModel = XGBClassifier(random_state=1,eval_metric='logloss')\\n\\n#Parameter grid to pass in RandomSearchCV#'scale_pos_weight':[5,10]\\nparam_grid={'n_estimators':[150,200,250],'scale_pos_weight':[5,10], 'learning_rate':[0.1,0.2], 'gamma':[0,3,5], 'subsample':[0.8,0.9]}\\n\\n#Calling RandomizedSearchCV\\nrandomized_cv = RandomizedSearchCV(estimator=Model, param_distributions=param_grid,verbose=2, n_iter=50, n_jobs = -1, scoring=scorer, cv=3, random_state=1)\\n\\n#Fitting parameters in RandomizedSearchCV\\nrandomized_cv.fit(X_train_over, y_train_over) ## Complete the code to fit the model on over sampled data\\n\\nprint(\\\"Best parameters are {} with CV score={}:\\\" .format(randomized_cv.best_params_,randomized_cv.best_score_))\";\n                var nbb_cells = Jupyter.notebook.get_cells();\n                for (var i = 0; i < nbb_cells.length; ++i) {\n                    if (nbb_cells[i].input_prompt_number == nbb_cell_id) {\n                        if (nbb_cells[i].get_text() == nbb_unformatted_code) {\n                             nbb_cells[i].set_text(nbb_formatted_code);\n                        }\n                        break;\n                    }\n                }\n            }, 500);\n            ",
            "text/plain": [
              "<IPython.core.display.Javascript object>"
            ]
          },
          "metadata": {},
          "output_type": "display_data"
        }
      ],
      "source": [
        "%%time \n",
        "\n",
        "# defining model\n",
        "Model = XGBClassifier(random_state=1,eval_metric='logloss')\n",
        "\n",
        "#Parameter grid to pass in RandomSearchCV#'scale_pos_weight':[5,10]\n",
        "param_grid={'n_estimators':[150,200,250],'scale_pos_weight':[5,10], 'learning_rate':[0.1,0.2], 'gamma':[0,3,5], 'subsample':[0.8,0.9]}\n",
        "\n",
        "#Calling RandomizedSearchCV\n",
        "randomized_cv = RandomizedSearchCV(estimator=Model, param_distributions=param_grid,verbose=2, n_iter=50, n_jobs = -1, scoring=scorer, cv=3, random_state=1)\n",
        "\n",
        "#Fitting parameters in RandomizedSearchCV\n",
        "randomized_cv.fit(X_train_over, y_train_over) ## Complete the code to fit the model on over sampled data\n",
        "\n",
        "print(\"Best parameters are {} with CV score={}:\" .format(randomized_cv.best_params_,randomized_cv.best_score_))"
      ]
    },
    {
      "cell_type": "code",
      "execution_count": 105,
      "metadata": {
        "id": "NSio3khJbp1C",
        "scrolled": true
      },
      "outputs": [
        {
          "data": {
            "text/html": [
              "<style>#sk-container-id-6 {color: black;background-color: white;}#sk-container-id-6 pre{padding: 0;}#sk-container-id-6 div.sk-toggleable {background-color: white;}#sk-container-id-6 label.sk-toggleable__label {cursor: pointer;display: block;width: 100%;margin-bottom: 0;padding: 0.3em;box-sizing: border-box;text-align: center;}#sk-container-id-6 label.sk-toggleable__label-arrow:before {content: \"▸\";float: left;margin-right: 0.25em;color: #696969;}#sk-container-id-6 label.sk-toggleable__label-arrow:hover:before {color: black;}#sk-container-id-6 div.sk-estimator:hover label.sk-toggleable__label-arrow:before {color: black;}#sk-container-id-6 div.sk-toggleable__content {max-height: 0;max-width: 0;overflow: hidden;text-align: left;background-color: #f0f8ff;}#sk-container-id-6 div.sk-toggleable__content pre {margin: 0.2em;color: black;border-radius: 0.25em;background-color: #f0f8ff;}#sk-container-id-6 input.sk-toggleable__control:checked~div.sk-toggleable__content {max-height: 200px;max-width: 100%;overflow: auto;}#sk-container-id-6 input.sk-toggleable__control:checked~label.sk-toggleable__label-arrow:before {content: \"▾\";}#sk-container-id-6 div.sk-estimator input.sk-toggleable__control:checked~label.sk-toggleable__label {background-color: #d4ebff;}#sk-container-id-6 div.sk-label input.sk-toggleable__control:checked~label.sk-toggleable__label {background-color: #d4ebff;}#sk-container-id-6 input.sk-hidden--visually {border: 0;clip: rect(1px 1px 1px 1px);clip: rect(1px, 1px, 1px, 1px);height: 1px;margin: -1px;overflow: hidden;padding: 0;position: absolute;width: 1px;}#sk-container-id-6 div.sk-estimator {font-family: monospace;background-color: #f0f8ff;border: 1px dotted black;border-radius: 0.25em;box-sizing: border-box;margin-bottom: 0.5em;}#sk-container-id-6 div.sk-estimator:hover {background-color: #d4ebff;}#sk-container-id-6 div.sk-parallel-item::after {content: \"\";width: 100%;border-bottom: 1px solid gray;flex-grow: 1;}#sk-container-id-6 div.sk-label:hover label.sk-toggleable__label {background-color: #d4ebff;}#sk-container-id-6 div.sk-serial::before {content: \"\";position: absolute;border-left: 1px solid gray;box-sizing: border-box;top: 0;bottom: 0;left: 50%;z-index: 0;}#sk-container-id-6 div.sk-serial {display: flex;flex-direction: column;align-items: center;background-color: white;padding-right: 0.2em;padding-left: 0.2em;position: relative;}#sk-container-id-6 div.sk-item {position: relative;z-index: 1;}#sk-container-id-6 div.sk-parallel {display: flex;align-items: stretch;justify-content: center;background-color: white;position: relative;}#sk-container-id-6 div.sk-item::before, #sk-container-id-6 div.sk-parallel-item::before {content: \"\";position: absolute;border-left: 1px solid gray;box-sizing: border-box;top: 0;bottom: 0;left: 50%;z-index: -1;}#sk-container-id-6 div.sk-parallel-item {display: flex;flex-direction: column;z-index: 1;position: relative;background-color: white;}#sk-container-id-6 div.sk-parallel-item:first-child::after {align-self: flex-end;width: 50%;}#sk-container-id-6 div.sk-parallel-item:last-child::after {align-self: flex-start;width: 50%;}#sk-container-id-6 div.sk-parallel-item:only-child::after {width: 0;}#sk-container-id-6 div.sk-dashed-wrapped {border: 1px dashed gray;margin: 0 0.4em 0.5em 0.4em;box-sizing: border-box;padding-bottom: 0.4em;background-color: white;}#sk-container-id-6 div.sk-label label {font-family: monospace;font-weight: bold;display: inline-block;line-height: 1.2em;}#sk-container-id-6 div.sk-label-container {text-align: center;}#sk-container-id-6 div.sk-container {/* jupyter's `normalize.less` sets `[hidden] { display: none; }` but bootstrap.min.css set `[hidden] { display: none !important; }` so we also need the `!important` here to be able to override the default hidden behavior on the sphinx rendered scikit-learn.org. See: https://github.com/scikit-learn/scikit-learn/issues/21755 */display: inline-block !important;position: relative;}#sk-container-id-6 div.sk-text-repr-fallback {display: none;}</style><div id=\"sk-container-id-6\" class=\"sk-top-container\"><div class=\"sk-text-repr-fallback\"><pre>XGBClassifier(base_score=0.5, booster=&#x27;gbtree&#x27;, callbacks=None,\n",
              "              colsample_bylevel=1, colsample_bynode=1, colsample_bytree=1,\n",
              "              early_stopping_rounds=None, enable_categorical=False,\n",
              "              eval_metric=&#x27;logloss&#x27;, gamma=5, gpu_id=-1,\n",
              "              grow_policy=&#x27;depthwise&#x27;, importance_type=None,\n",
              "              interaction_constraints=&#x27;&#x27;, learning_rate=0.1, max_bin=256,\n",
              "              max_cat_to_onehot=4, max_delta_step=0, max_depth=6, max_leaves=0,\n",
              "              min_child_weight=1, missing=nan, monotone_constraints=&#x27;()&#x27;,\n",
              "              n_estimators=250, n_jobs=0, num_parallel_tree=1, predictor=&#x27;auto&#x27;,\n",
              "              random_state=1, reg_alpha=0, reg_lambda=1, ...)</pre><b>In a Jupyter environment, please rerun this cell to show the HTML representation or trust the notebook. <br />On GitHub, the HTML representation is unable to render, please try loading this page with nbviewer.org.</b></div><div class=\"sk-container\" hidden><div class=\"sk-item\"><div class=\"sk-estimator sk-toggleable\"><input class=\"sk-toggleable__control sk-hidden--visually\" id=\"sk-estimator-id-8\" type=\"checkbox\" checked><label for=\"sk-estimator-id-8\" class=\"sk-toggleable__label sk-toggleable__label-arrow\">XGBClassifier</label><div class=\"sk-toggleable__content\"><pre>XGBClassifier(base_score=0.5, booster=&#x27;gbtree&#x27;, callbacks=None,\n",
              "              colsample_bylevel=1, colsample_bynode=1, colsample_bytree=1,\n",
              "              early_stopping_rounds=None, enable_categorical=False,\n",
              "              eval_metric=&#x27;logloss&#x27;, gamma=5, gpu_id=-1,\n",
              "              grow_policy=&#x27;depthwise&#x27;, importance_type=None,\n",
              "              interaction_constraints=&#x27;&#x27;, learning_rate=0.1, max_bin=256,\n",
              "              max_cat_to_onehot=4, max_delta_step=0, max_depth=6, max_leaves=0,\n",
              "              min_child_weight=1, missing=nan, monotone_constraints=&#x27;()&#x27;,\n",
              "              n_estimators=250, n_jobs=0, num_parallel_tree=1, predictor=&#x27;auto&#x27;,\n",
              "              random_state=1, reg_alpha=0, reg_lambda=1, ...)</pre></div></div></div></div></div>"
            ],
            "text/plain": [
              "XGBClassifier(base_score=0.5, booster='gbtree', callbacks=None,\n",
              "              colsample_bylevel=1, colsample_bynode=1, colsample_bytree=1,\n",
              "              early_stopping_rounds=None, enable_categorical=False,\n",
              "              eval_metric='logloss', gamma=5, gpu_id=-1,\n",
              "              grow_policy='depthwise', importance_type=None,\n",
              "              interaction_constraints='', learning_rate=0.1, max_bin=256,\n",
              "              max_cat_to_onehot=4, max_delta_step=0, max_depth=6, max_leaves=0,\n",
              "              min_child_weight=1, missing=nan, monotone_constraints='()',\n",
              "              n_estimators=250, n_jobs=0, num_parallel_tree=1, predictor='auto',\n",
              "              random_state=1, reg_alpha=0, reg_lambda=1, ...)"
            ]
          },
          "execution_count": 105,
          "metadata": {},
          "output_type": "execute_result"
        },
        {
          "data": {
            "application/javascript": "\n            setTimeout(function() {\n                var nbb_cell_id = 105;\n                var nbb_unformatted_code = \"xgb2 = XGBClassifier(\\n    random_state=1,\\n    eval_metric=\\\"logloss\\\",\\n    subsample=0.8,\\n    scale_pos_weight=10,\\n    n_estimators=250,\\n    learning_rate=0.1,\\n    gamma=5,\\n)## Complete the code with the best parameters obtained from tuning\\n\\nxgb2.fit(X_train_over, y_train_over) ## Complete the code to fit the model on over sampled data\";\n                var nbb_formatted_code = \"xgb2 = XGBClassifier(\\n    random_state=1,\\n    eval_metric=\\\"logloss\\\",\\n    subsample=0.8,\\n    scale_pos_weight=10,\\n    n_estimators=250,\\n    learning_rate=0.1,\\n    gamma=5,\\n)  ## Complete the code with the best parameters obtained from tuning\\n\\nxgb2.fit(\\n    X_train_over, y_train_over\\n)  ## Complete the code to fit the model on over sampled data\";\n                var nbb_cells = Jupyter.notebook.get_cells();\n                for (var i = 0; i < nbb_cells.length; ++i) {\n                    if (nbb_cells[i].input_prompt_number == nbb_cell_id) {\n                        if (nbb_cells[i].get_text() == nbb_unformatted_code) {\n                             nbb_cells[i].set_text(nbb_formatted_code);\n                        }\n                        break;\n                    }\n                }\n            }, 500);\n            ",
            "text/plain": [
              "<IPython.core.display.Javascript object>"
            ]
          },
          "metadata": {},
          "output_type": "display_data"
        }
      ],
      "source": [
        "xgb2 = XGBClassifier(\n",
        "    random_state=1,\n",
        "    eval_metric=\"logloss\",\n",
        "    subsample=0.8,\n",
        "    scale_pos_weight=10,\n",
        "    n_estimators=250,\n",
        "    learning_rate=0.1,\n",
        "    gamma=5,\n",
        ")## Complete the code with the best parameters obtained from tuning\n",
        "\n",
        "xgb2.fit(X_train_over, y_train_over) ## Complete the code to fit the model on over sampled data"
      ]
    },
    {
      "cell_type": "code",
      "execution_count": 107,
      "metadata": {
        "id": "hDzHR8Pwbp1D"
      },
      "outputs": [
        {
          "data": {
            "text/html": [
              "<div>\n",
              "<style scoped>\n",
              "    .dataframe tbody tr th:only-of-type {\n",
              "        vertical-align: middle;\n",
              "    }\n",
              "\n",
              "    .dataframe tbody tr th {\n",
              "        vertical-align: top;\n",
              "    }\n",
              "\n",
              "    .dataframe thead th {\n",
              "        text-align: right;\n",
              "    }\n",
              "</style>\n",
              "<table border=\"1\" class=\"dataframe\">\n",
              "  <thead>\n",
              "    <tr style=\"text-align: right;\">\n",
              "      <th></th>\n",
              "      <th>Accuracy</th>\n",
              "      <th>Recall</th>\n",
              "      <th>Precision</th>\n",
              "      <th>F1</th>\n",
              "    </tr>\n",
              "  </thead>\n",
              "  <tbody>\n",
              "    <tr>\n",
              "      <th>0</th>\n",
              "      <td>0.998</td>\n",
              "      <td>1.000</td>\n",
              "      <td>0.996</td>\n",
              "      <td>0.998</td>\n",
              "    </tr>\n",
              "  </tbody>\n",
              "</table>\n",
              "</div>"
            ],
            "text/plain": [
              "   Accuracy  Recall  Precision    F1\n",
              "0     0.998   1.000      0.996 0.998"
            ]
          },
          "execution_count": 107,
          "metadata": {},
          "output_type": "execute_result"
        },
        {
          "data": {
            "application/javascript": "\n            setTimeout(function() {\n                var nbb_cell_id = 107;\n                var nbb_unformatted_code = \"xgb2_train_perf =  model_performance_classification_sklearn(\\n    xgb2,X_train_over, y_train_over) ## Complete the code to check the performance on oversampled train set\\nxgb2_train_perf\";\n                var nbb_formatted_code = \"xgb2_train_perf = model_performance_classification_sklearn(\\n    xgb2, X_train_over, y_train_over\\n)  ## Complete the code to check the performance on oversampled train set\\nxgb2_train_perf\";\n                var nbb_cells = Jupyter.notebook.get_cells();\n                for (var i = 0; i < nbb_cells.length; ++i) {\n                    if (nbb_cells[i].input_prompt_number == nbb_cell_id) {\n                        if (nbb_cells[i].get_text() == nbb_unformatted_code) {\n                             nbb_cells[i].set_text(nbb_formatted_code);\n                        }\n                        break;\n                    }\n                }\n            }, 500);\n            ",
            "text/plain": [
              "<IPython.core.display.Javascript object>"
            ]
          },
          "metadata": {},
          "output_type": "display_data"
        }
      ],
      "source": [
        "xgb2_train_perf =  model_performance_classification_sklearn(\n",
        "    xgb2,X_train_over, y_train_over) ## Complete the code to check the performance on oversampled train set\n",
        "xgb2_train_perf"
      ]
    },
    {
      "cell_type": "code",
      "execution_count": 110,
      "metadata": {
        "id": "jiDRsOrMbp1D",
        "scrolled": false
      },
      "outputs": [
        {
          "data": {
            "text/html": [
              "<div>\n",
              "<style scoped>\n",
              "    .dataframe tbody tr th:only-of-type {\n",
              "        vertical-align: middle;\n",
              "    }\n",
              "\n",
              "    .dataframe tbody tr th {\n",
              "        vertical-align: top;\n",
              "    }\n",
              "\n",
              "    .dataframe thead th {\n",
              "        text-align: right;\n",
              "    }\n",
              "</style>\n",
              "<table border=\"1\" class=\"dataframe\">\n",
              "  <thead>\n",
              "    <tr style=\"text-align: right;\">\n",
              "      <th></th>\n",
              "      <th>Accuracy</th>\n",
              "      <th>Recall</th>\n",
              "      <th>Precision</th>\n",
              "      <th>F1</th>\n",
              "    </tr>\n",
              "  </thead>\n",
              "  <tbody>\n",
              "    <tr>\n",
              "      <th>0</th>\n",
              "      <td>0.974</td>\n",
              "      <td>0.899</td>\n",
              "      <td>0.709</td>\n",
              "      <td>0.793</td>\n",
              "    </tr>\n",
              "  </tbody>\n",
              "</table>\n",
              "</div>"
            ],
            "text/plain": [
              "   Accuracy  Recall  Precision    F1\n",
              "0     0.974   0.899      0.709 0.793"
            ]
          },
          "execution_count": 110,
          "metadata": {},
          "output_type": "execute_result"
        },
        {
          "data": {
            "application/javascript": "\n            setTimeout(function() {\n                var nbb_cell_id = 110;\n                var nbb_unformatted_code = \"xgb2_val_perf = model_performance_classification_sklearn(\\n    xgb2,X_val, y_val)  ## Complete the code to check the performance on validation set\\nxgb2_val_perf\";\n                var nbb_formatted_code = \"xgb2_val_perf = model_performance_classification_sklearn(\\n    xgb2, X_val, y_val\\n)  ## Complete the code to check the performance on validation set\\nxgb2_val_perf\";\n                var nbb_cells = Jupyter.notebook.get_cells();\n                for (var i = 0; i < nbb_cells.length; ++i) {\n                    if (nbb_cells[i].input_prompt_number == nbb_cell_id) {\n                        if (nbb_cells[i].get_text() == nbb_unformatted_code) {\n                             nbb_cells[i].set_text(nbb_formatted_code);\n                        }\n                        break;\n                    }\n                }\n            }, 500);\n            ",
            "text/plain": [
              "<IPython.core.display.Javascript object>"
            ]
          },
          "metadata": {},
          "output_type": "display_data"
        }
      ],
      "source": [
        "xgb2_val_perf = model_performance_classification_sklearn(\n",
        "    xgb2,X_val, y_val)  ## Complete the code to check the performance on validation set\n",
        "xgb2_val_perf"
      ]
    },
    {
      "cell_type": "markdown",
      "metadata": {
        "id": "uJsiURQL4eBn"
      },
      "source": [
        "**We have now tuned all the models, let's compare the performance of all tuned models and see which one is the best.**"
      ]
    },
    {
      "cell_type": "markdown",
      "metadata": {
        "id": "f9Yra0TCbp1E"
      },
      "source": [
        "## Model Performance comparison"
      ]
    },
    {
      "cell_type": "code",
      "execution_count": 102,
      "metadata": {
        "id": "TF1WfZZHbp1E"
      },
      "outputs": [
        {
          "name": "stdout",
          "output_type": "stream",
          "text": [
            "Training performance comparison:\n"
          ]
        },
        {
          "data": {
            "text/html": [
              "<div>\n",
              "<style scoped>\n",
              "    .dataframe tbody tr th:only-of-type {\n",
              "        vertical-align: middle;\n",
              "    }\n",
              "\n",
              "    .dataframe tbody tr th {\n",
              "        vertical-align: top;\n",
              "    }\n",
              "\n",
              "    .dataframe thead th {\n",
              "        text-align: right;\n",
              "    }\n",
              "</style>\n",
              "<table border=\"1\" class=\"dataframe\">\n",
              "  <thead>\n",
              "    <tr style=\"text-align: right;\">\n",
              "      <th></th>\n",
              "      <th>Accuracy</th>\n",
              "      <th>Recall</th>\n",
              "      <th>Precision</th>\n",
              "      <th>F1</th>\n",
              "    </tr>\n",
              "  </thead>\n",
              "  <tbody>\n",
              "    <tr>\n",
              "      <th>Gradient Boosting tuned with oversampled data</th>\n",
              "      <td>0.981</td>\n",
              "      <td>0.978</td>\n",
              "      <td>0.983</td>\n",
              "      <td>0.981</td>\n",
              "    </tr>\n",
              "    <tr>\n",
              "      <th>AdaBoost classifier tuned with oversampled data</th>\n",
              "      <td>0.992</td>\n",
              "      <td>0.989</td>\n",
              "      <td>0.996</td>\n",
              "      <td>0.992</td>\n",
              "    </tr>\n",
              "    <tr>\n",
              "      <th>Random forest tuned with undersampled data</th>\n",
              "      <td>0.967</td>\n",
              "      <td>0.935</td>\n",
              "      <td>0.999</td>\n",
              "      <td>0.966</td>\n",
              "    </tr>\n",
              "    <tr>\n",
              "      <th>XGBoost tuned with oversampled data</th>\n",
              "      <td>0.998</td>\n",
              "      <td>1.000</td>\n",
              "      <td>0.996</td>\n",
              "      <td>0.998</td>\n",
              "    </tr>\n",
              "  </tbody>\n",
              "</table>\n",
              "</div>"
            ],
            "text/plain": [
              "                                                 Accuracy  Recall  Precision  \\\n",
              "Gradient Boosting tuned with oversampled data       0.981   0.978      0.983   \n",
              "AdaBoost classifier tuned with oversampled data     0.992   0.989      0.996   \n",
              "Random forest tuned with undersampled data          0.967   0.935      0.999   \n",
              "XGBoost tuned with oversampled data                 0.998   1.000      0.996   \n",
              "\n",
              "                                                   F1  \n",
              "Gradient Boosting tuned with oversampled data   0.981  \n",
              "AdaBoost classifier tuned with oversampled data 0.992  \n",
              "Random forest tuned with undersampled data      0.966  \n",
              "XGBoost tuned with oversampled data             0.998  "
            ]
          },
          "execution_count": 102,
          "metadata": {},
          "output_type": "execute_result"
        },
        {
          "data": {
            "application/javascript": "\n            setTimeout(function() {\n                var nbb_cell_id = 102;\n                var nbb_unformatted_code = \"# training performance comparison\\n\\nmodels_train_comp_df = pd.concat(\\n    [\\n        gbm_train_perf.T,\\n        ada_train_perf.T,\\n        rf2_train_perf.T,\\n       xgb2_train_perf.T,\\n    ],\\n    axis=1,\\n)\\nmodels_train_comp_df.columns = [\\n    \\\"Gradient Boosting tuned with oversampled data\\\",\\n    \\\"AdaBoost classifier tuned with oversampled data\\\",\\n    \\\"Random forest tuned with undersampled data\\\",\\n    \\\"XGBoost tuned with oversampled data\\\",\\n]\\nprint(\\\"Training performance comparison:\\\")\\nmodels_train_comp_df.T\";\n                var nbb_formatted_code = \"# training performance comparison\\n\\nmodels_train_comp_df = pd.concat(\\n    [\\n        gbm_train_perf.T,\\n        ada_train_perf.T,\\n        rf2_train_perf.T,\\n        xgb2_train_perf.T,\\n    ],\\n    axis=1,\\n)\\nmodels_train_comp_df.columns = [\\n    \\\"Gradient Boosting tuned with oversampled data\\\",\\n    \\\"AdaBoost classifier tuned with oversampled data\\\",\\n    \\\"Random forest tuned with undersampled data\\\",\\n    \\\"XGBoost tuned with oversampled data\\\",\\n]\\nprint(\\\"Training performance comparison:\\\")\\nmodels_train_comp_df.T\";\n                var nbb_cells = Jupyter.notebook.get_cells();\n                for (var i = 0; i < nbb_cells.length; ++i) {\n                    if (nbb_cells[i].input_prompt_number == nbb_cell_id) {\n                        if (nbb_cells[i].get_text() == nbb_unformatted_code) {\n                             nbb_cells[i].set_text(nbb_formatted_code);\n                        }\n                        break;\n                    }\n                }\n            }, 500);\n            ",
            "text/plain": [
              "<IPython.core.display.Javascript object>"
            ]
          },
          "metadata": {},
          "output_type": "display_data"
        }
      ],
      "source": [
        "# training performance comparison\n",
        "\n",
        "models_train_comp_df = pd.concat(\n",
        "    [\n",
        "        gbm_train_perf.T,\n",
        "        ada_train_perf.T,\n",
        "        rf2_train_perf.T,\n",
        "       xgb2_train_perf.T,\n",
        "    ],\n",
        "    axis=1,\n",
        ")\n",
        "models_train_comp_df.columns = [\n",
        "    \"Gradient Boosting tuned with oversampled data\",\n",
        "    \"AdaBoost classifier tuned with oversampled data\",\n",
        "    \"Random forest tuned with undersampled data\",\n",
        "    \"XGBoost tuned with oversampled data\",\n",
        "]\n",
        "print(\"Training performance comparison:\")\n",
        "models_train_comp_df.T"
      ]
    },
    {
      "cell_type": "code",
      "execution_count": 103,
      "metadata": {
        "id": "0FgTXpsXbp1F"
      },
      "outputs": [
        {
          "name": "stdout",
          "output_type": "stream",
          "text": [
            "Training performance comparison:\n"
          ]
        },
        {
          "data": {
            "text/html": [
              "<div>\n",
              "<style scoped>\n",
              "    .dataframe tbody tr th:only-of-type {\n",
              "        vertical-align: middle;\n",
              "    }\n",
              "\n",
              "    .dataframe tbody tr th {\n",
              "        vertical-align: top;\n",
              "    }\n",
              "\n",
              "    .dataframe thead th {\n",
              "        text-align: right;\n",
              "    }\n",
              "</style>\n",
              "<table border=\"1\" class=\"dataframe\">\n",
              "  <thead>\n",
              "    <tr style=\"text-align: right;\">\n",
              "      <th></th>\n",
              "      <th>Accuracy</th>\n",
              "      <th>Recall</th>\n",
              "      <th>Precision</th>\n",
              "      <th>F1</th>\n",
              "    </tr>\n",
              "  </thead>\n",
              "  <tbody>\n",
              "    <tr>\n",
              "      <th>Gradient Boosting tuned with oversampled data</th>\n",
              "      <td>0.957</td>\n",
              "      <td>0.856</td>\n",
              "      <td>0.578</td>\n",
              "      <td>0.690</td>\n",
              "    </tr>\n",
              "    <tr>\n",
              "      <th>AdaBoost classifier tuned with oversampled data</th>\n",
              "      <td>0.979</td>\n",
              "      <td>0.866</td>\n",
              "      <td>0.777</td>\n",
              "      <td>0.819</td>\n",
              "    </tr>\n",
              "    <tr>\n",
              "      <th>Random forest tuned with undersampled data</th>\n",
              "      <td>0.942</td>\n",
              "      <td>0.899</td>\n",
              "      <td>0.488</td>\n",
              "      <td>0.633</td>\n",
              "    </tr>\n",
              "    <tr>\n",
              "      <th>XGBoost tuned with oversampled data</th>\n",
              "      <td>0.974</td>\n",
              "      <td>0.899</td>\n",
              "      <td>0.709</td>\n",
              "      <td>0.793</td>\n",
              "    </tr>\n",
              "  </tbody>\n",
              "</table>\n",
              "</div>"
            ],
            "text/plain": [
              "                                                 Accuracy  Recall  Precision  \\\n",
              "Gradient Boosting tuned with oversampled data       0.957   0.856      0.578   \n",
              "AdaBoost classifier tuned with oversampled data     0.979   0.866      0.777   \n",
              "Random forest tuned with undersampled data          0.942   0.899      0.488   \n",
              "XGBoost tuned with oversampled data                 0.974   0.899      0.709   \n",
              "\n",
              "                                                   F1  \n",
              "Gradient Boosting tuned with oversampled data   0.690  \n",
              "AdaBoost classifier tuned with oversampled data 0.819  \n",
              "Random forest tuned with undersampled data      0.633  \n",
              "XGBoost tuned with oversampled data             0.793  "
            ]
          },
          "execution_count": 103,
          "metadata": {},
          "output_type": "execute_result"
        },
        {
          "data": {
            "application/javascript": "\n            setTimeout(function() {\n                var nbb_cell_id = 103;\n                var nbb_unformatted_code = \"# validation performance comparison\\n\\nmodels_val_comp_df = pd.concat(\\n    [\\n        gbm_val_perf.T,\\n        ada_val_perf.T,\\n        rf2_val_perf.T,\\n       xgb2_val_perf.T,\\n    ],\\n    axis=1,\\n)\\nmodels_val_comp_df.columns = [\\n    \\\"Gradient Boosting tuned with oversampled data\\\",\\n    \\\"AdaBoost classifier tuned with oversampled data\\\",\\n    \\\"Random forest tuned with undersampled data\\\",\\n    \\\"XGBoost tuned with oversampled data\\\",\\n]\\nprint(\\\"Training performance comparison:\\\")\\nmodels_val_comp_df.T\\n\\n## Write the code to compare the performance on validation set\";\n                var nbb_formatted_code = \"# validation performance comparison\\n\\nmodels_val_comp_df = pd.concat(\\n    [\\n        gbm_val_perf.T,\\n        ada_val_perf.T,\\n        rf2_val_perf.T,\\n        xgb2_val_perf.T,\\n    ],\\n    axis=1,\\n)\\nmodels_val_comp_df.columns = [\\n    \\\"Gradient Boosting tuned with oversampled data\\\",\\n    \\\"AdaBoost classifier tuned with oversampled data\\\",\\n    \\\"Random forest tuned with undersampled data\\\",\\n    \\\"XGBoost tuned with oversampled data\\\",\\n]\\nprint(\\\"Training performance comparison:\\\")\\nmodels_val_comp_df.T\\n\\n## Write the code to compare the performance on validation set\";\n                var nbb_cells = Jupyter.notebook.get_cells();\n                for (var i = 0; i < nbb_cells.length; ++i) {\n                    if (nbb_cells[i].input_prompt_number == nbb_cell_id) {\n                        if (nbb_cells[i].get_text() == nbb_unformatted_code) {\n                             nbb_cells[i].set_text(nbb_formatted_code);\n                        }\n                        break;\n                    }\n                }\n            }, 500);\n            ",
            "text/plain": [
              "<IPython.core.display.Javascript object>"
            ]
          },
          "metadata": {},
          "output_type": "display_data"
        }
      ],
      "source": [
        "# validation performance comparison\n",
        "\n",
        "models_val_comp_df = pd.concat(\n",
        "    [\n",
        "        gbm_val_perf.T,\n",
        "        ada_val_perf.T,\n",
        "        rf2_val_perf.T,\n",
        "       xgb2_val_perf.T,\n",
        "    ],\n",
        "    axis=1,\n",
        ")\n",
        "models_val_comp_df.columns = [\n",
        "    \"Gradient Boosting tuned with oversampled data\",\n",
        "    \"AdaBoost classifier tuned with oversampled data\",\n",
        "    \"Random forest tuned with undersampled data\",\n",
        "    \"XGBoost tuned with oversampled data\",\n",
        "]\n",
        "print(\"Training performance comparison:\")\n",
        "models_val_comp_df.T\n",
        "\n",
        "## Write the code to compare the performance on validation set"
      ]
    },
    {
      "cell_type": "markdown",
      "metadata": {
        "id": "PYS5m_mcbp1F"
      },
      "source": [
        "**Now we have our final model, so let's find out how our final model is performing on unseen test data.**"
      ]
    },
    {
      "cell_type": "code",
      "execution_count": 116,
      "metadata": {
        "id": "rqgvz7e7bp1F"
      },
      "outputs": [
        {
          "data": {
            "text/html": [
              "<div>\n",
              "<style scoped>\n",
              "    .dataframe tbody tr th:only-of-type {\n",
              "        vertical-align: middle;\n",
              "    }\n",
              "\n",
              "    .dataframe tbody tr th {\n",
              "        vertical-align: top;\n",
              "    }\n",
              "\n",
              "    .dataframe thead th {\n",
              "        text-align: right;\n",
              "    }\n",
              "</style>\n",
              "<table border=\"1\" class=\"dataframe\">\n",
              "  <thead>\n",
              "    <tr style=\"text-align: right;\">\n",
              "      <th></th>\n",
              "      <th>Accuracy</th>\n",
              "      <th>Recall</th>\n",
              "      <th>Precision</th>\n",
              "      <th>F1</th>\n",
              "    </tr>\n",
              "  </thead>\n",
              "  <tbody>\n",
              "    <tr>\n",
              "      <th>0</th>\n",
              "      <td>0.943</td>\n",
              "      <td>0.869</td>\n",
              "      <td>0.498</td>\n",
              "      <td>0.633</td>\n",
              "    </tr>\n",
              "  </tbody>\n",
              "</table>\n",
              "</div>"
            ],
            "text/plain": [
              "   Accuracy  Recall  Precision    F1\n",
              "0     0.943   0.869      0.498 0.633"
            ]
          },
          "execution_count": 116,
          "metadata": {},
          "output_type": "execute_result"
        },
        {
          "data": {
            "application/javascript": "\n            setTimeout(function() {\n                var nbb_cell_id = 116;\n                var nbb_unformatted_code = \"# Let's check the performance on test set\\nbest_model = model_performance_classification_sklearn(\\n    tuned_rf2,X_test, y_test) \\nbest_model\\n## Write the code to check the performance of best model on test data\";\n                var nbb_formatted_code = \"# Let's check the performance on test set\\nbest_model = model_performance_classification_sklearn(tuned_rf2, X_test, y_test)\\nbest_model\\n## Write the code to check the performance of best model on test data\";\n                var nbb_cells = Jupyter.notebook.get_cells();\n                for (var i = 0; i < nbb_cells.length; ++i) {\n                    if (nbb_cells[i].input_prompt_number == nbb_cell_id) {\n                        if (nbb_cells[i].get_text() == nbb_unformatted_code) {\n                             nbb_cells[i].set_text(nbb_formatted_code);\n                        }\n                        break;\n                    }\n                }\n            }, 500);\n            ",
            "text/plain": [
              "<IPython.core.display.Javascript object>"
            ]
          },
          "metadata": {},
          "output_type": "display_data"
        }
      ],
      "source": [
        "# Let's check the performance on test set\n",
        "best_model = model_performance_classification_sklearn(\n",
        "    tuned_rf2,X_test, y_test) \n",
        "best_model\n",
        "## Write the code to check the performance of best model on test data"
      ]
    },
    {
      "cell_type": "markdown",
      "metadata": {
        "id": "J49s-TEB41JQ"
      },
      "source": [
        "### Feature Importances"
      ]
    },
    {
      "cell_type": "code",
      "execution_count": 187,
      "metadata": {
        "id": "7Zk2dFRzbp1F"
      },
      "outputs": [
        {
          "data": {
            "image/png": "[encoded data removed]",
            "text/plain": [
              "<Figure size 576x864 with 1 Axes>"
            ]
          },
          "metadata": {
            "needs_background": "light"
          },
          "output_type": "display_data"
        },
        {
          "data": {
            "application/javascript": "\n            setTimeout(function() {\n                var nbb_cell_id = 187;\n                var nbb_unformatted_code = \"feature_names = X_train.columns\\nimportances =  tuned_rf2.feature_importances_## Complete the code to check the feature importance of the best model\\nindices = np.argsort(importances)\\n\\nplt.figure(figsize=(8, 12))\\nplt.title(\\\"Feature Importances\\\")\\n\\n\\nplt.barh(range(len(indices)), importances[indices], color='red', align=\\\"center\\\")\\n\\nplt.yticks(range(len(indices)), [feature_names[i] for i in indices])\\nplt.xlabel(\\\"Relative Importance\\\")\\nplt.tight_layout()\\nplt.savefig('features.png',ppi=200)\";\n                var nbb_formatted_code = \"feature_names = X_train.columns\\nimportances = (\\n    tuned_rf2.feature_importances_\\n)  ## Complete the code to check the feature importance of the best model\\nindices = np.argsort(importances)\\n\\nplt.figure(figsize=(8, 12))\\nplt.title(\\\"Feature Importances\\\")\\n\\n\\nplt.barh(range(len(indices)), importances[indices], color=\\\"red\\\", align=\\\"center\\\")\\n\\nplt.yticks(range(len(indices)), [feature_names[i] for i in indices])\\nplt.xlabel(\\\"Relative Importance\\\")\\nplt.tight_layout()\\nplt.savefig(\\\"features.png\\\", ppi=200)\";\n                var nbb_cells = Jupyter.notebook.get_cells();\n                for (var i = 0; i < nbb_cells.length; ++i) {\n                    if (nbb_cells[i].input_prompt_number == nbb_cell_id) {\n                        if (nbb_cells[i].get_text() == nbb_unformatted_code) {\n                             nbb_cells[i].set_text(nbb_formatted_code);\n                        }\n                        break;\n                    }\n                }\n            }, 500);\n            ",
            "text/plain": [
              "<IPython.core.display.Javascript object>"
            ]
          },
          "metadata": {},
          "output_type": "display_data"
        }
      ],
      "source": [
        "feature_names = X_train.columns\n",
        "importances =  tuned_rf2.feature_importances_## Complete the code to check the feature importance of the best model\n",
        "indices = np.argsort(importances)\n",
        "\n",
        "plt.figure(figsize=(8, 12))\n",
        "plt.title(\"Feature Importances\")\n",
        "\n",
        "\n",
        "plt.barh(range(len(indices)), importances[indices], color='red', align=\"center\")\n",
        "\n",
        "plt.yticks(range(len(indices)), [feature_names[i] for i in indices])\n",
        "plt.xlabel(\"Relative Importance\")\n",
        "plt.tight_layout()\n",
        "plt.savefig('features.png',ppi=200)\n"
      ]
    },
    {
      "cell_type": "code",
      "execution_count": 313,
      "metadata": {},
      "outputs": [
        {
          "data": {
            "application/javascript": "\n            setTimeout(function() {\n                var nbb_cell_id = 313;\n                var nbb_unformatted_code = \"blue=data[data['Target']==0].mean()#.plot.line(color='blue')\\nred=data[data['Target']==1].mean()#.plot.line(color='red')\\n#pd.DataFrame([blue,red],index=['blue','red'])\";\n                var nbb_formatted_code = \"blue = data[data[\\\"Target\\\"] == 0].mean()  # .plot.line(color='blue')\\nred = data[data[\\\"Target\\\"] == 1].mean()  # .plot.line(color='red')\\n# pd.DataFrame([blue,red],index=['blue','red'])\";\n                var nbb_cells = Jupyter.notebook.get_cells();\n                for (var i = 0; i < nbb_cells.length; ++i) {\n                    if (nbb_cells[i].input_prompt_number == nbb_cell_id) {\n                        if (nbb_cells[i].get_text() == nbb_unformatted_code) {\n                             nbb_cells[i].set_text(nbb_formatted_code);\n                        }\n                        break;\n                    }\n                }\n            }, 500);\n            ",
            "text/plain": [
              "<IPython.core.display.Javascript object>"
            ]
          },
          "metadata": {},
          "output_type": "display_data"
        }
      ],
      "source": [
        "blue=data[data['Target']==0].mean()#.plot.line(color='blue')\n",
        "red=data[data['Target']==1].mean()#.plot.line(color='red')\n",
        "#pd.DataFrame([blue,red],index=['blue','red'])"
      ]
    },
    {
      "cell_type": "code",
      "execution_count": null,
      "metadata": {},
      "outputs": [],
      "source": [
        "data[data['Target']==0].mean().plot.line(color='blue',figsize=(12,8))\n",
        "data[data['Target']==1].mean().plot.line(color='red',figsize=(12,8))"
      ]
    },
    {
      "cell_type": "markdown",
      "metadata": {
        "id": "gohwGn0tbp1L"
      },
      "source": [
        "## Let's use Pipelines to build the final model"
      ]
    },
    {
      "cell_type": "markdown",
      "metadata": {
        "id": "euQoHofA5JBx"
      },
      "source": [
        "- Since we have only one datatype in the data, we don't need to use column transformer here"
      ]
    },
    {
      "cell_type": "code",
      "execution_count": 165,
      "metadata": {
        "id": "xTB5oErrbp1L"
      },
      "outputs": [
        {
          "data": {
            "application/javascript": "\n            setTimeout(function() {\n                var nbb_cell_id = 165;\n                var nbb_unformatted_code = \"Model = Pipeline([('imputer',SimpleImputer(strategy=\\\"median\\\")),('RadomForest',RandomForestClassifier(\\n    max_features='sqrt',\\n    random_state=1,\\n    max_samples=0.6,\\n    n_estimators=200,\\n    min_samples_leaf=2,\\n))] ) ## Complete the code to create pipeline for the best model\";\n                var nbb_formatted_code = \"Model = Pipeline(\\n    [\\n        (\\\"imputer\\\", SimpleImputer(strategy=\\\"median\\\")),\\n        (\\n            \\\"RadomForest\\\",\\n            RandomForestClassifier(\\n                max_features=\\\"sqrt\\\",\\n                random_state=1,\\n                max_samples=0.6,\\n                n_estimators=200,\\n                min_samples_leaf=2,\\n            ),\\n        ),\\n    ]\\n)  ## Complete the code to create pipeline for the best model\";\n                var nbb_cells = Jupyter.notebook.get_cells();\n                for (var i = 0; i < nbb_cells.length; ++i) {\n                    if (nbb_cells[i].input_prompt_number == nbb_cell_id) {\n                        if (nbb_cells[i].get_text() == nbb_unformatted_code) {\n                             nbb_cells[i].set_text(nbb_formatted_code);\n                        }\n                        break;\n                    }\n                }\n            }, 500);\n            ",
            "text/plain": [
              "<IPython.core.display.Javascript object>"
            ]
          },
          "metadata": {},
          "output_type": "display_data"
        }
      ],
      "source": [
        "Model = Pipeline([('imputer',SimpleImputer(strategy=\"median\")),\n",
        "                  ('RadomForest',RandomForestClassifier(\n",
        "    max_features='sqrt',\n",
        "    random_state=1,\n",
        "    max_samples=0.6,\n",
        "    n_estimators=200,\n",
        "    min_samples_leaf=2,\n",
        "))\n",
        "                  \n",
        "                  ] ) ## Complete the code to create pipeline for the best model"
      ]
    },
    {
      "cell_type": "code",
      "execution_count": 166,
      "metadata": {
        "id": "KVhk_Ga4bp1L"
      },
      "outputs": [
        {
          "data": {
            "application/javascript": "\n            setTimeout(function() {\n                var nbb_cell_id = 166;\n                var nbb_unformatted_code = \"# Separating target variable and other variables\\nX1 = data.drop(columns=\\\"Target\\\")\\nY1 = data[\\\"Target\\\"]\\n\\n# Since we already have a separate test set, we don't need to divide data into train and test\\n\\nX_test1 = df_test.drop(columns=\\\"Target\\\")##  Complete the code to drop target variable from test data\\ny_test1 = df_test[\\\"Target\\\"] ##  Complete the code to store target variable in y_test1\";\n                var nbb_formatted_code = \"# Separating target variable and other variables\\nX1 = data.drop(columns=\\\"Target\\\")\\nY1 = data[\\\"Target\\\"]\\n\\n# Since we already have a separate test set, we don't need to divide data into train and test\\n\\nX_test1 = df_test.drop(\\n    columns=\\\"Target\\\"\\n)  ##  Complete the code to drop target variable from test data\\ny_test1 = df_test[\\\"Target\\\"]  ##  Complete the code to store target variable in y_test1\";\n                var nbb_cells = Jupyter.notebook.get_cells();\n                for (var i = 0; i < nbb_cells.length; ++i) {\n                    if (nbb_cells[i].input_prompt_number == nbb_cell_id) {\n                        if (nbb_cells[i].get_text() == nbb_unformatted_code) {\n                             nbb_cells[i].set_text(nbb_formatted_code);\n                        }\n                        break;\n                    }\n                }\n            }, 500);\n            ",
            "text/plain": [
              "<IPython.core.display.Javascript object>"
            ]
          },
          "metadata": {},
          "output_type": "display_data"
        }
      ],
      "source": [
        "# Separating target variable and other variables\n",
        "X1 = data.drop(columns=\"Target\")\n",
        "Y1 = data[\"Target\"]\n",
        "\n",
        "# Since we already have a separate test set, we don't need to divide data into train and test\n",
        "\n",
        "X_test1 = df_test.drop(columns=\"Target\")##  Complete the code to drop target variable from test data\n",
        "y_test1 = df_test[\"Target\"] ##  Complete the code to store target variable in y_test1\n"
      ]
    },
    {
      "cell_type": "code",
      "execution_count": 167,
      "metadata": {
        "id": "esCUwy3ibp1L"
      },
      "outputs": [
        {
          "data": {
            "application/javascript": "\n            setTimeout(function() {\n                var nbb_cell_id = 167;\n                var nbb_unformatted_code = \"# We can't oversample data without doing missing value treatment, so let's first treat the missing values in the train set\\nimputer = SimpleImputer(strategy=\\\"median\\\")\\nX1 = imputer.fit_transform(X1)\\n\\n\\n# We don't need to impute missing values in test set as it will be done inside pipeline\";\n                var nbb_formatted_code = \"# We can't oversample data without doing missing value treatment, so let's first treat the missing values in the train set\\nimputer = SimpleImputer(strategy=\\\"median\\\")\\nX1 = imputer.fit_transform(X1)\\n\\n\\n# We don't need to impute missing values in test set as it will be done inside pipeline\";\n                var nbb_cells = Jupyter.notebook.get_cells();\n                for (var i = 0; i < nbb_cells.length; ++i) {\n                    if (nbb_cells[i].input_prompt_number == nbb_cell_id) {\n                        if (nbb_cells[i].get_text() == nbb_unformatted_code) {\n                             nbb_cells[i].set_text(nbb_formatted_code);\n                        }\n                        break;\n                    }\n                }\n            }, 500);\n            ",
            "text/plain": [
              "<IPython.core.display.Javascript object>"
            ]
          },
          "metadata": {},
          "output_type": "display_data"
        }
      ],
      "source": [
        "# We can't oversample data without doing missing value treatment, so let's first treat the missing values in the train set\n",
        "imputer = SimpleImputer(strategy=\"median\")\n",
        "X1 = imputer.fit_transform(X1)\n",
        "\n",
        "\n",
        "# We don't need to impute missing values in test set as it will be done inside pipeline"
      ]
    },
    {
      "cell_type": "code",
      "execution_count": 168,
      "metadata": {
        "id": "wRhGqGEqbp1M"
      },
      "outputs": [
        {
          "data": {
            "application/javascript": "\n            setTimeout(function() {\n                var nbb_cell_id = 168;\n                var nbb_unformatted_code = \"# Synthetic Minority Over Sampling Technique\\nsm = SMOTE(sampling_strategy=1, k_neighbors=5, random_state=1)\\nX_over1, y_over1 = sm.fit_resample(X1, Y1)\";\n                var nbb_formatted_code = \"# Synthetic Minority Over Sampling Technique\\nsm = SMOTE(sampling_strategy=1, k_neighbors=5, random_state=1)\\nX_over1, y_over1 = sm.fit_resample(X1, Y1)\";\n                var nbb_cells = Jupyter.notebook.get_cells();\n                for (var i = 0; i < nbb_cells.length; ++i) {\n                    if (nbb_cells[i].input_prompt_number == nbb_cell_id) {\n                        if (nbb_cells[i].get_text() == nbb_unformatted_code) {\n                             nbb_cells[i].set_text(nbb_formatted_code);\n                        }\n                        break;\n                    }\n                }\n            }, 500);\n            ",
            "text/plain": [
              "<IPython.core.display.Javascript object>"
            ]
          },
          "metadata": {},
          "output_type": "display_data"
        }
      ],
      "source": [
        "# Synthetic Minority Over Sampling Technique\n",
        "sm = SMOTE(sampling_strategy=1, k_neighbors=5, random_state=1)\n",
        "X_over1, y_over1 = sm.fit_resample(X1, Y1)"
      ]
    },
    {
      "cell_type": "code",
      "execution_count": 171,
      "metadata": {},
      "outputs": [
        {
          "data": {
            "application/javascript": "\n            setTimeout(function() {\n                var nbb_cell_id = 171;\n                var nbb_unformatted_code = \"rus = RandomUnderSampler(random_state=1, sampling_strategy=1)\\nX_un1, y_un1 = rus.fit_resample(X1, Y1)\";\n                var nbb_formatted_code = \"rus = RandomUnderSampler(random_state=1, sampling_strategy=1)\\nX_un1, y_un1 = rus.fit_resample(X1, Y1)\";\n                var nbb_cells = Jupyter.notebook.get_cells();\n                for (var i = 0; i < nbb_cells.length; ++i) {\n                    if (nbb_cells[i].input_prompt_number == nbb_cell_id) {\n                        if (nbb_cells[i].get_text() == nbb_unformatted_code) {\n                             nbb_cells[i].set_text(nbb_formatted_code);\n                        }\n                        break;\n                    }\n                }\n            }, 500);\n            ",
            "text/plain": [
              "<IPython.core.display.Javascript object>"
            ]
          },
          "metadata": {},
          "output_type": "display_data"
        }
      ],
      "source": [
        "rus = RandomUnderSampler(random_state=1, sampling_strategy=1)\n",
        "X_un1, y_un1 = rus.fit_resample(X1, Y1)"
      ]
    },
    {
      "cell_type": "code",
      "execution_count": 177,
      "metadata": {
        "id": "AWI12Lh5bp1M"
      },
      "outputs": [
        {
          "data": {
            "text/html": [
              "<style>#sk-container-id-10 {color: black;background-color: white;}#sk-container-id-10 pre{padding: 0;}#sk-container-id-10 div.sk-toggleable {background-color: white;}#sk-container-id-10 label.sk-toggleable__label {cursor: pointer;display: block;width: 100%;margin-bottom: 0;padding: 0.3em;box-sizing: border-box;text-align: center;}#sk-container-id-10 label.sk-toggleable__label-arrow:before {content: \"▸\";float: left;margin-right: 0.25em;color: #696969;}#sk-container-id-10 label.sk-toggleable__label-arrow:hover:before {color: black;}#sk-container-id-10 div.sk-estimator:hover label.sk-toggleable__label-arrow:before {color: black;}#sk-container-id-10 div.sk-toggleable__content {max-height: 0;max-width: 0;overflow: hidden;text-align: left;background-color: #f0f8ff;}#sk-container-id-10 div.sk-toggleable__content pre {margin: 0.2em;color: black;border-radius: 0.25em;background-color: #f0f8ff;}#sk-container-id-10 input.sk-toggleable__control:checked~div.sk-toggleable__content {max-height: 200px;max-width: 100%;overflow: auto;}#sk-container-id-10 input.sk-toggleable__control:checked~label.sk-toggleable__label-arrow:before {content: \"▾\";}#sk-container-id-10 div.sk-estimator input.sk-toggleable__control:checked~label.sk-toggleable__label {background-color: #d4ebff;}#sk-container-id-10 div.sk-label input.sk-toggleable__control:checked~label.sk-toggleable__label {background-color: #d4ebff;}#sk-container-id-10 input.sk-hidden--visually {border: 0;clip: rect(1px 1px 1px 1px);clip: rect(1px, 1px, 1px, 1px);height: 1px;margin: -1px;overflow: hidden;padding: 0;position: absolute;width: 1px;}#sk-container-id-10 div.sk-estimator {font-family: monospace;background-color: #f0f8ff;border: 1px dotted black;border-radius: 0.25em;box-sizing: border-box;margin-bottom: 0.5em;}#sk-container-id-10 div.sk-estimator:hover {background-color: #d4ebff;}#sk-container-id-10 div.sk-parallel-item::after {content: \"\";width: 100%;border-bottom: 1px solid gray;flex-grow: 1;}#sk-container-id-10 div.sk-label:hover label.sk-toggleable__label {background-color: #d4ebff;}#sk-container-id-10 div.sk-serial::before {content: \"\";position: absolute;border-left: 1px solid gray;box-sizing: border-box;top: 0;bottom: 0;left: 50%;z-index: 0;}#sk-container-id-10 div.sk-serial {display: flex;flex-direction: column;align-items: center;background-color: white;padding-right: 0.2em;padding-left: 0.2em;position: relative;}#sk-container-id-10 div.sk-item {position: relative;z-index: 1;}#sk-container-id-10 div.sk-parallel {display: flex;align-items: stretch;justify-content: center;background-color: white;position: relative;}#sk-container-id-10 div.sk-item::before, #sk-container-id-10 div.sk-parallel-item::before {content: \"\";position: absolute;border-left: 1px solid gray;box-sizing: border-box;top: 0;bottom: 0;left: 50%;z-index: -1;}#sk-container-id-10 div.sk-parallel-item {display: flex;flex-direction: column;z-index: 1;position: relative;background-color: white;}#sk-container-id-10 div.sk-parallel-item:first-child::after {align-self: flex-end;width: 50%;}#sk-container-id-10 div.sk-parallel-item:last-child::after {align-self: flex-start;width: 50%;}#sk-container-id-10 div.sk-parallel-item:only-child::after {width: 0;}#sk-container-id-10 div.sk-dashed-wrapped {border: 1px dashed gray;margin: 0 0.4em 0.5em 0.4em;box-sizing: border-box;padding-bottom: 0.4em;background-color: white;}#sk-container-id-10 div.sk-label label {font-family: monospace;font-weight: bold;display: inline-block;line-height: 1.2em;}#sk-container-id-10 div.sk-label-container {text-align: center;}#sk-container-id-10 div.sk-container {/* jupyter's `normalize.less` sets `[hidden] { display: none; }` but bootstrap.min.css set `[hidden] { display: none !important; }` so we also need the `!important` here to be able to override the default hidden behavior on the sphinx rendered scikit-learn.org. See: https://github.com/scikit-learn/scikit-learn/issues/21755 */display: inline-block !important;position: relative;}#sk-container-id-10 div.sk-text-repr-fallback {display: none;}</style><div id=\"sk-container-id-10\" class=\"sk-top-container\"><div class=\"sk-text-repr-fallback\"><pre>Pipeline(steps=[(&#x27;imputer&#x27;, SimpleImputer(strategy=&#x27;median&#x27;)),\n",
              "                (&#x27;RadomForest&#x27;,\n",
              "                 RandomForestClassifier(max_samples=0.6, min_samples_leaf=2,\n",
              "                                        n_estimators=200, random_state=1))])</pre><b>In a Jupyter environment, please rerun this cell to show the HTML representation or trust the notebook. <br />On GitHub, the HTML representation is unable to render, please try loading this page with nbviewer.org.</b></div><div class=\"sk-container\" hidden><div class=\"sk-item sk-dashed-wrapped\"><div class=\"sk-label-container\"><div class=\"sk-label sk-toggleable\"><input class=\"sk-toggleable__control sk-hidden--visually\" id=\"sk-estimator-id-18\" type=\"checkbox\" ><label for=\"sk-estimator-id-18\" class=\"sk-toggleable__label sk-toggleable__label-arrow\">Pipeline</label><div class=\"sk-toggleable__content\"><pre>Pipeline(steps=[(&#x27;imputer&#x27;, SimpleImputer(strategy=&#x27;median&#x27;)),\n",
              "                (&#x27;RadomForest&#x27;,\n",
              "                 RandomForestClassifier(max_samples=0.6, min_samples_leaf=2,\n",
              "                                        n_estimators=200, random_state=1))])</pre></div></div></div><div class=\"sk-serial\"><div class=\"sk-item\"><div class=\"sk-estimator sk-toggleable\"><input class=\"sk-toggleable__control sk-hidden--visually\" id=\"sk-estimator-id-19\" type=\"checkbox\" ><label for=\"sk-estimator-id-19\" class=\"sk-toggleable__label sk-toggleable__label-arrow\">SimpleImputer</label><div class=\"sk-toggleable__content\"><pre>SimpleImputer(strategy=&#x27;median&#x27;)</pre></div></div></div><div class=\"sk-item\"><div class=\"sk-estimator sk-toggleable\"><input class=\"sk-toggleable__control sk-hidden--visually\" id=\"sk-estimator-id-20\" type=\"checkbox\" ><label for=\"sk-estimator-id-20\" class=\"sk-toggleable__label sk-toggleable__label-arrow\">RandomForestClassifier</label><div class=\"sk-toggleable__content\"><pre>RandomForestClassifier(max_samples=0.6, min_samples_leaf=2, n_estimators=200,\n",
              "                       random_state=1)</pre></div></div></div></div></div></div></div>"
            ],
            "text/plain": [
              "Pipeline(steps=[('imputer', SimpleImputer(strategy='median')),\n",
              "                ('RadomForest',\n",
              "                 RandomForestClassifier(max_samples=0.6, min_samples_leaf=2,\n",
              "                                        n_estimators=200, random_state=1))])"
            ]
          },
          "execution_count": 177,
          "metadata": {},
          "output_type": "execute_result"
        },
        {
          "data": {
            "application/javascript": "\n            setTimeout(function() {\n                var nbb_cell_id = 177;\n                var nbb_unformatted_code = \"Model.fit(X_over1, y_over1) ##  Complete the code to fit the Model obtained from above step\";\n                var nbb_formatted_code = \"Model.fit(\\n    X_over1, y_over1\\n)  ##  Complete the code to fit the Model obtained from above step\";\n                var nbb_cells = Jupyter.notebook.get_cells();\n                for (var i = 0; i < nbb_cells.length; ++i) {\n                    if (nbb_cells[i].input_prompt_number == nbb_cell_id) {\n                        if (nbb_cells[i].get_text() == nbb_unformatted_code) {\n                             nbb_cells[i].set_text(nbb_formatted_code);\n                        }\n                        break;\n                    }\n                }\n            }, 500);\n            ",
            "text/plain": [
              "<IPython.core.display.Javascript object>"
            ]
          },
          "metadata": {},
          "output_type": "display_data"
        }
      ],
      "source": [
        "Model.fit(X_over1, y_over1) ##  Complete the code to fit the Model obtained from above step"
      ]
    },
    {
      "cell_type": "code",
      "execution_count": 179,
      "metadata": {},
      "outputs": [
        {
          "data": {
            "text/html": [
              "<div>\n",
              "<style scoped>\n",
              "    .dataframe tbody tr th:only-of-type {\n",
              "        vertical-align: middle;\n",
              "    }\n",
              "\n",
              "    .dataframe tbody tr th {\n",
              "        vertical-align: top;\n",
              "    }\n",
              "\n",
              "    .dataframe thead th {\n",
              "        text-align: right;\n",
              "    }\n",
              "</style>\n",
              "<table border=\"1\" class=\"dataframe\">\n",
              "  <thead>\n",
              "    <tr style=\"text-align: right;\">\n",
              "      <th></th>\n",
              "      <th>Accuracy</th>\n",
              "      <th>Recall</th>\n",
              "      <th>Precision</th>\n",
              "      <th>F1</th>\n",
              "    </tr>\n",
              "  </thead>\n",
              "  <tbody>\n",
              "    <tr>\n",
              "      <th>0</th>\n",
              "      <td>0.998</td>\n",
              "      <td>0.997</td>\n",
              "      <td>0.999</td>\n",
              "      <td>0.998</td>\n",
              "    </tr>\n",
              "  </tbody>\n",
              "</table>\n",
              "</div>"
            ],
            "text/plain": [
              "   Accuracy  Recall  Precision    F1\n",
              "0     0.998   0.997      0.999 0.998"
            ]
          },
          "execution_count": 179,
          "metadata": {},
          "output_type": "execute_result"
        },
        {
          "data": {
            "application/javascript": "\n            setTimeout(function() {\n                var nbb_cell_id = 179;\n                var nbb_unformatted_code = \"Model_train = model_performance_classification_sklearn(Model,X_over1, y_over1)  \\nModel_train\";\n                var nbb_formatted_code = \"Model_train = model_performance_classification_sklearn(Model, X_over1, y_over1)\\nModel_train\";\n                var nbb_cells = Jupyter.notebook.get_cells();\n                for (var i = 0; i < nbb_cells.length; ++i) {\n                    if (nbb_cells[i].input_prompt_number == nbb_cell_id) {\n                        if (nbb_cells[i].get_text() == nbb_unformatted_code) {\n                             nbb_cells[i].set_text(nbb_formatted_code);\n                        }\n                        break;\n                    }\n                }\n            }, 500);\n            ",
            "text/plain": [
              "<IPython.core.display.Javascript object>"
            ]
          },
          "metadata": {},
          "output_type": "display_data"
        }
      ],
      "source": [
        "Model_train = model_performance_classification_sklearn(Model,X_over1, y_over1)  \n",
        "Model_train"
      ]
    },
    {
      "cell_type": "code",
      "execution_count": 180,
      "metadata": {
        "id": "AlKakNj7592p"
      },
      "outputs": [
        {
          "data": {
            "text/html": [
              "<div>\n",
              "<style scoped>\n",
              "    .dataframe tbody tr th:only-of-type {\n",
              "        vertical-align: middle;\n",
              "    }\n",
              "\n",
              "    .dataframe tbody tr th {\n",
              "        vertical-align: top;\n",
              "    }\n",
              "\n",
              "    .dataframe thead th {\n",
              "        text-align: right;\n",
              "    }\n",
              "</style>\n",
              "<table border=\"1\" class=\"dataframe\">\n",
              "  <thead>\n",
              "    <tr style=\"text-align: right;\">\n",
              "      <th></th>\n",
              "      <th>Accuracy</th>\n",
              "      <th>Recall</th>\n",
              "      <th>Precision</th>\n",
              "      <th>F1</th>\n",
              "    </tr>\n",
              "  </thead>\n",
              "  <tbody>\n",
              "    <tr>\n",
              "      <th>0</th>\n",
              "      <td>0.988</td>\n",
              "      <td>0.858</td>\n",
              "      <td>0.931</td>\n",
              "      <td>0.893</td>\n",
              "    </tr>\n",
              "  </tbody>\n",
              "</table>\n",
              "</div>"
            ],
            "text/plain": [
              "   Accuracy  Recall  Precision    F1\n",
              "0     0.988   0.858      0.931 0.893"
            ]
          },
          "execution_count": 180,
          "metadata": {},
          "output_type": "execute_result"
        },
        {
          "data": {
            "application/javascript": "\n            setTimeout(function() {\n                var nbb_cell_id = 180;\n                var nbb_unformatted_code = \"Model_test = model_performance_classification_sklearn(Model, X_test1, y_test1)  ## Complete the code to check the performance on test set\\nModel_test\";\n                var nbb_formatted_code = \"Model_test = model_performance_classification_sklearn(\\n    Model, X_test1, y_test1\\n)  ## Complete the code to check the performance on test set\\nModel_test\";\n                var nbb_cells = Jupyter.notebook.get_cells();\n                for (var i = 0; i < nbb_cells.length; ++i) {\n                    if (nbb_cells[i].input_prompt_number == nbb_cell_id) {\n                        if (nbb_cells[i].get_text() == nbb_unformatted_code) {\n                             nbb_cells[i].set_text(nbb_formatted_code);\n                        }\n                        break;\n                    }\n                }\n            }, 500);\n            ",
            "text/plain": [
              "<IPython.core.display.Javascript object>"
            ]
          },
          "metadata": {},
          "output_type": "display_data"
        }
      ],
      "source": [
        "Model_test = model_performance_classification_sklearn(Model, X_test1, y_test1)  ## Complete the code to check the performance on test set\n",
        "Model_test"
      ]
    }
  ],
  "metadata": {
    "colab": {
      "collapsed_sections": [
        "xypQC_9dbp0v",
        "zfmaS2U7bp0x",
        "4cVx5kZHbp02",
        "mG84hrxfbp06",
        "Lv7Bs8aUbp07",
        "zBkL6zw0bp07",
        "3CjaGOdvbp08",
        "Bp8vC9MZbp09",
        "OzOa9FGA6WtG",
        "YZqmoqz7bp0-",
        "-hOzddAXbp0_",
        "8Je_G2zN3VCF",
        "C91_6Swtbp1A",
        "fYLfDmHvbp1B",
        "zLZlKa99bp1C",
        "2FtmPS7Ubp1D",
        "Dqj6dc38bp1E",
        "XoLT8ewJ5V2d",
        "VbrQHwrKbp1C",
        "f9Yra0TCbp1E",
        "J49s-TEB41JQ",
        "gohwGn0tbp1L",
        "gxFmwam_bp1M"
      ],
      "name": "T1T1 MT_Project_LearnerNotebook_LowCode.ipynb",
      "provenance": []
    },
    "kernelspec": {
      "display_name": "Python 3.10.4 ('pgds_program')",
      "language": "python",
      "name": "python3"
    },
    "language_info": {
      "codemirror_mode": {
        "name": "ipython",
        "version": 3
      },
      "file_extension": ".py",
      "mimetype": "text/x-python",
      "name": "python",
      "nbconvert_exporter": "python",
      "pygments_lexer": "ipython3",
      "version": "3.10.4"
    },
    "vscode": {
      "interpreter": {
        "hash": "bd8679fc52dd5398e4f98a567250dce312eab9afe2f425d4935b3cd22e2107a1"
      }
    }
  },
  "nbformat": 4,
  "nbformat_minor": 0
}
